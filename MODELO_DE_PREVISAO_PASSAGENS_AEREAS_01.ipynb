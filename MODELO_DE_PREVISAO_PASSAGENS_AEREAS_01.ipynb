{
  "cells": [
    {
      "cell_type": "markdown",
      "metadata": {
        "id": "view-in-github",
        "colab_type": "text"
      },
      "source": [
        "<a href=\"https://colab.research.google.com/github/Vaniotosta/Projeto-Data-Science/blob/main/MODELO_DE_PREVISAO_PASSAGENS_AEREAS_01.ipynb\" target=\"_parent\"><img src=\"https://colab.research.google.com/assets/colab-badge.svg\" alt=\"Open In Colab\"/></a>"
      ]
    },
    {
      "cell_type": "markdown",
      "metadata": {
        "id": "8Y6oXkOS-0Qt"
      },
      "source": [
        "#**PREVISÃO DE TARIFAS PARA PASSAGENS AÉREAS**"
      ]
    },
    {
      "cell_type": "markdown",
      "metadata": {
        "id": "wLHOPWoprVYf"
      },
      "source": [
        "![](https://super.abril.com.br/wp-content/uploads/2017/08/como-o-aquecimento-global-estc3a1-atrapalhando-a-aviac3a7c3a3o-civil.png)"
      ]
    },
    {
      "cell_type": "markdown",
      "metadata": {
        "id": "mEZTU4s8_tfh"
      },
      "source": [
        "#PROBLEMA DE NEGÓCIO\n"
      ]
    },
    {
      "cell_type": "markdown",
      "metadata": {
        "id": "NpvKdYBXZrb6"
      },
      "source": [
        "Um dos  grandes desafios dentro do mundo dos negócios das companhias aéreas ou afins, é prever uma estimativa de preços justo que seja adequado ao perfil dos clientes e das empresas portadoras desses serviços. Nesse contexto, se faz importante as análises dos dados para que se possa compreender o comportamento desse clientes no intuito de gerar valor competitivo através das técnicas de aprendizado de máquinas. Sendo assim esse projeto tem como onjetivo:\n",
        "\n",
        "**- Fazer uma estimativa de preços para passagens aéreas com base nos históricos dos passageiros** "
      ]
    },
    {
      "cell_type": "markdown",
      "metadata": {
        "id": "Ugl2dyaCAXOC"
      },
      "source": [
        "## Conjunto dos dados"
      ]
    },
    {
      "cell_type": "markdown",
      "metadata": {
        "id": "gAMkxeuiARQu"
      },
      "source": [
        "Companhia Aérea: Esta coluna terá todos os tipos de companhias aéreas como Indigo, Jet Airways, Air India e muitas outras.\n",
        "\n",
        "Date_of_Journey: Esta coluna nos informará sobre a data em que a viagem do passageiro começará.\n",
        "\n",
        "Fonte: Esta coluna contém o nome do local de onde começará a viagem do passageiro.\n",
        "\n",
        "Destino: Esta coluna contém o nome do local para onde os passageiros queriam viajar.\n",
        "\n",
        "Rota: Aqui podemos saber qual é a rota pela qual os passageiros optaram por viajar desde a sua origem até ao seu destino.\n",
        "\n",
        "Arrival_Time: A hora de chegada é quando o passageiro chegará ao seu destino.\n",
        "\n",
        "Duração: Duração é todo o período de tempo que um voo levará para completar sua jornada da origem ao destino.\n",
        "\n",
        "Total_Stops: Isso nos informará em quantos lugares os voos vão parar lá para o voo em toda a viagem.\n",
        "\n",
        "Additional_Info: Nesta coluna, obteremos informações sobre comida, tipo de comida e outras comodidades.\n",
        "\n",
        "Preço: Preço do voo(referência Índia) para uma viagem completa incluindo todas as despesas antes do embarque."
      ]
    },
    {
      "cell_type": "code",
      "execution_count": 1,
      "metadata": {
        "id": "aTE7__HIATNX"
      },
      "outputs": [],
      "source": [
        "# Importação de pacotes\n",
        "import numpy as np\n",
        "import pandas as pd\n",
        "import matplotlib.pyplot as plt\n",
        "import seaborn as sns\n",
        "from sklearn.preprocessing import StandardScaler\n",
        "from sklearn.preprocessing import LabelEncoder\n",
        "# Métricas\n",
        "\n",
        "from sklearn.metrics import mean_squared_error as mse, r2_score, mean_absolute_error\n",
        "from sklearn.metrics import r2_score,mean_absolute_error\n",
        "from math import sqrt\n",
        "# modelos\n",
        "from sklearn.tree import DecisionTreeRegressor\n",
        "from sklearn.ensemble import RandomForestRegressor\n",
        "from sklearn.linear_model import LinearRegression\n",
        "from sklearn.neighbors import KNeighborsRegressor\n",
        "\n",
        "# Vakidação\n",
        "from sklearn.model_selection import KFold\n",
        "from sklearn.model_selection import cross_validate\n",
        "from sklearn.model_selection import train_test_split\n",
        "from sklearn.model_selection import GridSearchCV\n"
      ]
    },
    {
      "cell_type": "code",
      "execution_count": 2,
      "metadata": {
        "id": "_44Hjjt56NbX"
      },
      "outputs": [],
      "source": [
        "# ignorar mensagens\n",
        "import warnings \n",
        "warnings.filterwarnings('ignore')"
      ]
    },
    {
      "cell_type": "code",
      "execution_count": 3,
      "metadata": {
        "colab": {
          "base_uri": "https://localhost:8080/",
          "height": 156
        },
        "id": "66OOExazAyVz",
        "outputId": "e18710ae-2dff-4575-95de-bf544f11cd27"
      },
      "outputs": [
        {
          "output_type": "execute_result",
          "data": {
            "text/plain": [
              "     Airline Date_of_Journey    Source Destination                  Route  \\\n",
              "0     IndiGo      24/03/2019  Banglore   New Delhi              BLR → DEL   \n",
              "1  Air India       1/05/2019   Kolkata    Banglore  CCU → IXR → BBI → BLR   \n",
              "\n",
              "  Dep_Time  Arrival_Time Duration Total_Stops Additional_Info  Price  \n",
              "0    22:20  01:10 22 Mar   2h 50m    non-stop         No info   3897  \n",
              "1    05:50         13:15   7h 25m     2 stops         No info   7662  "
            ],
            "text/html": [
              "\n",
              "  <div id=\"df-03bd27ea-bd34-4d16-9568-e111c7a4dbd9\">\n",
              "    <div class=\"colab-df-container\">\n",
              "      <div>\n",
              "<style scoped>\n",
              "    .dataframe tbody tr th:only-of-type {\n",
              "        vertical-align: middle;\n",
              "    }\n",
              "\n",
              "    .dataframe tbody tr th {\n",
              "        vertical-align: top;\n",
              "    }\n",
              "\n",
              "    .dataframe thead th {\n",
              "        text-align: right;\n",
              "    }\n",
              "</style>\n",
              "<table border=\"1\" class=\"dataframe\">\n",
              "  <thead>\n",
              "    <tr style=\"text-align: right;\">\n",
              "      <th></th>\n",
              "      <th>Airline</th>\n",
              "      <th>Date_of_Journey</th>\n",
              "      <th>Source</th>\n",
              "      <th>Destination</th>\n",
              "      <th>Route</th>\n",
              "      <th>Dep_Time</th>\n",
              "      <th>Arrival_Time</th>\n",
              "      <th>Duration</th>\n",
              "      <th>Total_Stops</th>\n",
              "      <th>Additional_Info</th>\n",
              "      <th>Price</th>\n",
              "    </tr>\n",
              "  </thead>\n",
              "  <tbody>\n",
              "    <tr>\n",
              "      <th>0</th>\n",
              "      <td>IndiGo</td>\n",
              "      <td>24/03/2019</td>\n",
              "      <td>Banglore</td>\n",
              "      <td>New Delhi</td>\n",
              "      <td>BLR → DEL</td>\n",
              "      <td>22:20</td>\n",
              "      <td>01:10 22 Mar</td>\n",
              "      <td>2h 50m</td>\n",
              "      <td>non-stop</td>\n",
              "      <td>No info</td>\n",
              "      <td>3897</td>\n",
              "    </tr>\n",
              "    <tr>\n",
              "      <th>1</th>\n",
              "      <td>Air India</td>\n",
              "      <td>1/05/2019</td>\n",
              "      <td>Kolkata</td>\n",
              "      <td>Banglore</td>\n",
              "      <td>CCU → IXR → BBI → BLR</td>\n",
              "      <td>05:50</td>\n",
              "      <td>13:15</td>\n",
              "      <td>7h 25m</td>\n",
              "      <td>2 stops</td>\n",
              "      <td>No info</td>\n",
              "      <td>7662</td>\n",
              "    </tr>\n",
              "  </tbody>\n",
              "</table>\n",
              "</div>\n",
              "      <button class=\"colab-df-convert\" onclick=\"convertToInteractive('df-03bd27ea-bd34-4d16-9568-e111c7a4dbd9')\"\n",
              "              title=\"Convert this dataframe to an interactive table.\"\n",
              "              style=\"display:none;\">\n",
              "        \n",
              "  <svg xmlns=\"http://www.w3.org/2000/svg\" height=\"24px\"viewBox=\"0 0 24 24\"\n",
              "       width=\"24px\">\n",
              "    <path d=\"M0 0h24v24H0V0z\" fill=\"none\"/>\n",
              "    <path d=\"M18.56 5.44l.94 2.06.94-2.06 2.06-.94-2.06-.94-.94-2.06-.94 2.06-2.06.94zm-11 1L8.5 8.5l.94-2.06 2.06-.94-2.06-.94L8.5 2.5l-.94 2.06-2.06.94zm10 10l.94 2.06.94-2.06 2.06-.94-2.06-.94-.94-2.06-.94 2.06-2.06.94z\"/><path d=\"M17.41 7.96l-1.37-1.37c-.4-.4-.92-.59-1.43-.59-.52 0-1.04.2-1.43.59L10.3 9.45l-7.72 7.72c-.78.78-.78 2.05 0 2.83L4 21.41c.39.39.9.59 1.41.59.51 0 1.02-.2 1.41-.59l7.78-7.78 2.81-2.81c.8-.78.8-2.07 0-2.86zM5.41 20L4 18.59l7.72-7.72 1.47 1.35L5.41 20z\"/>\n",
              "  </svg>\n",
              "      </button>\n",
              "      \n",
              "  <style>\n",
              "    .colab-df-container {\n",
              "      display:flex;\n",
              "      flex-wrap:wrap;\n",
              "      gap: 12px;\n",
              "    }\n",
              "\n",
              "    .colab-df-convert {\n",
              "      background-color: #E8F0FE;\n",
              "      border: none;\n",
              "      border-radius: 50%;\n",
              "      cursor: pointer;\n",
              "      display: none;\n",
              "      fill: #1967D2;\n",
              "      height: 32px;\n",
              "      padding: 0 0 0 0;\n",
              "      width: 32px;\n",
              "    }\n",
              "\n",
              "    .colab-df-convert:hover {\n",
              "      background-color: #E2EBFA;\n",
              "      box-shadow: 0px 1px 2px rgba(60, 64, 67, 0.3), 0px 1px 3px 1px rgba(60, 64, 67, 0.15);\n",
              "      fill: #174EA6;\n",
              "    }\n",
              "\n",
              "    [theme=dark] .colab-df-convert {\n",
              "      background-color: #3B4455;\n",
              "      fill: #D2E3FC;\n",
              "    }\n",
              "\n",
              "    [theme=dark] .colab-df-convert:hover {\n",
              "      background-color: #434B5C;\n",
              "      box-shadow: 0px 1px 3px 1px rgba(0, 0, 0, 0.15);\n",
              "      filter: drop-shadow(0px 1px 2px rgba(0, 0, 0, 0.3));\n",
              "      fill: #FFFFFF;\n",
              "    }\n",
              "  </style>\n",
              "\n",
              "      <script>\n",
              "        const buttonEl =\n",
              "          document.querySelector('#df-03bd27ea-bd34-4d16-9568-e111c7a4dbd9 button.colab-df-convert');\n",
              "        buttonEl.style.display =\n",
              "          google.colab.kernel.accessAllowed ? 'block' : 'none';\n",
              "\n",
              "        async function convertToInteractive(key) {\n",
              "          const element = document.querySelector('#df-03bd27ea-bd34-4d16-9568-e111c7a4dbd9');\n",
              "          const dataTable =\n",
              "            await google.colab.kernel.invokeFunction('convertToInteractive',\n",
              "                                                     [key], {});\n",
              "          if (!dataTable) return;\n",
              "\n",
              "          const docLinkHtml = 'Like what you see? Visit the ' +\n",
              "            '<a target=\"_blank\" href=https://colab.research.google.com/notebooks/data_table.ipynb>data table notebook</a>'\n",
              "            + ' to learn more about interactive tables.';\n",
              "          element.innerHTML = '';\n",
              "          dataTable['output_type'] = 'display_data';\n",
              "          await google.colab.output.renderOutput(dataTable, element);\n",
              "          const docLink = document.createElement('div');\n",
              "          docLink.innerHTML = docLinkHtml;\n",
              "          element.appendChild(docLink);\n",
              "        }\n",
              "      </script>\n",
              "    </div>\n",
              "  </div>\n",
              "  "
            ]
          },
          "metadata": {},
          "execution_count": 3
        }
      ],
      "source": [
        "# Conexão com os dados de treino\n",
        "\n",
        "train_df = pd.read_excel(\"Data_Train.xlsx\")\n",
        "train_df.head(2)"
      ]
    },
    {
      "cell_type": "code",
      "execution_count": 4,
      "metadata": {
        "colab": {
          "base_uri": "https://localhost:8080/",
          "height": 112
        },
        "id": "BxKF3ux1ESfE",
        "outputId": "130dfd00-f66e-435f-e4fd-2a2dc26bdc4e"
      },
      "outputs": [
        {
          "output_type": "execute_result",
          "data": {
            "text/plain": [
              "       Airline Date_of_Journey   Source Destination            Route Dep_Time  \\\n",
              "0  Jet Airways       6/06/2019    Delhi      Cochin  DEL → BOM → COK    17:30   \n",
              "1       IndiGo      12/05/2019  Kolkata    Banglore  CCU → MAA → BLR    06:20   \n",
              "\n",
              "   Arrival_Time Duration Total_Stops Additional_Info  \n",
              "0  04:25 07 Jun  10h 55m      1 stop         No info  \n",
              "1         10:20       4h      1 stop         No info  "
            ],
            "text/html": [
              "\n",
              "  <div id=\"df-258781f6-86f2-4ab3-be97-c1df0c53d92a\">\n",
              "    <div class=\"colab-df-container\">\n",
              "      <div>\n",
              "<style scoped>\n",
              "    .dataframe tbody tr th:only-of-type {\n",
              "        vertical-align: middle;\n",
              "    }\n",
              "\n",
              "    .dataframe tbody tr th {\n",
              "        vertical-align: top;\n",
              "    }\n",
              "\n",
              "    .dataframe thead th {\n",
              "        text-align: right;\n",
              "    }\n",
              "</style>\n",
              "<table border=\"1\" class=\"dataframe\">\n",
              "  <thead>\n",
              "    <tr style=\"text-align: right;\">\n",
              "      <th></th>\n",
              "      <th>Airline</th>\n",
              "      <th>Date_of_Journey</th>\n",
              "      <th>Source</th>\n",
              "      <th>Destination</th>\n",
              "      <th>Route</th>\n",
              "      <th>Dep_Time</th>\n",
              "      <th>Arrival_Time</th>\n",
              "      <th>Duration</th>\n",
              "      <th>Total_Stops</th>\n",
              "      <th>Additional_Info</th>\n",
              "    </tr>\n",
              "  </thead>\n",
              "  <tbody>\n",
              "    <tr>\n",
              "      <th>0</th>\n",
              "      <td>Jet Airways</td>\n",
              "      <td>6/06/2019</td>\n",
              "      <td>Delhi</td>\n",
              "      <td>Cochin</td>\n",
              "      <td>DEL → BOM → COK</td>\n",
              "      <td>17:30</td>\n",
              "      <td>04:25 07 Jun</td>\n",
              "      <td>10h 55m</td>\n",
              "      <td>1 stop</td>\n",
              "      <td>No info</td>\n",
              "    </tr>\n",
              "    <tr>\n",
              "      <th>1</th>\n",
              "      <td>IndiGo</td>\n",
              "      <td>12/05/2019</td>\n",
              "      <td>Kolkata</td>\n",
              "      <td>Banglore</td>\n",
              "      <td>CCU → MAA → BLR</td>\n",
              "      <td>06:20</td>\n",
              "      <td>10:20</td>\n",
              "      <td>4h</td>\n",
              "      <td>1 stop</td>\n",
              "      <td>No info</td>\n",
              "    </tr>\n",
              "  </tbody>\n",
              "</table>\n",
              "</div>\n",
              "      <button class=\"colab-df-convert\" onclick=\"convertToInteractive('df-258781f6-86f2-4ab3-be97-c1df0c53d92a')\"\n",
              "              title=\"Convert this dataframe to an interactive table.\"\n",
              "              style=\"display:none;\">\n",
              "        \n",
              "  <svg xmlns=\"http://www.w3.org/2000/svg\" height=\"24px\"viewBox=\"0 0 24 24\"\n",
              "       width=\"24px\">\n",
              "    <path d=\"M0 0h24v24H0V0z\" fill=\"none\"/>\n",
              "    <path d=\"M18.56 5.44l.94 2.06.94-2.06 2.06-.94-2.06-.94-.94-2.06-.94 2.06-2.06.94zm-11 1L8.5 8.5l.94-2.06 2.06-.94-2.06-.94L8.5 2.5l-.94 2.06-2.06.94zm10 10l.94 2.06.94-2.06 2.06-.94-2.06-.94-.94-2.06-.94 2.06-2.06.94z\"/><path d=\"M17.41 7.96l-1.37-1.37c-.4-.4-.92-.59-1.43-.59-.52 0-1.04.2-1.43.59L10.3 9.45l-7.72 7.72c-.78.78-.78 2.05 0 2.83L4 21.41c.39.39.9.59 1.41.59.51 0 1.02-.2 1.41-.59l7.78-7.78 2.81-2.81c.8-.78.8-2.07 0-2.86zM5.41 20L4 18.59l7.72-7.72 1.47 1.35L5.41 20z\"/>\n",
              "  </svg>\n",
              "      </button>\n",
              "      \n",
              "  <style>\n",
              "    .colab-df-container {\n",
              "      display:flex;\n",
              "      flex-wrap:wrap;\n",
              "      gap: 12px;\n",
              "    }\n",
              "\n",
              "    .colab-df-convert {\n",
              "      background-color: #E8F0FE;\n",
              "      border: none;\n",
              "      border-radius: 50%;\n",
              "      cursor: pointer;\n",
              "      display: none;\n",
              "      fill: #1967D2;\n",
              "      height: 32px;\n",
              "      padding: 0 0 0 0;\n",
              "      width: 32px;\n",
              "    }\n",
              "\n",
              "    .colab-df-convert:hover {\n",
              "      background-color: #E2EBFA;\n",
              "      box-shadow: 0px 1px 2px rgba(60, 64, 67, 0.3), 0px 1px 3px 1px rgba(60, 64, 67, 0.15);\n",
              "      fill: #174EA6;\n",
              "    }\n",
              "\n",
              "    [theme=dark] .colab-df-convert {\n",
              "      background-color: #3B4455;\n",
              "      fill: #D2E3FC;\n",
              "    }\n",
              "\n",
              "    [theme=dark] .colab-df-convert:hover {\n",
              "      background-color: #434B5C;\n",
              "      box-shadow: 0px 1px 3px 1px rgba(0, 0, 0, 0.15);\n",
              "      filter: drop-shadow(0px 1px 2px rgba(0, 0, 0, 0.3));\n",
              "      fill: #FFFFFF;\n",
              "    }\n",
              "  </style>\n",
              "\n",
              "      <script>\n",
              "        const buttonEl =\n",
              "          document.querySelector('#df-258781f6-86f2-4ab3-be97-c1df0c53d92a button.colab-df-convert');\n",
              "        buttonEl.style.display =\n",
              "          google.colab.kernel.accessAllowed ? 'block' : 'none';\n",
              "\n",
              "        async function convertToInteractive(key) {\n",
              "          const element = document.querySelector('#df-258781f6-86f2-4ab3-be97-c1df0c53d92a');\n",
              "          const dataTable =\n",
              "            await google.colab.kernel.invokeFunction('convertToInteractive',\n",
              "                                                     [key], {});\n",
              "          if (!dataTable) return;\n",
              "\n",
              "          const docLinkHtml = 'Like what you see? Visit the ' +\n",
              "            '<a target=\"_blank\" href=https://colab.research.google.com/notebooks/data_table.ipynb>data table notebook</a>'\n",
              "            + ' to learn more about interactive tables.';\n",
              "          element.innerHTML = '';\n",
              "          dataTable['output_type'] = 'display_data';\n",
              "          await google.colab.output.renderOutput(dataTable, element);\n",
              "          const docLink = document.createElement('div');\n",
              "          docLink.innerHTML = docLinkHtml;\n",
              "          element.appendChild(docLink);\n",
              "        }\n",
              "      </script>\n",
              "    </div>\n",
              "  </div>\n",
              "  "
            ]
          },
          "metadata": {},
          "execution_count": 4
        }
      ],
      "source": [
        "# Conexão com os dados de teste\n",
        "test_df = pd.read_excel(\"/content/Test_set.xlsx\")\n",
        "test_df.head(2)"
      ]
    },
    {
      "cell_type": "markdown",
      "metadata": {
        "id": "pW1z9UdONqaP"
      },
      "source": [
        "- OBSERVANDO OS DADOS DE TREINO"
      ]
    },
    {
      "cell_type": "code",
      "execution_count": 5,
      "metadata": {
        "colab": {
          "base_uri": "https://localhost:8080/"
        },
        "id": "pfEYkAVLHD4Y",
        "outputId": "703508d9-e558-41e8-c399-5a577fbc2fda"
      },
      "outputs": [
        {
          "output_type": "execute_result",
          "data": {
            "text/plain": [
              "Index(['Airline', 'Date_of_Journey', 'Source', 'Destination', 'Route',\n",
              "       'Dep_Time', 'Arrival_Time', 'Duration', 'Total_Stops',\n",
              "       'Additional_Info', 'Price'],\n",
              "      dtype='object')"
            ]
          },
          "metadata": {},
          "execution_count": 5
        }
      ],
      "source": [
        "train_df.columns\n"
      ]
    },
    {
      "cell_type": "markdown",
      "metadata": {
        "id": "OeSffd7OIsU4"
      },
      "source": [
        "Muitas variávies objetos e poucos nulos, requer tratamentos! "
      ]
    },
    {
      "cell_type": "code",
      "execution_count": 6,
      "metadata": {
        "colab": {
          "base_uri": "https://localhost:8080/"
        },
        "id": "VABnHq2UH6rZ",
        "outputId": "16dec13d-076f-43f8-e373-edd1d39b8ce7"
      },
      "outputs": [
        {
          "output_type": "stream",
          "name": "stdout",
          "text": [
            "<class 'pandas.core.frame.DataFrame'>\n",
            "RangeIndex: 10683 entries, 0 to 10682\n",
            "Data columns (total 11 columns):\n",
            " #   Column           Non-Null Count  Dtype \n",
            "---  ------           --------------  ----- \n",
            " 0   Airline          10683 non-null  object\n",
            " 1   Date_of_Journey  10683 non-null  object\n",
            " 2   Source           10683 non-null  object\n",
            " 3   Destination      10683 non-null  object\n",
            " 4   Route            10682 non-null  object\n",
            " 5   Dep_Time         10683 non-null  object\n",
            " 6   Arrival_Time     10683 non-null  object\n",
            " 7   Duration         10683 non-null  object\n",
            " 8   Total_Stops      10682 non-null  object\n",
            " 9   Additional_Info  10683 non-null  object\n",
            " 10  Price            10683 non-null  int64 \n",
            "dtypes: int64(1), object(10)\n",
            "memory usage: 918.2+ KB\n"
          ]
        }
      ],
      "source": [
        "# byscando informação treino\n",
        "train_df.info()"
      ]
    },
    {
      "cell_type": "code",
      "execution_count": 7,
      "metadata": {
        "colab": {
          "base_uri": "https://localhost:8080/"
        },
        "id": "ugYzrPbXJfxX",
        "outputId": "6c9f8549-b02a-446a-e1f0-55cae084b4fe"
      },
      "outputs": [
        {
          "output_type": "execute_result",
          "data": {
            "text/plain": [
              "Airline            0\n",
              "Date_of_Journey    0\n",
              "Source             0\n",
              "Destination        0\n",
              "Route              1\n",
              "Dep_Time           0\n",
              "Arrival_Time       0\n",
              "Duration           0\n",
              "Total_Stops        1\n",
              "Additional_Info    0\n",
              "Price              0\n",
              "dtype: int64"
            ]
          },
          "metadata": {},
          "execution_count": 7
        }
      ],
      "source": [
        "# Verifica valores Missing\n",
        "train_df.isnull().sum()\n"
      ]
    },
    {
      "cell_type": "markdown",
      "metadata": {
        "id": "xfsq3VulMEjv"
      },
      "source": [
        "Como tinha apenas 2 dados nulos , foi escolhido eliminá-los"
      ]
    },
    {
      "cell_type": "code",
      "execution_count": 8,
      "metadata": {
        "id": "sOXPC5FeLSeM"
      },
      "outputs": [],
      "source": [
        "# excluindo dados nulos dos treino\n",
        "train_df.dropna(inplace= True)"
      ]
    },
    {
      "cell_type": "code",
      "execution_count": 9,
      "metadata": {
        "colab": {
          "base_uri": "https://localhost:8080/",
          "height": 300
        },
        "id": "heuq8HMlOKO5",
        "outputId": "c9904906-2100-4f2b-ebd9-404027fcecf0"
      },
      "outputs": [
        {
          "output_type": "execute_result",
          "data": {
            "text/plain": [
              "              Price\n",
              "count  10682.000000\n",
              "mean    9087.214567\n",
              "std     4611.548810\n",
              "min     1759.000000\n",
              "25%     5277.000000\n",
              "50%     8372.000000\n",
              "75%    12373.000000\n",
              "max    79512.000000"
            ],
            "text/html": [
              "\n",
              "  <div id=\"df-eb2e2eeb-e2ce-4ab1-a0d5-ef76ca40094b\">\n",
              "    <div class=\"colab-df-container\">\n",
              "      <div>\n",
              "<style scoped>\n",
              "    .dataframe tbody tr th:only-of-type {\n",
              "        vertical-align: middle;\n",
              "    }\n",
              "\n",
              "    .dataframe tbody tr th {\n",
              "        vertical-align: top;\n",
              "    }\n",
              "\n",
              "    .dataframe thead th {\n",
              "        text-align: right;\n",
              "    }\n",
              "</style>\n",
              "<table border=\"1\" class=\"dataframe\">\n",
              "  <thead>\n",
              "    <tr style=\"text-align: right;\">\n",
              "      <th></th>\n",
              "      <th>Price</th>\n",
              "    </tr>\n",
              "  </thead>\n",
              "  <tbody>\n",
              "    <tr>\n",
              "      <th>count</th>\n",
              "      <td>10682.000000</td>\n",
              "    </tr>\n",
              "    <tr>\n",
              "      <th>mean</th>\n",
              "      <td>9087.214567</td>\n",
              "    </tr>\n",
              "    <tr>\n",
              "      <th>std</th>\n",
              "      <td>4611.548810</td>\n",
              "    </tr>\n",
              "    <tr>\n",
              "      <th>min</th>\n",
              "      <td>1759.000000</td>\n",
              "    </tr>\n",
              "    <tr>\n",
              "      <th>25%</th>\n",
              "      <td>5277.000000</td>\n",
              "    </tr>\n",
              "    <tr>\n",
              "      <th>50%</th>\n",
              "      <td>8372.000000</td>\n",
              "    </tr>\n",
              "    <tr>\n",
              "      <th>75%</th>\n",
              "      <td>12373.000000</td>\n",
              "    </tr>\n",
              "    <tr>\n",
              "      <th>max</th>\n",
              "      <td>79512.000000</td>\n",
              "    </tr>\n",
              "  </tbody>\n",
              "</table>\n",
              "</div>\n",
              "      <button class=\"colab-df-convert\" onclick=\"convertToInteractive('df-eb2e2eeb-e2ce-4ab1-a0d5-ef76ca40094b')\"\n",
              "              title=\"Convert this dataframe to an interactive table.\"\n",
              "              style=\"display:none;\">\n",
              "        \n",
              "  <svg xmlns=\"http://www.w3.org/2000/svg\" height=\"24px\"viewBox=\"0 0 24 24\"\n",
              "       width=\"24px\">\n",
              "    <path d=\"M0 0h24v24H0V0z\" fill=\"none\"/>\n",
              "    <path d=\"M18.56 5.44l.94 2.06.94-2.06 2.06-.94-2.06-.94-.94-2.06-.94 2.06-2.06.94zm-11 1L8.5 8.5l.94-2.06 2.06-.94-2.06-.94L8.5 2.5l-.94 2.06-2.06.94zm10 10l.94 2.06.94-2.06 2.06-.94-2.06-.94-.94-2.06-.94 2.06-2.06.94z\"/><path d=\"M17.41 7.96l-1.37-1.37c-.4-.4-.92-.59-1.43-.59-.52 0-1.04.2-1.43.59L10.3 9.45l-7.72 7.72c-.78.78-.78 2.05 0 2.83L4 21.41c.39.39.9.59 1.41.59.51 0 1.02-.2 1.41-.59l7.78-7.78 2.81-2.81c.8-.78.8-2.07 0-2.86zM5.41 20L4 18.59l7.72-7.72 1.47 1.35L5.41 20z\"/>\n",
              "  </svg>\n",
              "      </button>\n",
              "      \n",
              "  <style>\n",
              "    .colab-df-container {\n",
              "      display:flex;\n",
              "      flex-wrap:wrap;\n",
              "      gap: 12px;\n",
              "    }\n",
              "\n",
              "    .colab-df-convert {\n",
              "      background-color: #E8F0FE;\n",
              "      border: none;\n",
              "      border-radius: 50%;\n",
              "      cursor: pointer;\n",
              "      display: none;\n",
              "      fill: #1967D2;\n",
              "      height: 32px;\n",
              "      padding: 0 0 0 0;\n",
              "      width: 32px;\n",
              "    }\n",
              "\n",
              "    .colab-df-convert:hover {\n",
              "      background-color: #E2EBFA;\n",
              "      box-shadow: 0px 1px 2px rgba(60, 64, 67, 0.3), 0px 1px 3px 1px rgba(60, 64, 67, 0.15);\n",
              "      fill: #174EA6;\n",
              "    }\n",
              "\n",
              "    [theme=dark] .colab-df-convert {\n",
              "      background-color: #3B4455;\n",
              "      fill: #D2E3FC;\n",
              "    }\n",
              "\n",
              "    [theme=dark] .colab-df-convert:hover {\n",
              "      background-color: #434B5C;\n",
              "      box-shadow: 0px 1px 3px 1px rgba(0, 0, 0, 0.15);\n",
              "      filter: drop-shadow(0px 1px 2px rgba(0, 0, 0, 0.3));\n",
              "      fill: #FFFFFF;\n",
              "    }\n",
              "  </style>\n",
              "\n",
              "      <script>\n",
              "        const buttonEl =\n",
              "          document.querySelector('#df-eb2e2eeb-e2ce-4ab1-a0d5-ef76ca40094b button.colab-df-convert');\n",
              "        buttonEl.style.display =\n",
              "          google.colab.kernel.accessAllowed ? 'block' : 'none';\n",
              "\n",
              "        async function convertToInteractive(key) {\n",
              "          const element = document.querySelector('#df-eb2e2eeb-e2ce-4ab1-a0d5-ef76ca40094b');\n",
              "          const dataTable =\n",
              "            await google.colab.kernel.invokeFunction('convertToInteractive',\n",
              "                                                     [key], {});\n",
              "          if (!dataTable) return;\n",
              "\n",
              "          const docLinkHtml = 'Like what you see? Visit the ' +\n",
              "            '<a target=\"_blank\" href=https://colab.research.google.com/notebooks/data_table.ipynb>data table notebook</a>'\n",
              "            + ' to learn more about interactive tables.';\n",
              "          element.innerHTML = '';\n",
              "          dataTable['output_type'] = 'display_data';\n",
              "          await google.colab.output.renderOutput(dataTable, element);\n",
              "          const docLink = document.createElement('div');\n",
              "          docLink.innerHTML = docLinkHtml;\n",
              "          element.appendChild(docLink);\n",
              "        }\n",
              "      </script>\n",
              "    </div>\n",
              "  </div>\n",
              "  "
            ]
          },
          "metadata": {},
          "execution_count": 9
        }
      ],
      "source": [
        "train_df.describe()"
      ]
    },
    {
      "cell_type": "markdown",
      "metadata": {
        "id": "TSqb3lJtTXSL"
      },
      "source": [
        "- O describe demonstra que os preços variam entre 1759 e 79512, sendo que 50% desses valores concentra-se até 8372, isso significa que pode existir serviços diferenciados e/ou clientes que expliquem esses outikiers."
      ]
    },
    {
      "cell_type": "code",
      "execution_count": 10,
      "metadata": {
        "colab": {
          "base_uri": "https://localhost:8080/",
          "height": 320
        },
        "id": "AJ-VjMgXMcLg",
        "outputId": "7b8a79d3-469f-4f8a-edd3-e000429985b5"
      },
      "outputs": [
        {
          "output_type": "execute_result",
          "data": {
            "text/plain": [
              "          Airline Date_of_Journey    Source Destination  \\\n",
              "683   Jet Airways       1/06/2019     Delhi      Cochin   \n",
              "1061    Air India      21/05/2019     Delhi      Cochin   \n",
              "1348    Air India      18/05/2019     Delhi      Cochin   \n",
              "1418  Jet Airways       6/06/2019     Delhi      Cochin   \n",
              "1674       IndiGo      24/03/2019  Banglore   New Delhi   \n",
              "\n",
              "                      Route Dep_Time  Arrival_Time Duration Total_Stops  \\\n",
              "683   DEL → NAG → BOM → COK    14:35  04:25 02 Jun  13h 50m     2 stops   \n",
              "1061  DEL → GOI → BOM → COK    22:00  19:15 22 May  21h 15m     2 stops   \n",
              "1348  DEL → HYD → BOM → COK    17:15  19:15 19 May      26h     2 stops   \n",
              "1418  DEL → JAI → BOM → COK    05:30  04:25 07 Jun  22h 55m     2 stops   \n",
              "1674              BLR → DEL    18:25         21:20   2h 55m    non-stop   \n",
              "\n",
              "                  Additional_Info  Price  \n",
              "683                       No info  13376  \n",
              "1061                      No info  10231  \n",
              "1348                      No info  12392  \n",
              "1418  In-flight meal not included  10368  \n",
              "1674                      No info   7303  "
            ],
            "text/html": [
              "\n",
              "  <div id=\"df-2364a23d-1c4c-4ee3-8ed4-4c0265119bf9\">\n",
              "    <div class=\"colab-df-container\">\n",
              "      <div>\n",
              "<style scoped>\n",
              "    .dataframe tbody tr th:only-of-type {\n",
              "        vertical-align: middle;\n",
              "    }\n",
              "\n",
              "    .dataframe tbody tr th {\n",
              "        vertical-align: top;\n",
              "    }\n",
              "\n",
              "    .dataframe thead th {\n",
              "        text-align: right;\n",
              "    }\n",
              "</style>\n",
              "<table border=\"1\" class=\"dataframe\">\n",
              "  <thead>\n",
              "    <tr style=\"text-align: right;\">\n",
              "      <th></th>\n",
              "      <th>Airline</th>\n",
              "      <th>Date_of_Journey</th>\n",
              "      <th>Source</th>\n",
              "      <th>Destination</th>\n",
              "      <th>Route</th>\n",
              "      <th>Dep_Time</th>\n",
              "      <th>Arrival_Time</th>\n",
              "      <th>Duration</th>\n",
              "      <th>Total_Stops</th>\n",
              "      <th>Additional_Info</th>\n",
              "      <th>Price</th>\n",
              "    </tr>\n",
              "  </thead>\n",
              "  <tbody>\n",
              "    <tr>\n",
              "      <th>683</th>\n",
              "      <td>Jet Airways</td>\n",
              "      <td>1/06/2019</td>\n",
              "      <td>Delhi</td>\n",
              "      <td>Cochin</td>\n",
              "      <td>DEL → NAG → BOM → COK</td>\n",
              "      <td>14:35</td>\n",
              "      <td>04:25 02 Jun</td>\n",
              "      <td>13h 50m</td>\n",
              "      <td>2 stops</td>\n",
              "      <td>No info</td>\n",
              "      <td>13376</td>\n",
              "    </tr>\n",
              "    <tr>\n",
              "      <th>1061</th>\n",
              "      <td>Air India</td>\n",
              "      <td>21/05/2019</td>\n",
              "      <td>Delhi</td>\n",
              "      <td>Cochin</td>\n",
              "      <td>DEL → GOI → BOM → COK</td>\n",
              "      <td>22:00</td>\n",
              "      <td>19:15 22 May</td>\n",
              "      <td>21h 15m</td>\n",
              "      <td>2 stops</td>\n",
              "      <td>No info</td>\n",
              "      <td>10231</td>\n",
              "    </tr>\n",
              "    <tr>\n",
              "      <th>1348</th>\n",
              "      <td>Air India</td>\n",
              "      <td>18/05/2019</td>\n",
              "      <td>Delhi</td>\n",
              "      <td>Cochin</td>\n",
              "      <td>DEL → HYD → BOM → COK</td>\n",
              "      <td>17:15</td>\n",
              "      <td>19:15 19 May</td>\n",
              "      <td>26h</td>\n",
              "      <td>2 stops</td>\n",
              "      <td>No info</td>\n",
              "      <td>12392</td>\n",
              "    </tr>\n",
              "    <tr>\n",
              "      <th>1418</th>\n",
              "      <td>Jet Airways</td>\n",
              "      <td>6/06/2019</td>\n",
              "      <td>Delhi</td>\n",
              "      <td>Cochin</td>\n",
              "      <td>DEL → JAI → BOM → COK</td>\n",
              "      <td>05:30</td>\n",
              "      <td>04:25 07 Jun</td>\n",
              "      <td>22h 55m</td>\n",
              "      <td>2 stops</td>\n",
              "      <td>In-flight meal not included</td>\n",
              "      <td>10368</td>\n",
              "    </tr>\n",
              "    <tr>\n",
              "      <th>1674</th>\n",
              "      <td>IndiGo</td>\n",
              "      <td>24/03/2019</td>\n",
              "      <td>Banglore</td>\n",
              "      <td>New Delhi</td>\n",
              "      <td>BLR → DEL</td>\n",
              "      <td>18:25</td>\n",
              "      <td>21:20</td>\n",
              "      <td>2h 55m</td>\n",
              "      <td>non-stop</td>\n",
              "      <td>No info</td>\n",
              "      <td>7303</td>\n",
              "    </tr>\n",
              "  </tbody>\n",
              "</table>\n",
              "</div>\n",
              "      <button class=\"colab-df-convert\" onclick=\"convertToInteractive('df-2364a23d-1c4c-4ee3-8ed4-4c0265119bf9')\"\n",
              "              title=\"Convert this dataframe to an interactive table.\"\n",
              "              style=\"display:none;\">\n",
              "        \n",
              "  <svg xmlns=\"http://www.w3.org/2000/svg\" height=\"24px\"viewBox=\"0 0 24 24\"\n",
              "       width=\"24px\">\n",
              "    <path d=\"M0 0h24v24H0V0z\" fill=\"none\"/>\n",
              "    <path d=\"M18.56 5.44l.94 2.06.94-2.06 2.06-.94-2.06-.94-.94-2.06-.94 2.06-2.06.94zm-11 1L8.5 8.5l.94-2.06 2.06-.94-2.06-.94L8.5 2.5l-.94 2.06-2.06.94zm10 10l.94 2.06.94-2.06 2.06-.94-2.06-.94-.94-2.06-.94 2.06-2.06.94z\"/><path d=\"M17.41 7.96l-1.37-1.37c-.4-.4-.92-.59-1.43-.59-.52 0-1.04.2-1.43.59L10.3 9.45l-7.72 7.72c-.78.78-.78 2.05 0 2.83L4 21.41c.39.39.9.59 1.41.59.51 0 1.02-.2 1.41-.59l7.78-7.78 2.81-2.81c.8-.78.8-2.07 0-2.86zM5.41 20L4 18.59l7.72-7.72 1.47 1.35L5.41 20z\"/>\n",
              "  </svg>\n",
              "      </button>\n",
              "      \n",
              "  <style>\n",
              "    .colab-df-container {\n",
              "      display:flex;\n",
              "      flex-wrap:wrap;\n",
              "      gap: 12px;\n",
              "    }\n",
              "\n",
              "    .colab-df-convert {\n",
              "      background-color: #E8F0FE;\n",
              "      border: none;\n",
              "      border-radius: 50%;\n",
              "      cursor: pointer;\n",
              "      display: none;\n",
              "      fill: #1967D2;\n",
              "      height: 32px;\n",
              "      padding: 0 0 0 0;\n",
              "      width: 32px;\n",
              "    }\n",
              "\n",
              "    .colab-df-convert:hover {\n",
              "      background-color: #E2EBFA;\n",
              "      box-shadow: 0px 1px 2px rgba(60, 64, 67, 0.3), 0px 1px 3px 1px rgba(60, 64, 67, 0.15);\n",
              "      fill: #174EA6;\n",
              "    }\n",
              "\n",
              "    [theme=dark] .colab-df-convert {\n",
              "      background-color: #3B4455;\n",
              "      fill: #D2E3FC;\n",
              "    }\n",
              "\n",
              "    [theme=dark] .colab-df-convert:hover {\n",
              "      background-color: #434B5C;\n",
              "      box-shadow: 0px 1px 3px 1px rgba(0, 0, 0, 0.15);\n",
              "      filter: drop-shadow(0px 1px 2px rgba(0, 0, 0, 0.3));\n",
              "      fill: #FFFFFF;\n",
              "    }\n",
              "  </style>\n",
              "\n",
              "      <script>\n",
              "        const buttonEl =\n",
              "          document.querySelector('#df-2364a23d-1c4c-4ee3-8ed4-4c0265119bf9 button.colab-df-convert');\n",
              "        buttonEl.style.display =\n",
              "          google.colab.kernel.accessAllowed ? 'block' : 'none';\n",
              "\n",
              "        async function convertToInteractive(key) {\n",
              "          const element = document.querySelector('#df-2364a23d-1c4c-4ee3-8ed4-4c0265119bf9');\n",
              "          const dataTable =\n",
              "            await google.colab.kernel.invokeFunction('convertToInteractive',\n",
              "                                                     [key], {});\n",
              "          if (!dataTable) return;\n",
              "\n",
              "          const docLinkHtml = 'Like what you see? Visit the ' +\n",
              "            '<a target=\"_blank\" href=https://colab.research.google.com/notebooks/data_table.ipynb>data table notebook</a>'\n",
              "            + ' to learn more about interactive tables.';\n",
              "          element.innerHTML = '';\n",
              "          dataTable['output_type'] = 'display_data';\n",
              "          await google.colab.output.renderOutput(dataTable, element);\n",
              "          const docLink = document.createElement('div');\n",
              "          docLink.innerHTML = docLinkHtml;\n",
              "          element.appendChild(docLink);\n",
              "        }\n",
              "      </script>\n",
              "    </div>\n",
              "  </div>\n",
              "  "
            ]
          },
          "metadata": {},
          "execution_count": 10
        }
      ],
      "source": [
        "# Verifica valores  Duplicados\n",
        "train_df[train_df.duplicated()].head()"
      ]
    },
    {
      "cell_type": "code",
      "execution_count": 11,
      "metadata": {
        "id": "MZkdb5pQNA1A"
      },
      "outputs": [],
      "source": [
        "# Elimina valor duplicado mantendo o 1° registro.\n",
        "train_df.drop_duplicates(keep='first',inplace=True)"
      ]
    },
    {
      "cell_type": "markdown",
      "metadata": {
        "id": "83cKgnhpN80j"
      },
      "source": [
        "- OBSERVANDO OS DADOS DE TESTE"
      ]
    },
    {
      "cell_type": "code",
      "execution_count": 12,
      "metadata": {
        "colab": {
          "base_uri": "https://localhost:8080/"
        },
        "id": "sWIZC7rpJNP9",
        "outputId": "5fc19a80-6e59-4bd7-8043-7c52f14cf098"
      },
      "outputs": [
        {
          "output_type": "stream",
          "name": "stdout",
          "text": [
            "<class 'pandas.core.frame.DataFrame'>\n",
            "RangeIndex: 2671 entries, 0 to 2670\n",
            "Data columns (total 10 columns):\n",
            " #   Column           Non-Null Count  Dtype \n",
            "---  ------           --------------  ----- \n",
            " 0   Airline          2671 non-null   object\n",
            " 1   Date_of_Journey  2671 non-null   object\n",
            " 2   Source           2671 non-null   object\n",
            " 3   Destination      2671 non-null   object\n",
            " 4   Route            2671 non-null   object\n",
            " 5   Dep_Time         2671 non-null   object\n",
            " 6   Arrival_Time     2671 non-null   object\n",
            " 7   Duration         2671 non-null   object\n",
            " 8   Total_Stops      2671 non-null   object\n",
            " 9   Additional_Info  2671 non-null   object\n",
            "dtypes: object(10)\n",
            "memory usage: 208.8+ KB\n"
          ]
        }
      ],
      "source": [
        "# dados de treino sem nulo\n",
        "test_df.info()"
      ]
    },
    {
      "cell_type": "code",
      "execution_count": 13,
      "metadata": {
        "colab": {
          "base_uri": "https://localhost:8080/"
        },
        "id": "w4eQhPHNK2PN",
        "outputId": "af131625-7739-416b-90dd-6a59ca7d1d11"
      },
      "outputs": [
        {
          "output_type": "execute_result",
          "data": {
            "text/plain": [
              "Airline            0\n",
              "Date_of_Journey    0\n",
              "Source             0\n",
              "Destination        0\n",
              "Route              0\n",
              "Dep_Time           0\n",
              "Arrival_Time       0\n",
              "Duration           0\n",
              "Total_Stops        0\n",
              "Additional_Info    0\n",
              "dtype: int64"
            ]
          },
          "metadata": {},
          "execution_count": 13
        }
      ],
      "source": [
        "test_df.isnull().sum()"
      ]
    },
    {
      "cell_type": "code",
      "execution_count": 14,
      "metadata": {
        "colab": {
          "base_uri": "https://localhost:8080/"
        },
        "id": "q-lEb-3HHwIi",
        "outputId": "fd94f879-bc1d-42f5-f1be-ee3a18db98f8"
      },
      "outputs": [
        {
          "output_type": "execute_result",
          "data": {
            "text/plain": [
              "Index(['Airline', 'Date_of_Journey', 'Source', 'Destination', 'Route',\n",
              "       'Dep_Time', 'Arrival_Time', 'Duration', 'Total_Stops',\n",
              "       'Additional_Info'],\n",
              "      dtype='object')"
            ]
          },
          "metadata": {},
          "execution_count": 14
        }
      ],
      "source": [
        "test_df.columns"
      ]
    },
    {
      "cell_type": "code",
      "execution_count": 15,
      "metadata": {
        "colab": {
          "base_uri": "https://localhost:8080/",
          "height": 320
        },
        "id": "UIn2W2JYOeWJ",
        "outputId": "626addaa-6379-4807-ce3d-b352f6f6a2e7"
      },
      "outputs": [
        {
          "output_type": "execute_result",
          "data": {
            "text/plain": [
              "          Airline Date_of_Journey    Source Destination  \\\n",
              "294   Jet Airways      12/06/2019     Delhi      Cochin   \n",
              "794   Jet Airways      12/06/2019     Delhi      Cochin   \n",
              "909        IndiGo      24/03/2019  Banglore   New Delhi   \n",
              "974     Air India      12/06/2019   Kolkata    Banglore   \n",
              "1011  Jet Airways       9/05/2019     Delhi      Cochin   \n",
              "\n",
              "                      Route Dep_Time  Arrival_Time Duration Total_Stops  \\\n",
              "294   DEL → JAI → BOM → COK    05:30  04:25 13 Jun  22h 55m     2 stops   \n",
              "794   DEL → JAI → BOM → COK    05:30  04:25 13 Jun  22h 55m     2 stops   \n",
              "909               BLR → DEL    20:00         22:55   2h 55m    non-stop   \n",
              "974   CCU → DEL → AMD → BLR    07:00  05:25 13 Jun  22h 25m     2 stops   \n",
              "1011  DEL → JAI → BOM → COK    05:30  04:25 10 May  22h 55m     2 stops   \n",
              "\n",
              "                  Additional_Info  \n",
              "294                       No info  \n",
              "794   In-flight meal not included  \n",
              "909                       No info  \n",
              "974                       No info  \n",
              "1011                      No info  "
            ],
            "text/html": [
              "\n",
              "  <div id=\"df-7652a400-dc26-46f9-b0b2-486fcfce0961\">\n",
              "    <div class=\"colab-df-container\">\n",
              "      <div>\n",
              "<style scoped>\n",
              "    .dataframe tbody tr th:only-of-type {\n",
              "        vertical-align: middle;\n",
              "    }\n",
              "\n",
              "    .dataframe tbody tr th {\n",
              "        vertical-align: top;\n",
              "    }\n",
              "\n",
              "    .dataframe thead th {\n",
              "        text-align: right;\n",
              "    }\n",
              "</style>\n",
              "<table border=\"1\" class=\"dataframe\">\n",
              "  <thead>\n",
              "    <tr style=\"text-align: right;\">\n",
              "      <th></th>\n",
              "      <th>Airline</th>\n",
              "      <th>Date_of_Journey</th>\n",
              "      <th>Source</th>\n",
              "      <th>Destination</th>\n",
              "      <th>Route</th>\n",
              "      <th>Dep_Time</th>\n",
              "      <th>Arrival_Time</th>\n",
              "      <th>Duration</th>\n",
              "      <th>Total_Stops</th>\n",
              "      <th>Additional_Info</th>\n",
              "    </tr>\n",
              "  </thead>\n",
              "  <tbody>\n",
              "    <tr>\n",
              "      <th>294</th>\n",
              "      <td>Jet Airways</td>\n",
              "      <td>12/06/2019</td>\n",
              "      <td>Delhi</td>\n",
              "      <td>Cochin</td>\n",
              "      <td>DEL → JAI → BOM → COK</td>\n",
              "      <td>05:30</td>\n",
              "      <td>04:25 13 Jun</td>\n",
              "      <td>22h 55m</td>\n",
              "      <td>2 stops</td>\n",
              "      <td>No info</td>\n",
              "    </tr>\n",
              "    <tr>\n",
              "      <th>794</th>\n",
              "      <td>Jet Airways</td>\n",
              "      <td>12/06/2019</td>\n",
              "      <td>Delhi</td>\n",
              "      <td>Cochin</td>\n",
              "      <td>DEL → JAI → BOM → COK</td>\n",
              "      <td>05:30</td>\n",
              "      <td>04:25 13 Jun</td>\n",
              "      <td>22h 55m</td>\n",
              "      <td>2 stops</td>\n",
              "      <td>In-flight meal not included</td>\n",
              "    </tr>\n",
              "    <tr>\n",
              "      <th>909</th>\n",
              "      <td>IndiGo</td>\n",
              "      <td>24/03/2019</td>\n",
              "      <td>Banglore</td>\n",
              "      <td>New Delhi</td>\n",
              "      <td>BLR → DEL</td>\n",
              "      <td>20:00</td>\n",
              "      <td>22:55</td>\n",
              "      <td>2h 55m</td>\n",
              "      <td>non-stop</td>\n",
              "      <td>No info</td>\n",
              "    </tr>\n",
              "    <tr>\n",
              "      <th>974</th>\n",
              "      <td>Air India</td>\n",
              "      <td>12/06/2019</td>\n",
              "      <td>Kolkata</td>\n",
              "      <td>Banglore</td>\n",
              "      <td>CCU → DEL → AMD → BLR</td>\n",
              "      <td>07:00</td>\n",
              "      <td>05:25 13 Jun</td>\n",
              "      <td>22h 25m</td>\n",
              "      <td>2 stops</td>\n",
              "      <td>No info</td>\n",
              "    </tr>\n",
              "    <tr>\n",
              "      <th>1011</th>\n",
              "      <td>Jet Airways</td>\n",
              "      <td>9/05/2019</td>\n",
              "      <td>Delhi</td>\n",
              "      <td>Cochin</td>\n",
              "      <td>DEL → JAI → BOM → COK</td>\n",
              "      <td>05:30</td>\n",
              "      <td>04:25 10 May</td>\n",
              "      <td>22h 55m</td>\n",
              "      <td>2 stops</td>\n",
              "      <td>No info</td>\n",
              "    </tr>\n",
              "  </tbody>\n",
              "</table>\n",
              "</div>\n",
              "      <button class=\"colab-df-convert\" onclick=\"convertToInteractive('df-7652a400-dc26-46f9-b0b2-486fcfce0961')\"\n",
              "              title=\"Convert this dataframe to an interactive table.\"\n",
              "              style=\"display:none;\">\n",
              "        \n",
              "  <svg xmlns=\"http://www.w3.org/2000/svg\" height=\"24px\"viewBox=\"0 0 24 24\"\n",
              "       width=\"24px\">\n",
              "    <path d=\"M0 0h24v24H0V0z\" fill=\"none\"/>\n",
              "    <path d=\"M18.56 5.44l.94 2.06.94-2.06 2.06-.94-2.06-.94-.94-2.06-.94 2.06-2.06.94zm-11 1L8.5 8.5l.94-2.06 2.06-.94-2.06-.94L8.5 2.5l-.94 2.06-2.06.94zm10 10l.94 2.06.94-2.06 2.06-.94-2.06-.94-.94-2.06-.94 2.06-2.06.94z\"/><path d=\"M17.41 7.96l-1.37-1.37c-.4-.4-.92-.59-1.43-.59-.52 0-1.04.2-1.43.59L10.3 9.45l-7.72 7.72c-.78.78-.78 2.05 0 2.83L4 21.41c.39.39.9.59 1.41.59.51 0 1.02-.2 1.41-.59l7.78-7.78 2.81-2.81c.8-.78.8-2.07 0-2.86zM5.41 20L4 18.59l7.72-7.72 1.47 1.35L5.41 20z\"/>\n",
              "  </svg>\n",
              "      </button>\n",
              "      \n",
              "  <style>\n",
              "    .colab-df-container {\n",
              "      display:flex;\n",
              "      flex-wrap:wrap;\n",
              "      gap: 12px;\n",
              "    }\n",
              "\n",
              "    .colab-df-convert {\n",
              "      background-color: #E8F0FE;\n",
              "      border: none;\n",
              "      border-radius: 50%;\n",
              "      cursor: pointer;\n",
              "      display: none;\n",
              "      fill: #1967D2;\n",
              "      height: 32px;\n",
              "      padding: 0 0 0 0;\n",
              "      width: 32px;\n",
              "    }\n",
              "\n",
              "    .colab-df-convert:hover {\n",
              "      background-color: #E2EBFA;\n",
              "      box-shadow: 0px 1px 2px rgba(60, 64, 67, 0.3), 0px 1px 3px 1px rgba(60, 64, 67, 0.15);\n",
              "      fill: #174EA6;\n",
              "    }\n",
              "\n",
              "    [theme=dark] .colab-df-convert {\n",
              "      background-color: #3B4455;\n",
              "      fill: #D2E3FC;\n",
              "    }\n",
              "\n",
              "    [theme=dark] .colab-df-convert:hover {\n",
              "      background-color: #434B5C;\n",
              "      box-shadow: 0px 1px 3px 1px rgba(0, 0, 0, 0.15);\n",
              "      filter: drop-shadow(0px 1px 2px rgba(0, 0, 0, 0.3));\n",
              "      fill: #FFFFFF;\n",
              "    }\n",
              "  </style>\n",
              "\n",
              "      <script>\n",
              "        const buttonEl =\n",
              "          document.querySelector('#df-7652a400-dc26-46f9-b0b2-486fcfce0961 button.colab-df-convert');\n",
              "        buttonEl.style.display =\n",
              "          google.colab.kernel.accessAllowed ? 'block' : 'none';\n",
              "\n",
              "        async function convertToInteractive(key) {\n",
              "          const element = document.querySelector('#df-7652a400-dc26-46f9-b0b2-486fcfce0961');\n",
              "          const dataTable =\n",
              "            await google.colab.kernel.invokeFunction('convertToInteractive',\n",
              "                                                     [key], {});\n",
              "          if (!dataTable) return;\n",
              "\n",
              "          const docLinkHtml = 'Like what you see? Visit the ' +\n",
              "            '<a target=\"_blank\" href=https://colab.research.google.com/notebooks/data_table.ipynb>data table notebook</a>'\n",
              "            + ' to learn more about interactive tables.';\n",
              "          element.innerHTML = '';\n",
              "          dataTable['output_type'] = 'display_data';\n",
              "          await google.colab.output.renderOutput(dataTable, element);\n",
              "          const docLink = document.createElement('div');\n",
              "          docLink.innerHTML = docLinkHtml;\n",
              "          element.appendChild(docLink);\n",
              "        }\n",
              "      </script>\n",
              "    </div>\n",
              "  </div>\n",
              "  "
            ]
          },
          "metadata": {},
          "execution_count": 15
        }
      ],
      "source": [
        "# verificando dados duplicados dos treinos\n",
        "test_df[test_df.duplicated()].head()"
      ]
    },
    {
      "cell_type": "code",
      "execution_count": 16,
      "metadata": {
        "id": "Fmhi7-ixPZhX"
      },
      "outputs": [],
      "source": [
        "# Elimina valor duplicado mantendo o 1° registro dos treino.\n",
        "test_df.drop_duplicates(keep='first',inplace=True)"
      ]
    },
    {
      "cell_type": "markdown",
      "metadata": {
        "id": "16Apm5ruPyIs"
      },
      "source": [
        "## EDA - ANÁLISE EXPLORATÓRIA DOS DADOS DE TREINO"
      ]
    },
    {
      "cell_type": "code",
      "execution_count": 17,
      "metadata": {
        "colab": {
          "base_uri": "https://localhost:8080/",
          "height": 395
        },
        "id": "XaWRcbMlQDGA",
        "outputId": "327ae916-7016-4cf5-a6e8-8042a11c49f8"
      },
      "outputs": [
        {
          "output_type": "display_data",
          "data": {
            "text/plain": [
              "<Figure size 1728x576 with 1 Axes>"
            ],
            "image/png": "[encoded data removed]"
          },
          "metadata": {
            "needs_background": "light"
          }
        }
      ],
      "source": [
        "# Plotando box para Preço vs Airline (companhia)\n",
        "sns.catplot(y = \"Price\", x = \"Airline\", data = train_df.sort_values(\"Price\", ascending = False), kind=\"boxen\", height = 8, aspect = 3)\n",
        "plt.title('Preço por companhia aérea')\n",
        "plt.show()"
      ]
    },
    {
      "cell_type": "markdown",
      "metadata": {
        "id": "9TFt-jarR2_3"
      },
      "source": [
        "- Observando os preços em relação as companhias aéreas percebe-se que a companhia JET ARWAYS BUSINESS se destaca das maiorias, talvez esse destaque nos preços evidencie um serviço ou produtos diferenciados no que tange ao público alvo."
      ]
    },
    {
      "cell_type": "code",
      "execution_count": 18,
      "metadata": {
        "colab": {
          "base_uri": "https://localhost:8080/",
          "height": 313
        },
        "id": "XOJ2pqBSTE34",
        "outputId": "7ce20892-51c1-494d-e387-439d01231e6a"
      },
      "outputs": [
        {
          "output_type": "display_data",
          "data": {
            "text/plain": [
              "<Figure size 864x288 with 1 Axes>"
            ],
            "image/png": "[encoded data removed]"
          },
          "metadata": {
            "needs_background": "light"
          }
        }
      ],
      "source": [
        "# Plotando Violin plot preço vs Source (inicio da viagem)\n",
        "sns.catplot(y = \"Price\", x = \"Source\", data = train_df.sort_values(\"Price\", ascending = False), kind=\"box\", height = 4, aspect = 3)\n",
        "plt.title('Preço por localização - origem da viajem')\n",
        "plt.show()"
      ]
    },
    {
      "cell_type": "markdown",
      "metadata": {
        "id": "RrnE21QbUTeQ"
      },
      "source": [
        "- Em relação preços e localização do inicio das viagens, percebe-se que os valores se emcontram  nos custos de 10000 e 20000. Porém KOLKATA e DELHI apresentam uma leve supremacia em relação às outras. além disso, esse gráfico apresenta os cincos principais voos de origens"
      ]
    },
    {
      "cell_type": "code",
      "execution_count": 19,
      "metadata": {
        "colab": {
          "base_uri": "https://localhost:8080/",
          "height": 591
        },
        "id": "YA5V8O-7WWfu",
        "outputId": "7de873d9-6237-4293-b776-955d80765ed5"
      },
      "outputs": [
        {
          "output_type": "display_data",
          "data": {
            "text/plain": [
              "<Figure size 864x288 with 1 Axes>"
            ],
            "image/png": "[encoded data removed]"
          },
          "metadata": {
            "needs_background": "light"
          }
        },
        {
          "output_type": "stream",
          "name": "stdout",
          "text": [
            "\n",
            "\n",
            "Preços por destino\n"
          ]
        },
        {
          "output_type": "execute_result",
          "data": {
            "text/plain": [
              "Destination  Price\n",
              "Cochin       10262    258\n",
              "Banglore     10844    212\n",
              "             4804     160\n",
              "Delhi        7229     154\n",
              "             4823     131\n",
              "                     ... \n",
              "Cochin       9732       1\n",
              "             9706       1\n",
              "             9601       1\n",
              "             9595       1\n",
              "New Delhi    79512      1\n",
              "Name: Price, Length: 1962, dtype: int64"
            ]
          },
          "metadata": {},
          "execution_count": 19
        }
      ],
      "source": [
        "# Plotando  Box plot preços e destino\n",
        "sns.catplot(y = \"Price\", x = \"Destination\", data = train_df.sort_values(\"Price\", ascending = False), kind=\"box\", height = 4, aspect = 3)\n",
        "plt.title('Preço por destino da viagem')\n",
        "plt.show()\n",
        "\n",
        "print('\\n')\n",
        "print('Preços por destino')\n",
        "\n",
        "train_df.groupby(\"Destination\" )[\"Price\"].value_counts().sort_values(ascending=False)\n"
      ]
    },
    {
      "cell_type": "markdown",
      "metadata": {
        "id": "b1WYHX7GdZuB"
      },
      "source": [
        "- Quanto ao preço por destino se destaca COCHIN  e  BANGLORE com os melhores preços destinos. è importante ressaltar que os voos de destino se diferenciam em preços e localização aos de origens."
      ]
    },
    {
      "cell_type": "code",
      "execution_count": 20,
      "metadata": {
        "colab": {
          "base_uri": "https://localhost:8080/"
        },
        "id": "8atV7zaJQuHt",
        "outputId": "85392a35-663e-4110-80c9-ba70b973afe0"
      },
      "outputs": [
        {
          "output_type": "execute_result",
          "data": {
            "text/plain": [
              "Duration  Price\n",
              "10h       14714    7\n",
              "          8099     5\n",
              "          10197    5\n",
              "          10262    4\n",
              "          14237    4\n",
              "                  ..\n",
              "9h 5m     7905     1\n",
              "          8018     1\n",
              "          9736     1\n",
              "          10493    1\n",
              "          10696    1\n",
              "Name: Price, Length: 4938, dtype: int64"
            ]
          },
          "metadata": {},
          "execution_count": 20
        }
      ],
      "source": [
        "# Contando das viagens em relação ao duração e ao preços\n",
        "train_df.groupby('Duration')[\"Price\"].value_counts(ascending=False\n",
        "                                                   )\n"
      ]
    },
    {
      "cell_type": "markdown",
      "metadata": {
        "id": "mDAt7sdVli-K"
      },
      "source": [
        "- O maior número de viagens em relação ao preço está com duração de 10hs e valor de 14714. porém existem preços menores com a mesma duraçao de viagens, levando a considerar que a duração do tempo de voo, não determina por si só as tarifas."
      ]
    },
    {
      "cell_type": "markdown",
      "metadata": {
        "id": "azCc6VcMq8se"
      },
      "source": [
        "## PRÉ-PROCESSAMENTO"
      ]
    },
    {
      "cell_type": "code",
      "execution_count": 21,
      "metadata": {
        "colab": {
          "base_uri": "https://localhost:8080/",
          "height": 253
        },
        "id": "Ez2741zurXoT",
        "outputId": "6be9acc9-da7e-4b14-cd4b-9b2dbb8a7d86"
      },
      "outputs": [
        {
          "output_type": "execute_result",
          "data": {
            "text/plain": [
              "       Airline Date_of_Journey    Source Destination                  Route  \\\n",
              "0       IndiGo      24/03/2019  Banglore   New Delhi              BLR → DEL   \n",
              "1    Air India       1/05/2019   Kolkata    Banglore  CCU → IXR → BBI → BLR   \n",
              "2  Jet Airways       9/06/2019     Delhi      Cochin  DEL → LKO → BOM → COK   \n",
              "3       IndiGo      12/05/2019   Kolkata    Banglore        CCU → NAG → BLR   \n",
              "\n",
              "  Dep_Time  Arrival_Time Duration Total_Stops Additional_Info  Price  \n",
              "0    22:20  01:10 22 Mar   2h 50m    non-stop         No info   3897  \n",
              "1    05:50         13:15   7h 25m     2 stops         No info   7662  \n",
              "2    09:25  04:25 10 Jun      19h     2 stops         No info  13882  \n",
              "3    18:05         23:30   5h 25m      1 stop         No info   6218  "
            ],
            "text/html": [
              "\n",
              "  <div id=\"df-b0a457d0-13a3-4234-8a93-c7ccb003c9bc\">\n",
              "    <div class=\"colab-df-container\">\n",
              "      <div>\n",
              "<style scoped>\n",
              "    .dataframe tbody tr th:only-of-type {\n",
              "        vertical-align: middle;\n",
              "    }\n",
              "\n",
              "    .dataframe tbody tr th {\n",
              "        vertical-align: top;\n",
              "    }\n",
              "\n",
              "    .dataframe thead th {\n",
              "        text-align: right;\n",
              "    }\n",
              "</style>\n",
              "<table border=\"1\" class=\"dataframe\">\n",
              "  <thead>\n",
              "    <tr style=\"text-align: right;\">\n",
              "      <th></th>\n",
              "      <th>Airline</th>\n",
              "      <th>Date_of_Journey</th>\n",
              "      <th>Source</th>\n",
              "      <th>Destination</th>\n",
              "      <th>Route</th>\n",
              "      <th>Dep_Time</th>\n",
              "      <th>Arrival_Time</th>\n",
              "      <th>Duration</th>\n",
              "      <th>Total_Stops</th>\n",
              "      <th>Additional_Info</th>\n",
              "      <th>Price</th>\n",
              "    </tr>\n",
              "  </thead>\n",
              "  <tbody>\n",
              "    <tr>\n",
              "      <th>0</th>\n",
              "      <td>IndiGo</td>\n",
              "      <td>24/03/2019</td>\n",
              "      <td>Banglore</td>\n",
              "      <td>New Delhi</td>\n",
              "      <td>BLR → DEL</td>\n",
              "      <td>22:20</td>\n",
              "      <td>01:10 22 Mar</td>\n",
              "      <td>2h 50m</td>\n",
              "      <td>non-stop</td>\n",
              "      <td>No info</td>\n",
              "      <td>3897</td>\n",
              "    </tr>\n",
              "    <tr>\n",
              "      <th>1</th>\n",
              "      <td>Air India</td>\n",
              "      <td>1/05/2019</td>\n",
              "      <td>Kolkata</td>\n",
              "      <td>Banglore</td>\n",
              "      <td>CCU → IXR → BBI → BLR</td>\n",
              "      <td>05:50</td>\n",
              "      <td>13:15</td>\n",
              "      <td>7h 25m</td>\n",
              "      <td>2 stops</td>\n",
              "      <td>No info</td>\n",
              "      <td>7662</td>\n",
              "    </tr>\n",
              "    <tr>\n",
              "      <th>2</th>\n",
              "      <td>Jet Airways</td>\n",
              "      <td>9/06/2019</td>\n",
              "      <td>Delhi</td>\n",
              "      <td>Cochin</td>\n",
              "      <td>DEL → LKO → BOM → COK</td>\n",
              "      <td>09:25</td>\n",
              "      <td>04:25 10 Jun</td>\n",
              "      <td>19h</td>\n",
              "      <td>2 stops</td>\n",
              "      <td>No info</td>\n",
              "      <td>13882</td>\n",
              "    </tr>\n",
              "    <tr>\n",
              "      <th>3</th>\n",
              "      <td>IndiGo</td>\n",
              "      <td>12/05/2019</td>\n",
              "      <td>Kolkata</td>\n",
              "      <td>Banglore</td>\n",
              "      <td>CCU → NAG → BLR</td>\n",
              "      <td>18:05</td>\n",
              "      <td>23:30</td>\n",
              "      <td>5h 25m</td>\n",
              "      <td>1 stop</td>\n",
              "      <td>No info</td>\n",
              "      <td>6218</td>\n",
              "    </tr>\n",
              "  </tbody>\n",
              "</table>\n",
              "</div>\n",
              "      <button class=\"colab-df-convert\" onclick=\"convertToInteractive('df-b0a457d0-13a3-4234-8a93-c7ccb003c9bc')\"\n",
              "              title=\"Convert this dataframe to an interactive table.\"\n",
              "              style=\"display:none;\">\n",
              "        \n",
              "  <svg xmlns=\"http://www.w3.org/2000/svg\" height=\"24px\"viewBox=\"0 0 24 24\"\n",
              "       width=\"24px\">\n",
              "    <path d=\"M0 0h24v24H0V0z\" fill=\"none\"/>\n",
              "    <path d=\"M18.56 5.44l.94 2.06.94-2.06 2.06-.94-2.06-.94-.94-2.06-.94 2.06-2.06.94zm-11 1L8.5 8.5l.94-2.06 2.06-.94-2.06-.94L8.5 2.5l-.94 2.06-2.06.94zm10 10l.94 2.06.94-2.06 2.06-.94-2.06-.94-.94-2.06-.94 2.06-2.06.94z\"/><path d=\"M17.41 7.96l-1.37-1.37c-.4-.4-.92-.59-1.43-.59-.52 0-1.04.2-1.43.59L10.3 9.45l-7.72 7.72c-.78.78-.78 2.05 0 2.83L4 21.41c.39.39.9.59 1.41.59.51 0 1.02-.2 1.41-.59l7.78-7.78 2.81-2.81c.8-.78.8-2.07 0-2.86zM5.41 20L4 18.59l7.72-7.72 1.47 1.35L5.41 20z\"/>\n",
              "  </svg>\n",
              "      </button>\n",
              "      \n",
              "  <style>\n",
              "    .colab-df-container {\n",
              "      display:flex;\n",
              "      flex-wrap:wrap;\n",
              "      gap: 12px;\n",
              "    }\n",
              "\n",
              "    .colab-df-convert {\n",
              "      background-color: #E8F0FE;\n",
              "      border: none;\n",
              "      border-radius: 50%;\n",
              "      cursor: pointer;\n",
              "      display: none;\n",
              "      fill: #1967D2;\n",
              "      height: 32px;\n",
              "      padding: 0 0 0 0;\n",
              "      width: 32px;\n",
              "    }\n",
              "\n",
              "    .colab-df-convert:hover {\n",
              "      background-color: #E2EBFA;\n",
              "      box-shadow: 0px 1px 2px rgba(60, 64, 67, 0.3), 0px 1px 3px 1px rgba(60, 64, 67, 0.15);\n",
              "      fill: #174EA6;\n",
              "    }\n",
              "\n",
              "    [theme=dark] .colab-df-convert {\n",
              "      background-color: #3B4455;\n",
              "      fill: #D2E3FC;\n",
              "    }\n",
              "\n",
              "    [theme=dark] .colab-df-convert:hover {\n",
              "      background-color: #434B5C;\n",
              "      box-shadow: 0px 1px 3px 1px rgba(0, 0, 0, 0.15);\n",
              "      filter: drop-shadow(0px 1px 2px rgba(0, 0, 0, 0.3));\n",
              "      fill: #FFFFFF;\n",
              "    }\n",
              "  </style>\n",
              "\n",
              "      <script>\n",
              "        const buttonEl =\n",
              "          document.querySelector('#df-b0a457d0-13a3-4234-8a93-c7ccb003c9bc button.colab-df-convert');\n",
              "        buttonEl.style.display =\n",
              "          google.colab.kernel.accessAllowed ? 'block' : 'none';\n",
              "\n",
              "        async function convertToInteractive(key) {\n",
              "          const element = document.querySelector('#df-b0a457d0-13a3-4234-8a93-c7ccb003c9bc');\n",
              "          const dataTable =\n",
              "            await google.colab.kernel.invokeFunction('convertToInteractive',\n",
              "                                                     [key], {});\n",
              "          if (!dataTable) return;\n",
              "\n",
              "          const docLinkHtml = 'Like what you see? Visit the ' +\n",
              "            '<a target=\"_blank\" href=https://colab.research.google.com/notebooks/data_table.ipynb>data table notebook</a>'\n",
              "            + ' to learn more about interactive tables.';\n",
              "          element.innerHTML = '';\n",
              "          dataTable['output_type'] = 'display_data';\n",
              "          await google.colab.output.renderOutput(dataTable, element);\n",
              "          const docLink = document.createElement('div');\n",
              "          docLink.innerHTML = docLinkHtml;\n",
              "          element.appendChild(docLink);\n",
              "        }\n",
              "      </script>\n",
              "    </div>\n",
              "  </div>\n",
              "  "
            ]
          },
          "metadata": {},
          "execution_count": 21
        }
      ],
      "source": [
        "# Observando as primeiras linhas\n",
        "train_df.head(4)\n",
        "\n"
      ]
    },
    {
      "cell_type": "code",
      "execution_count": 22,
      "metadata": {
        "id": "0hpz2EkRtC0b"
      },
      "outputs": [],
      "source": [
        "# Convertendo a variável Duration em horas e minutos (dados de treino e teste)\n",
        "train_df['Duration']=train_df['Duration'].str.replace('h','*60').str.replace(' ','+').str.replace('m','*1').apply(eval)\n",
        "test_df['Duration'] = test_df['Duration'].str.replace(\"h\", '*60').str.replace(' ','+').str.replace('m','*1').apply(eval)"
      ]
    },
    {
      "cell_type": "code",
      "execution_count": 23,
      "metadata": {
        "colab": {
          "base_uri": "https://localhost:8080/",
          "height": 253
        },
        "id": "E-WcHP7hvxK4",
        "outputId": "c333b067-f8d4-4479-a777-c8d164ba1215"
      },
      "outputs": [
        {
          "output_type": "execute_result",
          "data": {
            "text/plain": [
              "       Airline Date_of_Journey    Source Destination                  Route  \\\n",
              "0       IndiGo      24/03/2019  Banglore   New Delhi              BLR → DEL   \n",
              "1    Air India       1/05/2019   Kolkata    Banglore  CCU → IXR → BBI → BLR   \n",
              "2  Jet Airways       9/06/2019     Delhi      Cochin  DEL → LKO → BOM → COK   \n",
              "3       IndiGo      12/05/2019   Kolkata    Banglore        CCU → NAG → BLR   \n",
              "\n",
              "  Dep_Time  Arrival_Time  Duration Total_Stops Additional_Info  Price  \n",
              "0    22:20  01:10 22 Mar       170    non-stop         No info   3897  \n",
              "1    05:50         13:15       445     2 stops         No info   7662  \n",
              "2    09:25  04:25 10 Jun      1140     2 stops         No info  13882  \n",
              "3    18:05         23:30       325      1 stop         No info   6218  "
            ],
            "text/html": [
              "\n",
              "  <div id=\"df-fced778b-7bdc-42ed-9206-17f80f7d2cbf\">\n",
              "    <div class=\"colab-df-container\">\n",
              "      <div>\n",
              "<style scoped>\n",
              "    .dataframe tbody tr th:only-of-type {\n",
              "        vertical-align: middle;\n",
              "    }\n",
              "\n",
              "    .dataframe tbody tr th {\n",
              "        vertical-align: top;\n",
              "    }\n",
              "\n",
              "    .dataframe thead th {\n",
              "        text-align: right;\n",
              "    }\n",
              "</style>\n",
              "<table border=\"1\" class=\"dataframe\">\n",
              "  <thead>\n",
              "    <tr style=\"text-align: right;\">\n",
              "      <th></th>\n",
              "      <th>Airline</th>\n",
              "      <th>Date_of_Journey</th>\n",
              "      <th>Source</th>\n",
              "      <th>Destination</th>\n",
              "      <th>Route</th>\n",
              "      <th>Dep_Time</th>\n",
              "      <th>Arrival_Time</th>\n",
              "      <th>Duration</th>\n",
              "      <th>Total_Stops</th>\n",
              "      <th>Additional_Info</th>\n",
              "      <th>Price</th>\n",
              "    </tr>\n",
              "  </thead>\n",
              "  <tbody>\n",
              "    <tr>\n",
              "      <th>0</th>\n",
              "      <td>IndiGo</td>\n",
              "      <td>24/03/2019</td>\n",
              "      <td>Banglore</td>\n",
              "      <td>New Delhi</td>\n",
              "      <td>BLR → DEL</td>\n",
              "      <td>22:20</td>\n",
              "      <td>01:10 22 Mar</td>\n",
              "      <td>170</td>\n",
              "      <td>non-stop</td>\n",
              "      <td>No info</td>\n",
              "      <td>3897</td>\n",
              "    </tr>\n",
              "    <tr>\n",
              "      <th>1</th>\n",
              "      <td>Air India</td>\n",
              "      <td>1/05/2019</td>\n",
              "      <td>Kolkata</td>\n",
              "      <td>Banglore</td>\n",
              "      <td>CCU → IXR → BBI → BLR</td>\n",
              "      <td>05:50</td>\n",
              "      <td>13:15</td>\n",
              "      <td>445</td>\n",
              "      <td>2 stops</td>\n",
              "      <td>No info</td>\n",
              "      <td>7662</td>\n",
              "    </tr>\n",
              "    <tr>\n",
              "      <th>2</th>\n",
              "      <td>Jet Airways</td>\n",
              "      <td>9/06/2019</td>\n",
              "      <td>Delhi</td>\n",
              "      <td>Cochin</td>\n",
              "      <td>DEL → LKO → BOM → COK</td>\n",
              "      <td>09:25</td>\n",
              "      <td>04:25 10 Jun</td>\n",
              "      <td>1140</td>\n",
              "      <td>2 stops</td>\n",
              "      <td>No info</td>\n",
              "      <td>13882</td>\n",
              "    </tr>\n",
              "    <tr>\n",
              "      <th>3</th>\n",
              "      <td>IndiGo</td>\n",
              "      <td>12/05/2019</td>\n",
              "      <td>Kolkata</td>\n",
              "      <td>Banglore</td>\n",
              "      <td>CCU → NAG → BLR</td>\n",
              "      <td>18:05</td>\n",
              "      <td>23:30</td>\n",
              "      <td>325</td>\n",
              "      <td>1 stop</td>\n",
              "      <td>No info</td>\n",
              "      <td>6218</td>\n",
              "    </tr>\n",
              "  </tbody>\n",
              "</table>\n",
              "</div>\n",
              "      <button class=\"colab-df-convert\" onclick=\"convertToInteractive('df-fced778b-7bdc-42ed-9206-17f80f7d2cbf')\"\n",
              "              title=\"Convert this dataframe to an interactive table.\"\n",
              "              style=\"display:none;\">\n",
              "        \n",
              "  <svg xmlns=\"http://www.w3.org/2000/svg\" height=\"24px\"viewBox=\"0 0 24 24\"\n",
              "       width=\"24px\">\n",
              "    <path d=\"M0 0h24v24H0V0z\" fill=\"none\"/>\n",
              "    <path d=\"M18.56 5.44l.94 2.06.94-2.06 2.06-.94-2.06-.94-.94-2.06-.94 2.06-2.06.94zm-11 1L8.5 8.5l.94-2.06 2.06-.94-2.06-.94L8.5 2.5l-.94 2.06-2.06.94zm10 10l.94 2.06.94-2.06 2.06-.94-2.06-.94-.94-2.06-.94 2.06-2.06.94z\"/><path d=\"M17.41 7.96l-1.37-1.37c-.4-.4-.92-.59-1.43-.59-.52 0-1.04.2-1.43.59L10.3 9.45l-7.72 7.72c-.78.78-.78 2.05 0 2.83L4 21.41c.39.39.9.59 1.41.59.51 0 1.02-.2 1.41-.59l7.78-7.78 2.81-2.81c.8-.78.8-2.07 0-2.86zM5.41 20L4 18.59l7.72-7.72 1.47 1.35L5.41 20z\"/>\n",
              "  </svg>\n",
              "      </button>\n",
              "      \n",
              "  <style>\n",
              "    .colab-df-container {\n",
              "      display:flex;\n",
              "      flex-wrap:wrap;\n",
              "      gap: 12px;\n",
              "    }\n",
              "\n",
              "    .colab-df-convert {\n",
              "      background-color: #E8F0FE;\n",
              "      border: none;\n",
              "      border-radius: 50%;\n",
              "      cursor: pointer;\n",
              "      display: none;\n",
              "      fill: #1967D2;\n",
              "      height: 32px;\n",
              "      padding: 0 0 0 0;\n",
              "      width: 32px;\n",
              "    }\n",
              "\n",
              "    .colab-df-convert:hover {\n",
              "      background-color: #E2EBFA;\n",
              "      box-shadow: 0px 1px 2px rgba(60, 64, 67, 0.3), 0px 1px 3px 1px rgba(60, 64, 67, 0.15);\n",
              "      fill: #174EA6;\n",
              "    }\n",
              "\n",
              "    [theme=dark] .colab-df-convert {\n",
              "      background-color: #3B4455;\n",
              "      fill: #D2E3FC;\n",
              "    }\n",
              "\n",
              "    [theme=dark] .colab-df-convert:hover {\n",
              "      background-color: #434B5C;\n",
              "      box-shadow: 0px 1px 3px 1px rgba(0, 0, 0, 0.15);\n",
              "      filter: drop-shadow(0px 1px 2px rgba(0, 0, 0, 0.3));\n",
              "      fill: #FFFFFF;\n",
              "    }\n",
              "  </style>\n",
              "\n",
              "      <script>\n",
              "        const buttonEl =\n",
              "          document.querySelector('#df-fced778b-7bdc-42ed-9206-17f80f7d2cbf button.colab-df-convert');\n",
              "        buttonEl.style.display =\n",
              "          google.colab.kernel.accessAllowed ? 'block' : 'none';\n",
              "\n",
              "        async function convertToInteractive(key) {\n",
              "          const element = document.querySelector('#df-fced778b-7bdc-42ed-9206-17f80f7d2cbf');\n",
              "          const dataTable =\n",
              "            await google.colab.kernel.invokeFunction('convertToInteractive',\n",
              "                                                     [key], {});\n",
              "          if (!dataTable) return;\n",
              "\n",
              "          const docLinkHtml = 'Like what you see? Visit the ' +\n",
              "            '<a target=\"_blank\" href=https://colab.research.google.com/notebooks/data_table.ipynb>data table notebook</a>'\n",
              "            + ' to learn more about interactive tables.';\n",
              "          element.innerHTML = '';\n",
              "          dataTable['output_type'] = 'display_data';\n",
              "          await google.colab.output.renderOutput(dataTable, element);\n",
              "          const docLink = document.createElement('div');\n",
              "          docLink.innerHTML = docLinkHtml;\n",
              "          element.appendChild(docLink);\n",
              "        }\n",
              "      </script>\n",
              "    </div>\n",
              "  </div>\n",
              "  "
            ]
          },
          "metadata": {},
          "execution_count": 23
        }
      ],
      "source": [
        "train_df.head(4)"
      ]
    },
    {
      "cell_type": "markdown",
      "metadata": {
        "id": "PkzM0-qwzAtL"
      },
      "source": [
        "- Aqui foi necessário  pegar a coluna data e transformar em colunas dia e mês em separado."
      ]
    },
    {
      "cell_type": "code",
      "execution_count": 24,
      "metadata": {
        "colab": {
          "base_uri": "https://localhost:8080/",
          "height": 306
        },
        "id": "ECWYokv6wRqp",
        "outputId": "b1eec21e-168d-4456-a624-7335bb5a2f2f"
      },
      "outputs": [
        {
          "output_type": "execute_result",
          "data": {
            "text/plain": [
              "       Airline    Source Destination                  Route Dep_Time  \\\n",
              "0       IndiGo  Banglore   New Delhi              BLR → DEL    22:20   \n",
              "1    Air India   Kolkata    Banglore  CCU → IXR → BBI → BLR    05:50   \n",
              "2  Jet Airways     Delhi      Cochin  DEL → LKO → BOM → COK    09:25   \n",
              "3       IndiGo   Kolkata    Banglore        CCU → NAG → BLR    18:05   \n",
              "\n",
              "   Arrival_Time  Duration Total_Stops Additional_Info  Price  Journey_day  \\\n",
              "0  01:10 22 Mar       170    non-stop         No info   3897           24   \n",
              "1         13:15       445     2 stops         No info   7662            1   \n",
              "2  04:25 10 Jun      1140     2 stops         No info  13882            9   \n",
              "3         23:30       325      1 stop         No info   6218           12   \n",
              "\n",
              "   Journey_month  \n",
              "0              3  \n",
              "1              5  \n",
              "2              6  \n",
              "3              5  "
            ],
            "text/html": [
              "\n",
              "  <div id=\"df-64efdcf5-f46b-4770-863f-f15ba8cccce5\">\n",
              "    <div class=\"colab-df-container\">\n",
              "      <div>\n",
              "<style scoped>\n",
              "    .dataframe tbody tr th:only-of-type {\n",
              "        vertical-align: middle;\n",
              "    }\n",
              "\n",
              "    .dataframe tbody tr th {\n",
              "        vertical-align: top;\n",
              "    }\n",
              "\n",
              "    .dataframe thead th {\n",
              "        text-align: right;\n",
              "    }\n",
              "</style>\n",
              "<table border=\"1\" class=\"dataframe\">\n",
              "  <thead>\n",
              "    <tr style=\"text-align: right;\">\n",
              "      <th></th>\n",
              "      <th>Airline</th>\n",
              "      <th>Source</th>\n",
              "      <th>Destination</th>\n",
              "      <th>Route</th>\n",
              "      <th>Dep_Time</th>\n",
              "      <th>Arrival_Time</th>\n",
              "      <th>Duration</th>\n",
              "      <th>Total_Stops</th>\n",
              "      <th>Additional_Info</th>\n",
              "      <th>Price</th>\n",
              "      <th>Journey_day</th>\n",
              "      <th>Journey_month</th>\n",
              "    </tr>\n",
              "  </thead>\n",
              "  <tbody>\n",
              "    <tr>\n",
              "      <th>0</th>\n",
              "      <td>IndiGo</td>\n",
              "      <td>Banglore</td>\n",
              "      <td>New Delhi</td>\n",
              "      <td>BLR → DEL</td>\n",
              "      <td>22:20</td>\n",
              "      <td>01:10 22 Mar</td>\n",
              "      <td>170</td>\n",
              "      <td>non-stop</td>\n",
              "      <td>No info</td>\n",
              "      <td>3897</td>\n",
              "      <td>24</td>\n",
              "      <td>3</td>\n",
              "    </tr>\n",
              "    <tr>\n",
              "      <th>1</th>\n",
              "      <td>Air India</td>\n",
              "      <td>Kolkata</td>\n",
              "      <td>Banglore</td>\n",
              "      <td>CCU → IXR → BBI → BLR</td>\n",
              "      <td>05:50</td>\n",
              "      <td>13:15</td>\n",
              "      <td>445</td>\n",
              "      <td>2 stops</td>\n",
              "      <td>No info</td>\n",
              "      <td>7662</td>\n",
              "      <td>1</td>\n",
              "      <td>5</td>\n",
              "    </tr>\n",
              "    <tr>\n",
              "      <th>2</th>\n",
              "      <td>Jet Airways</td>\n",
              "      <td>Delhi</td>\n",
              "      <td>Cochin</td>\n",
              "      <td>DEL → LKO → BOM → COK</td>\n",
              "      <td>09:25</td>\n",
              "      <td>04:25 10 Jun</td>\n",
              "      <td>1140</td>\n",
              "      <td>2 stops</td>\n",
              "      <td>No info</td>\n",
              "      <td>13882</td>\n",
              "      <td>9</td>\n",
              "      <td>6</td>\n",
              "    </tr>\n",
              "    <tr>\n",
              "      <th>3</th>\n",
              "      <td>IndiGo</td>\n",
              "      <td>Kolkata</td>\n",
              "      <td>Banglore</td>\n",
              "      <td>CCU → NAG → BLR</td>\n",
              "      <td>18:05</td>\n",
              "      <td>23:30</td>\n",
              "      <td>325</td>\n",
              "      <td>1 stop</td>\n",
              "      <td>No info</td>\n",
              "      <td>6218</td>\n",
              "      <td>12</td>\n",
              "      <td>5</td>\n",
              "    </tr>\n",
              "  </tbody>\n",
              "</table>\n",
              "</div>\n",
              "      <button class=\"colab-df-convert\" onclick=\"convertToInteractive('df-64efdcf5-f46b-4770-863f-f15ba8cccce5')\"\n",
              "              title=\"Convert this dataframe to an interactive table.\"\n",
              "              style=\"display:none;\">\n",
              "        \n",
              "  <svg xmlns=\"http://www.w3.org/2000/svg\" height=\"24px\"viewBox=\"0 0 24 24\"\n",
              "       width=\"24px\">\n",
              "    <path d=\"M0 0h24v24H0V0z\" fill=\"none\"/>\n",
              "    <path d=\"M18.56 5.44l.94 2.06.94-2.06 2.06-.94-2.06-.94-.94-2.06-.94 2.06-2.06.94zm-11 1L8.5 8.5l.94-2.06 2.06-.94-2.06-.94L8.5 2.5l-.94 2.06-2.06.94zm10 10l.94 2.06.94-2.06 2.06-.94-2.06-.94-.94-2.06-.94 2.06-2.06.94z\"/><path d=\"M17.41 7.96l-1.37-1.37c-.4-.4-.92-.59-1.43-.59-.52 0-1.04.2-1.43.59L10.3 9.45l-7.72 7.72c-.78.78-.78 2.05 0 2.83L4 21.41c.39.39.9.59 1.41.59.51 0 1.02-.2 1.41-.59l7.78-7.78 2.81-2.81c.8-.78.8-2.07 0-2.86zM5.41 20L4 18.59l7.72-7.72 1.47 1.35L5.41 20z\"/>\n",
              "  </svg>\n",
              "      </button>\n",
              "      \n",
              "  <style>\n",
              "    .colab-df-container {\n",
              "      display:flex;\n",
              "      flex-wrap:wrap;\n",
              "      gap: 12px;\n",
              "    }\n",
              "\n",
              "    .colab-df-convert {\n",
              "      background-color: #E8F0FE;\n",
              "      border: none;\n",
              "      border-radius: 50%;\n",
              "      cursor: pointer;\n",
              "      display: none;\n",
              "      fill: #1967D2;\n",
              "      height: 32px;\n",
              "      padding: 0 0 0 0;\n",
              "      width: 32px;\n",
              "    }\n",
              "\n",
              "    .colab-df-convert:hover {\n",
              "      background-color: #E2EBFA;\n",
              "      box-shadow: 0px 1px 2px rgba(60, 64, 67, 0.3), 0px 1px 3px 1px rgba(60, 64, 67, 0.15);\n",
              "      fill: #174EA6;\n",
              "    }\n",
              "\n",
              "    [theme=dark] .colab-df-convert {\n",
              "      background-color: #3B4455;\n",
              "      fill: #D2E3FC;\n",
              "    }\n",
              "\n",
              "    [theme=dark] .colab-df-convert:hover {\n",
              "      background-color: #434B5C;\n",
              "      box-shadow: 0px 1px 3px 1px rgba(0, 0, 0, 0.15);\n",
              "      filter: drop-shadow(0px 1px 2px rgba(0, 0, 0, 0.3));\n",
              "      fill: #FFFFFF;\n",
              "    }\n",
              "  </style>\n",
              "\n",
              "      <script>\n",
              "        const buttonEl =\n",
              "          document.querySelector('#df-64efdcf5-f46b-4770-863f-f15ba8cccce5 button.colab-df-convert');\n",
              "        buttonEl.style.display =\n",
              "          google.colab.kernel.accessAllowed ? 'block' : 'none';\n",
              "\n",
              "        async function convertToInteractive(key) {\n",
              "          const element = document.querySelector('#df-64efdcf5-f46b-4770-863f-f15ba8cccce5');\n",
              "          const dataTable =\n",
              "            await google.colab.kernel.invokeFunction('convertToInteractive',\n",
              "                                                     [key], {});\n",
              "          if (!dataTable) return;\n",
              "\n",
              "          const docLinkHtml = 'Like what you see? Visit the ' +\n",
              "            '<a target=\"_blank\" href=https://colab.research.google.com/notebooks/data_table.ipynb>data table notebook</a>'\n",
              "            + ' to learn more about interactive tables.';\n",
              "          element.innerHTML = '';\n",
              "          dataTable['output_type'] = 'display_data';\n",
              "          await google.colab.output.renderOutput(dataTable, element);\n",
              "          const docLink = document.createElement('div');\n",
              "          docLink.innerHTML = docLinkHtml;\n",
              "          element.appendChild(docLink);\n",
              "        }\n",
              "      </script>\n",
              "    </div>\n",
              "  </div>\n",
              "  "
            ]
          },
          "metadata": {},
          "execution_count": 24
        }
      ],
      "source": [
        "# Date_of_Journey ( transformando colunas)\n",
        "train_df[\"Journey_day\"] = train_df['Date_of_Journey'].str.split('/').str[0].astype(int)\n",
        "train_df[\"Journey_month\"] = train_df['Date_of_Journey'].str.split('/').str[1].astype(int)\n",
        "train_df.drop([\"Date_of_Journey\"], axis = 1, inplace = True) # dropando coluna date antiga\n",
        "train_df.head(4)"
      ]
    },
    {
      "cell_type": "markdown",
      "metadata": {
        "id": "c9oIGy872E2N"
      },
      "source": [
        "- Aqui foi criada uma coluna para hora e outra para minutos e dropada a antiga coluna."
      ]
    },
    {
      "cell_type": "code",
      "execution_count": 25,
      "metadata": {
        "colab": {
          "base_uri": "https://localhost:8080/",
          "height": 315
        },
        "id": "rHxYR3Q90unW",
        "outputId": "d80989e0-b2dd-449c-9c83-b582bd1d9f9e"
      },
      "outputs": [
        {
          "output_type": "execute_result",
          "data": {
            "text/plain": [
              "     Airline    Source Destination                  Route  Arrival_Time  \\\n",
              "0     IndiGo  Banglore   New Delhi              BLR → DEL  01:10 22 Mar   \n",
              "1  Air India   Kolkata    Banglore  CCU → IXR → BBI → BLR         13:15   \n",
              "\n",
              "   Duration Total_Stops Additional_Info  Price  Journey_day  Journey_month  \\\n",
              "0       170    non-stop         No info   3897           24              3   \n",
              "1       445     2 stops         No info   7662            1              5   \n",
              "\n",
              "   Dep_hour  Dep_min  \n",
              "0        22       20  \n",
              "1         5       50  "
            ],
            "text/html": [
              "\n",
              "  <div id=\"df-ddae8dc9-88c0-4b99-a7d6-f8fe0de00cc4\">\n",
              "    <div class=\"colab-df-container\">\n",
              "      <div>\n",
              "<style scoped>\n",
              "    .dataframe tbody tr th:only-of-type {\n",
              "        vertical-align: middle;\n",
              "    }\n",
              "\n",
              "    .dataframe tbody tr th {\n",
              "        vertical-align: top;\n",
              "    }\n",
              "\n",
              "    .dataframe thead th {\n",
              "        text-align: right;\n",
              "    }\n",
              "</style>\n",
              "<table border=\"1\" class=\"dataframe\">\n",
              "  <thead>\n",
              "    <tr style=\"text-align: right;\">\n",
              "      <th></th>\n",
              "      <th>Airline</th>\n",
              "      <th>Source</th>\n",
              "      <th>Destination</th>\n",
              "      <th>Route</th>\n",
              "      <th>Arrival_Time</th>\n",
              "      <th>Duration</th>\n",
              "      <th>Total_Stops</th>\n",
              "      <th>Additional_Info</th>\n",
              "      <th>Price</th>\n",
              "      <th>Journey_day</th>\n",
              "      <th>Journey_month</th>\n",
              "      <th>Dep_hour</th>\n",
              "      <th>Dep_min</th>\n",
              "    </tr>\n",
              "  </thead>\n",
              "  <tbody>\n",
              "    <tr>\n",
              "      <th>0</th>\n",
              "      <td>IndiGo</td>\n",
              "      <td>Banglore</td>\n",
              "      <td>New Delhi</td>\n",
              "      <td>BLR → DEL</td>\n",
              "      <td>01:10 22 Mar</td>\n",
              "      <td>170</td>\n",
              "      <td>non-stop</td>\n",
              "      <td>No info</td>\n",
              "      <td>3897</td>\n",
              "      <td>24</td>\n",
              "      <td>3</td>\n",
              "      <td>22</td>\n",
              "      <td>20</td>\n",
              "    </tr>\n",
              "    <tr>\n",
              "      <th>1</th>\n",
              "      <td>Air India</td>\n",
              "      <td>Kolkata</td>\n",
              "      <td>Banglore</td>\n",
              "      <td>CCU → IXR → BBI → BLR</td>\n",
              "      <td>13:15</td>\n",
              "      <td>445</td>\n",
              "      <td>2 stops</td>\n",
              "      <td>No info</td>\n",
              "      <td>7662</td>\n",
              "      <td>1</td>\n",
              "      <td>5</td>\n",
              "      <td>5</td>\n",
              "      <td>50</td>\n",
              "    </tr>\n",
              "  </tbody>\n",
              "</table>\n",
              "</div>\n",
              "      <button class=\"colab-df-convert\" onclick=\"convertToInteractive('df-ddae8dc9-88c0-4b99-a7d6-f8fe0de00cc4')\"\n",
              "              title=\"Convert this dataframe to an interactive table.\"\n",
              "              style=\"display:none;\">\n",
              "        \n",
              "  <svg xmlns=\"http://www.w3.org/2000/svg\" height=\"24px\"viewBox=\"0 0 24 24\"\n",
              "       width=\"24px\">\n",
              "    <path d=\"M0 0h24v24H0V0z\" fill=\"none\"/>\n",
              "    <path d=\"M18.56 5.44l.94 2.06.94-2.06 2.06-.94-2.06-.94-.94-2.06-.94 2.06-2.06.94zm-11 1L8.5 8.5l.94-2.06 2.06-.94-2.06-.94L8.5 2.5l-.94 2.06-2.06.94zm10 10l.94 2.06.94-2.06 2.06-.94-2.06-.94-.94-2.06-.94 2.06-2.06.94z\"/><path d=\"M17.41 7.96l-1.37-1.37c-.4-.4-.92-.59-1.43-.59-.52 0-1.04.2-1.43.59L10.3 9.45l-7.72 7.72c-.78.78-.78 2.05 0 2.83L4 21.41c.39.39.9.59 1.41.59.51 0 1.02-.2 1.41-.59l7.78-7.78 2.81-2.81c.8-.78.8-2.07 0-2.86zM5.41 20L4 18.59l7.72-7.72 1.47 1.35L5.41 20z\"/>\n",
              "  </svg>\n",
              "      </button>\n",
              "      \n",
              "  <style>\n",
              "    .colab-df-container {\n",
              "      display:flex;\n",
              "      flex-wrap:wrap;\n",
              "      gap: 12px;\n",
              "    }\n",
              "\n",
              "    .colab-df-convert {\n",
              "      background-color: #E8F0FE;\n",
              "      border: none;\n",
              "      border-radius: 50%;\n",
              "      cursor: pointer;\n",
              "      display: none;\n",
              "      fill: #1967D2;\n",
              "      height: 32px;\n",
              "      padding: 0 0 0 0;\n",
              "      width: 32px;\n",
              "    }\n",
              "\n",
              "    .colab-df-convert:hover {\n",
              "      background-color: #E2EBFA;\n",
              "      box-shadow: 0px 1px 2px rgba(60, 64, 67, 0.3), 0px 1px 3px 1px rgba(60, 64, 67, 0.15);\n",
              "      fill: #174EA6;\n",
              "    }\n",
              "\n",
              "    [theme=dark] .colab-df-convert {\n",
              "      background-color: #3B4455;\n",
              "      fill: #D2E3FC;\n",
              "    }\n",
              "\n",
              "    [theme=dark] .colab-df-convert:hover {\n",
              "      background-color: #434B5C;\n",
              "      box-shadow: 0px 1px 3px 1px rgba(0, 0, 0, 0.15);\n",
              "      filter: drop-shadow(0px 1px 2px rgba(0, 0, 0, 0.3));\n",
              "      fill: #FFFFFF;\n",
              "    }\n",
              "  </style>\n",
              "\n",
              "      <script>\n",
              "        const buttonEl =\n",
              "          document.querySelector('#df-ddae8dc9-88c0-4b99-a7d6-f8fe0de00cc4 button.colab-df-convert');\n",
              "        buttonEl.style.display =\n",
              "          google.colab.kernel.accessAllowed ? 'block' : 'none';\n",
              "\n",
              "        async function convertToInteractive(key) {\n",
              "          const element = document.querySelector('#df-ddae8dc9-88c0-4b99-a7d6-f8fe0de00cc4');\n",
              "          const dataTable =\n",
              "            await google.colab.kernel.invokeFunction('convertToInteractive',\n",
              "                                                     [key], {});\n",
              "          if (!dataTable) return;\n",
              "\n",
              "          const docLinkHtml = 'Like what you see? Visit the ' +\n",
              "            '<a target=\"_blank\" href=https://colab.research.google.com/notebooks/data_table.ipynb>data table notebook</a>'\n",
              "            + ' to learn more about interactive tables.';\n",
              "          element.innerHTML = '';\n",
              "          dataTable['output_type'] = 'display_data';\n",
              "          await google.colab.output.renderOutput(dataTable, element);\n",
              "          const docLink = document.createElement('div');\n",
              "          docLink.innerHTML = docLinkHtml;\n",
              "          element.appendChild(docLink);\n",
              "        }\n",
              "      </script>\n",
              "    </div>\n",
              "  </div>\n",
              "  "
            ]
          },
          "metadata": {},
          "execution_count": 25
        }
      ],
      "source": [
        "# transformando a coluna tempo (dep_time)\n",
        "train_df[\"Dep_hour\"] = pd.to_datetime(train_df[\"Dep_Time\"]).dt.hour\n",
        "train_df[\"Dep_min\"] = pd.to_datetime(train_df[\"Dep_Time\"]).dt.minute\n",
        "train_df.drop([\"Dep_Time\"], axis = 1, inplace = True) # dropando a coluna antiga\n",
        "train_df.head(2)"
      ]
    },
    {
      "cell_type": "markdown",
      "metadata": {
        "id": "IqSrHgug4pq5"
      },
      "source": [
        "- Aqui foi criada a coluna arrival_hour e arrival_min, separando em horas e minutos, depois excluindo a antiga coluna."
      ]
    },
    {
      "cell_type": "code",
      "execution_count": 26,
      "metadata": {
        "colab": {
          "base_uri": "https://localhost:8080/",
          "height": 315
        },
        "id": "ogqoF2kV3lPR",
        "outputId": "8f48bc68-2379-47b8-d4ff-1c04417ef7ea"
      },
      "outputs": [
        {
          "output_type": "execute_result",
          "data": {
            "text/plain": [
              "     Airline    Source Destination                  Route  Duration  \\\n",
              "0     IndiGo  Banglore   New Delhi              BLR → DEL       170   \n",
              "1  Air India   Kolkata    Banglore  CCU → IXR → BBI → BLR       445   \n",
              "\n",
              "  Total_Stops Additional_Info  Price  Journey_day  Journey_month  Dep_hour  \\\n",
              "0    non-stop         No info   3897           24              3        22   \n",
              "1     2 stops         No info   7662            1              5         5   \n",
              "\n",
              "   Dep_min  Arrival_hour  Arrival_min  \n",
              "0       20             1           10  \n",
              "1       50            13           15  "
            ],
            "text/html": [
              "\n",
              "  <div id=\"df-9a842e48-bde2-4bc4-b2cf-f901b2c26511\">\n",
              "    <div class=\"colab-df-container\">\n",
              "      <div>\n",
              "<style scoped>\n",
              "    .dataframe tbody tr th:only-of-type {\n",
              "        vertical-align: middle;\n",
              "    }\n",
              "\n",
              "    .dataframe tbody tr th {\n",
              "        vertical-align: top;\n",
              "    }\n",
              "\n",
              "    .dataframe thead th {\n",
              "        text-align: right;\n",
              "    }\n",
              "</style>\n",
              "<table border=\"1\" class=\"dataframe\">\n",
              "  <thead>\n",
              "    <tr style=\"text-align: right;\">\n",
              "      <th></th>\n",
              "      <th>Airline</th>\n",
              "      <th>Source</th>\n",
              "      <th>Destination</th>\n",
              "      <th>Route</th>\n",
              "      <th>Duration</th>\n",
              "      <th>Total_Stops</th>\n",
              "      <th>Additional_Info</th>\n",
              "      <th>Price</th>\n",
              "      <th>Journey_day</th>\n",
              "      <th>Journey_month</th>\n",
              "      <th>Dep_hour</th>\n",
              "      <th>Dep_min</th>\n",
              "      <th>Arrival_hour</th>\n",
              "      <th>Arrival_min</th>\n",
              "    </tr>\n",
              "  </thead>\n",
              "  <tbody>\n",
              "    <tr>\n",
              "      <th>0</th>\n",
              "      <td>IndiGo</td>\n",
              "      <td>Banglore</td>\n",
              "      <td>New Delhi</td>\n",
              "      <td>BLR → DEL</td>\n",
              "      <td>170</td>\n",
              "      <td>non-stop</td>\n",
              "      <td>No info</td>\n",
              "      <td>3897</td>\n",
              "      <td>24</td>\n",
              "      <td>3</td>\n",
              "      <td>22</td>\n",
              "      <td>20</td>\n",
              "      <td>1</td>\n",
              "      <td>10</td>\n",
              "    </tr>\n",
              "    <tr>\n",
              "      <th>1</th>\n",
              "      <td>Air India</td>\n",
              "      <td>Kolkata</td>\n",
              "      <td>Banglore</td>\n",
              "      <td>CCU → IXR → BBI → BLR</td>\n",
              "      <td>445</td>\n",
              "      <td>2 stops</td>\n",
              "      <td>No info</td>\n",
              "      <td>7662</td>\n",
              "      <td>1</td>\n",
              "      <td>5</td>\n",
              "      <td>5</td>\n",
              "      <td>50</td>\n",
              "      <td>13</td>\n",
              "      <td>15</td>\n",
              "    </tr>\n",
              "  </tbody>\n",
              "</table>\n",
              "</div>\n",
              "      <button class=\"colab-df-convert\" onclick=\"convertToInteractive('df-9a842e48-bde2-4bc4-b2cf-f901b2c26511')\"\n",
              "              title=\"Convert this dataframe to an interactive table.\"\n",
              "              style=\"display:none;\">\n",
              "        \n",
              "  <svg xmlns=\"http://www.w3.org/2000/svg\" height=\"24px\"viewBox=\"0 0 24 24\"\n",
              "       width=\"24px\">\n",
              "    <path d=\"M0 0h24v24H0V0z\" fill=\"none\"/>\n",
              "    <path d=\"M18.56 5.44l.94 2.06.94-2.06 2.06-.94-2.06-.94-.94-2.06-.94 2.06-2.06.94zm-11 1L8.5 8.5l.94-2.06 2.06-.94-2.06-.94L8.5 2.5l-.94 2.06-2.06.94zm10 10l.94 2.06.94-2.06 2.06-.94-2.06-.94-.94-2.06-.94 2.06-2.06.94z\"/><path d=\"M17.41 7.96l-1.37-1.37c-.4-.4-.92-.59-1.43-.59-.52 0-1.04.2-1.43.59L10.3 9.45l-7.72 7.72c-.78.78-.78 2.05 0 2.83L4 21.41c.39.39.9.59 1.41.59.51 0 1.02-.2 1.41-.59l7.78-7.78 2.81-2.81c.8-.78.8-2.07 0-2.86zM5.41 20L4 18.59l7.72-7.72 1.47 1.35L5.41 20z\"/>\n",
              "  </svg>\n",
              "      </button>\n",
              "      \n",
              "  <style>\n",
              "    .colab-df-container {\n",
              "      display:flex;\n",
              "      flex-wrap:wrap;\n",
              "      gap: 12px;\n",
              "    }\n",
              "\n",
              "    .colab-df-convert {\n",
              "      background-color: #E8F0FE;\n",
              "      border: none;\n",
              "      border-radius: 50%;\n",
              "      cursor: pointer;\n",
              "      display: none;\n",
              "      fill: #1967D2;\n",
              "      height: 32px;\n",
              "      padding: 0 0 0 0;\n",
              "      width: 32px;\n",
              "    }\n",
              "\n",
              "    .colab-df-convert:hover {\n",
              "      background-color: #E2EBFA;\n",
              "      box-shadow: 0px 1px 2px rgba(60, 64, 67, 0.3), 0px 1px 3px 1px rgba(60, 64, 67, 0.15);\n",
              "      fill: #174EA6;\n",
              "    }\n",
              "\n",
              "    [theme=dark] .colab-df-convert {\n",
              "      background-color: #3B4455;\n",
              "      fill: #D2E3FC;\n",
              "    }\n",
              "\n",
              "    [theme=dark] .colab-df-convert:hover {\n",
              "      background-color: #434B5C;\n",
              "      box-shadow: 0px 1px 3px 1px rgba(0, 0, 0, 0.15);\n",
              "      filter: drop-shadow(0px 1px 2px rgba(0, 0, 0, 0.3));\n",
              "      fill: #FFFFFF;\n",
              "    }\n",
              "  </style>\n",
              "\n",
              "      <script>\n",
              "        const buttonEl =\n",
              "          document.querySelector('#df-9a842e48-bde2-4bc4-b2cf-f901b2c26511 button.colab-df-convert');\n",
              "        buttonEl.style.display =\n",
              "          google.colab.kernel.accessAllowed ? 'block' : 'none';\n",
              "\n",
              "        async function convertToInteractive(key) {\n",
              "          const element = document.querySelector('#df-9a842e48-bde2-4bc4-b2cf-f901b2c26511');\n",
              "          const dataTable =\n",
              "            await google.colab.kernel.invokeFunction('convertToInteractive',\n",
              "                                                     [key], {});\n",
              "          if (!dataTable) return;\n",
              "\n",
              "          const docLinkHtml = 'Like what you see? Visit the ' +\n",
              "            '<a target=\"_blank\" href=https://colab.research.google.com/notebooks/data_table.ipynb>data table notebook</a>'\n",
              "            + ' to learn more about interactive tables.';\n",
              "          element.innerHTML = '';\n",
              "          dataTable['output_type'] = 'display_data';\n",
              "          await google.colab.output.renderOutput(dataTable, element);\n",
              "          const docLink = document.createElement('div');\n",
              "          docLink.innerHTML = docLinkHtml;\n",
              "          element.appendChild(docLink);\n",
              "        }\n",
              "      </script>\n",
              "    </div>\n",
              "  </div>\n",
              "  "
            ]
          },
          "metadata": {},
          "execution_count": 26
        }
      ],
      "source": [
        "# Arrival_Time (criando colunas de horas e minutos)\n",
        "train_df[\"Arrival_hour\"] = pd.to_datetime(train_df.Arrival_Time).dt.hour\n",
        "train_df[\"Arrival_min\"] = pd.to_datetime(train_df.Arrival_Time).dt.minute\n",
        "train_df.drop([\"Arrival_Time\"], axis = 1, inplace = True)\n",
        "train_df.head(2)"
      ]
    },
    {
      "cell_type": "markdown",
      "metadata": {
        "id": "ER4qZaDu5lGF"
      },
      "source": [
        "### **OBS: TODOS OS PROCESSAMENTOS DEVEM SER REPETIDO NOS DADOS DE TESTE (VALIDAÇÃO).**"
      ]
    },
    {
      "cell_type": "code",
      "execution_count": 27,
      "metadata": {
        "colab": {
          "base_uri": "https://localhost:8080/",
          "height": 156
        },
        "id": "cFaNSYGH5_HU",
        "outputId": "3b1a1c1d-0da8-4c2d-eab9-0bb6f7915592"
      },
      "outputs": [
        {
          "output_type": "execute_result",
          "data": {
            "text/plain": [
              "       Airline   Source Destination            Route Dep_Time  Arrival_Time  \\\n",
              "0  Jet Airways    Delhi      Cochin  DEL → BOM → COK    17:30  04:25 07 Jun   \n",
              "1       IndiGo  Kolkata    Banglore  CCU → MAA → BLR    06:20         10:20   \n",
              "\n",
              "   Duration Total_Stops Additional_Info  Journey_day  Journey_month  \n",
              "0       655      1 stop         No info            6              6  \n",
              "1       240      1 stop         No info           12              5  "
            ],
            "text/html": [
              "\n",
              "  <div id=\"df-73aab92a-e046-44e2-a9d1-4ab1f6b6b70a\">\n",
              "    <div class=\"colab-df-container\">\n",
              "      <div>\n",
              "<style scoped>\n",
              "    .dataframe tbody tr th:only-of-type {\n",
              "        vertical-align: middle;\n",
              "    }\n",
              "\n",
              "    .dataframe tbody tr th {\n",
              "        vertical-align: top;\n",
              "    }\n",
              "\n",
              "    .dataframe thead th {\n",
              "        text-align: right;\n",
              "    }\n",
              "</style>\n",
              "<table border=\"1\" class=\"dataframe\">\n",
              "  <thead>\n",
              "    <tr style=\"text-align: right;\">\n",
              "      <th></th>\n",
              "      <th>Airline</th>\n",
              "      <th>Source</th>\n",
              "      <th>Destination</th>\n",
              "      <th>Route</th>\n",
              "      <th>Dep_Time</th>\n",
              "      <th>Arrival_Time</th>\n",
              "      <th>Duration</th>\n",
              "      <th>Total_Stops</th>\n",
              "      <th>Additional_Info</th>\n",
              "      <th>Journey_day</th>\n",
              "      <th>Journey_month</th>\n",
              "    </tr>\n",
              "  </thead>\n",
              "  <tbody>\n",
              "    <tr>\n",
              "      <th>0</th>\n",
              "      <td>Jet Airways</td>\n",
              "      <td>Delhi</td>\n",
              "      <td>Cochin</td>\n",
              "      <td>DEL → BOM → COK</td>\n",
              "      <td>17:30</td>\n",
              "      <td>04:25 07 Jun</td>\n",
              "      <td>655</td>\n",
              "      <td>1 stop</td>\n",
              "      <td>No info</td>\n",
              "      <td>6</td>\n",
              "      <td>6</td>\n",
              "    </tr>\n",
              "    <tr>\n",
              "      <th>1</th>\n",
              "      <td>IndiGo</td>\n",
              "      <td>Kolkata</td>\n",
              "      <td>Banglore</td>\n",
              "      <td>CCU → MAA → BLR</td>\n",
              "      <td>06:20</td>\n",
              "      <td>10:20</td>\n",
              "      <td>240</td>\n",
              "      <td>1 stop</td>\n",
              "      <td>No info</td>\n",
              "      <td>12</td>\n",
              "      <td>5</td>\n",
              "    </tr>\n",
              "  </tbody>\n",
              "</table>\n",
              "</div>\n",
              "      <button class=\"colab-df-convert\" onclick=\"convertToInteractive('df-73aab92a-e046-44e2-a9d1-4ab1f6b6b70a')\"\n",
              "              title=\"Convert this dataframe to an interactive table.\"\n",
              "              style=\"display:none;\">\n",
              "        \n",
              "  <svg xmlns=\"http://www.w3.org/2000/svg\" height=\"24px\"viewBox=\"0 0 24 24\"\n",
              "       width=\"24px\">\n",
              "    <path d=\"M0 0h24v24H0V0z\" fill=\"none\"/>\n",
              "    <path d=\"M18.56 5.44l.94 2.06.94-2.06 2.06-.94-2.06-.94-.94-2.06-.94 2.06-2.06.94zm-11 1L8.5 8.5l.94-2.06 2.06-.94-2.06-.94L8.5 2.5l-.94 2.06-2.06.94zm10 10l.94 2.06.94-2.06 2.06-.94-2.06-.94-.94-2.06-.94 2.06-2.06.94z\"/><path d=\"M17.41 7.96l-1.37-1.37c-.4-.4-.92-.59-1.43-.59-.52 0-1.04.2-1.43.59L10.3 9.45l-7.72 7.72c-.78.78-.78 2.05 0 2.83L4 21.41c.39.39.9.59 1.41.59.51 0 1.02-.2 1.41-.59l7.78-7.78 2.81-2.81c.8-.78.8-2.07 0-2.86zM5.41 20L4 18.59l7.72-7.72 1.47 1.35L5.41 20z\"/>\n",
              "  </svg>\n",
              "      </button>\n",
              "      \n",
              "  <style>\n",
              "    .colab-df-container {\n",
              "      display:flex;\n",
              "      flex-wrap:wrap;\n",
              "      gap: 12px;\n",
              "    }\n",
              "\n",
              "    .colab-df-convert {\n",
              "      background-color: #E8F0FE;\n",
              "      border: none;\n",
              "      border-radius: 50%;\n",
              "      cursor: pointer;\n",
              "      display: none;\n",
              "      fill: #1967D2;\n",
              "      height: 32px;\n",
              "      padding: 0 0 0 0;\n",
              "      width: 32px;\n",
              "    }\n",
              "\n",
              "    .colab-df-convert:hover {\n",
              "      background-color: #E2EBFA;\n",
              "      box-shadow: 0px 1px 2px rgba(60, 64, 67, 0.3), 0px 1px 3px 1px rgba(60, 64, 67, 0.15);\n",
              "      fill: #174EA6;\n",
              "    }\n",
              "\n",
              "    [theme=dark] .colab-df-convert {\n",
              "      background-color: #3B4455;\n",
              "      fill: #D2E3FC;\n",
              "    }\n",
              "\n",
              "    [theme=dark] .colab-df-convert:hover {\n",
              "      background-color: #434B5C;\n",
              "      box-shadow: 0px 1px 3px 1px rgba(0, 0, 0, 0.15);\n",
              "      filter: drop-shadow(0px 1px 2px rgba(0, 0, 0, 0.3));\n",
              "      fill: #FFFFFF;\n",
              "    }\n",
              "  </style>\n",
              "\n",
              "      <script>\n",
              "        const buttonEl =\n",
              "          document.querySelector('#df-73aab92a-e046-44e2-a9d1-4ab1f6b6b70a button.colab-df-convert');\n",
              "        buttonEl.style.display =\n",
              "          google.colab.kernel.accessAllowed ? 'block' : 'none';\n",
              "\n",
              "        async function convertToInteractive(key) {\n",
              "          const element = document.querySelector('#df-73aab92a-e046-44e2-a9d1-4ab1f6b6b70a');\n",
              "          const dataTable =\n",
              "            await google.colab.kernel.invokeFunction('convertToInteractive',\n",
              "                                                     [key], {});\n",
              "          if (!dataTable) return;\n",
              "\n",
              "          const docLinkHtml = 'Like what you see? Visit the ' +\n",
              "            '<a target=\"_blank\" href=https://colab.research.google.com/notebooks/data_table.ipynb>data table notebook</a>'\n",
              "            + ' to learn more about interactive tables.';\n",
              "          element.innerHTML = '';\n",
              "          dataTable['output_type'] = 'display_data';\n",
              "          await google.colab.output.renderOutput(dataTable, element);\n",
              "          const docLink = document.createElement('div');\n",
              "          docLink.innerHTML = docLinkHtml;\n",
              "          element.appendChild(docLink);\n",
              "        }\n",
              "      </script>\n",
              "    </div>\n",
              "  </div>\n",
              "  "
            ]
          },
          "metadata": {},
          "execution_count": 27
        }
      ],
      "source": [
        "# Date_of_Journey ( transformando colunas)\n",
        "test_df[\"Journey_day\"] = test_df['Date_of_Journey'].str.split('/').str[0].astype(int)\n",
        "test_df[\"Journey_month\"] = test_df['Date_of_Journey'].str.split('/').str[1].astype(int)\n",
        "test_df.drop([\"Date_of_Journey\"], axis = 1, inplace = True) # dropando coluna date antiga\n",
        "test_df.head(2)"
      ]
    },
    {
      "cell_type": "code",
      "execution_count": 28,
      "metadata": {
        "id": "c0DFfs837AV1"
      },
      "outputs": [],
      "source": [
        "# Dep_Time\n",
        "test_df[\"Dep_hour\"] = pd.to_datetime(test_df[\"Dep_Time\"]).dt.hour\n",
        "test_df[\"Dep_min\"] = pd.to_datetime(test_df[\"Dep_Time\"]).dt.minute\n",
        "test_df.drop([\"Dep_Time\"], axis = 1, inplace = True)"
      ]
    },
    {
      "cell_type": "code",
      "execution_count": 29,
      "metadata": {
        "id": "Dqb3lZ9G7O81"
      },
      "outputs": [],
      "source": [
        "# Arrival_Time\n",
        "test_df[\"Arrival_hour\"] = pd.to_datetime(test_df.Arrival_Time).dt.hour\n",
        "test_df[\"Arrival_min\"] = pd.to_datetime(test_df.Arrival_Time).dt.minute\n",
        "test_df.drop([\"Arrival_Time\"], axis = 1, inplace = True)"
      ]
    },
    {
      "cell_type": "code",
      "execution_count": 30,
      "metadata": {
        "colab": {
          "base_uri": "https://localhost:8080/"
        },
        "id": "pO7Dzh1y7pG2",
        "outputId": "083ee086-ad49-40ec-d657-b0ad9af0fd14"
      },
      "outputs": [
        {
          "output_type": "stream",
          "name": "stdout",
          "text": [
            "<class 'pandas.core.frame.DataFrame'>\n",
            "Int64Index: 2645 entries, 0 to 2670\n",
            "Data columns (total 13 columns):\n",
            " #   Column           Non-Null Count  Dtype \n",
            "---  ------           --------------  ----- \n",
            " 0   Airline          2645 non-null   object\n",
            " 1   Source           2645 non-null   object\n",
            " 2   Destination      2645 non-null   object\n",
            " 3   Route            2645 non-null   object\n",
            " 4   Duration         2645 non-null   int64 \n",
            " 5   Total_Stops      2645 non-null   object\n",
            " 6   Additional_Info  2645 non-null   object\n",
            " 7   Journey_day      2645 non-null   int64 \n",
            " 8   Journey_month    2645 non-null   int64 \n",
            " 9   Dep_hour         2645 non-null   int64 \n",
            " 10  Dep_min          2645 non-null   int64 \n",
            " 11  Arrival_hour     2645 non-null   int64 \n",
            " 12  Arrival_min      2645 non-null   int64 \n",
            "dtypes: int64(7), object(6)\n",
            "memory usage: 289.3+ KB\n"
          ]
        }
      ],
      "source": [
        "test_df.info()"
      ]
    },
    {
      "cell_type": "code",
      "execution_count": 31,
      "metadata": {
        "colab": {
          "base_uri": "https://localhost:8080/"
        },
        "id": "otzxzMcK8Prr",
        "outputId": "4a7fe8de-3551-4126-93ba-3a39bd5b2226"
      },
      "outputs": [
        {
          "output_type": "stream",
          "name": "stdout",
          "text": [
            "<class 'pandas.core.frame.DataFrame'>\n",
            "Int64Index: 10462 entries, 0 to 10682\n",
            "Data columns (total 14 columns):\n",
            " #   Column           Non-Null Count  Dtype \n",
            "---  ------           --------------  ----- \n",
            " 0   Airline          10462 non-null  object\n",
            " 1   Source           10462 non-null  object\n",
            " 2   Destination      10462 non-null  object\n",
            " 3   Route            10462 non-null  object\n",
            " 4   Duration         10462 non-null  int64 \n",
            " 5   Total_Stops      10462 non-null  object\n",
            " 6   Additional_Info  10462 non-null  object\n",
            " 7   Price            10462 non-null  int64 \n",
            " 8   Journey_day      10462 non-null  int64 \n",
            " 9   Journey_month    10462 non-null  int64 \n",
            " 10  Dep_hour         10462 non-null  int64 \n",
            " 11  Dep_min          10462 non-null  int64 \n",
            " 12  Arrival_hour     10462 non-null  int64 \n",
            " 13  Arrival_min      10462 non-null  int64 \n",
            "dtypes: int64(8), object(6)\n",
            "memory usage: 1.2+ MB\n"
          ]
        }
      ],
      "source": [
        "train_df.info()"
      ]
    },
    {
      "cell_type": "code",
      "execution_count": 32,
      "metadata": {
        "colab": {
          "base_uri": "https://localhost:8080/",
          "height": 350
        },
        "id": "9UgBsmC08rZY",
        "outputId": "e74ff00b-7815-4675-b8e9-1683c4d2d638"
      },
      "outputs": [
        {
          "output_type": "display_data",
          "data": {
            "text/plain": [
              "<Figure size 864x360 with 1 Axes>"
            ],
            "image/png": "[encoded data removed]"
          },
          "metadata": {
            "needs_background": "light"
          }
        }
      ],
      "source": [
        "# Plotando a quantidade de viagem por mês\n",
        "plt.figure(figsize = (12, 5))\n",
        "plt.title('Contagem de voos mês a mês')\n",
        "ax=sns.countplot(x = 'Journey_month', data = train_df)\n",
        "plt.xlabel('Mês')\n",
        "plt.ylabel('Quantidade de voos');"
      ]
    },
    {
      "cell_type": "markdown",
      "metadata": {
        "id": "grOjb2Ug-xm7"
      },
      "source": [
        "- Aqui percebe-se que o Mês 5 e 6 possuem maiores quantidades de voos, isso precede investigação, pois pode está atrelado aos preços, campanhas de marketing, ou fatores externos."
      ]
    },
    {
      "cell_type": "code",
      "execution_count": 33,
      "metadata": {
        "colab": {
          "base_uri": "https://localhost:8080/",
          "height": 448
        },
        "id": "58nEKexV_nGi",
        "outputId": "d640b6ee-48d3-4491-cc3a-fec33527eea1"
      },
      "outputs": [
        {
          "output_type": "display_data",
          "data": {
            "text/plain": [
              "<Figure size 1440x360 with 1 Axes>"
            ],
            "image/png": "[encoded data removed]"
          },
          "metadata": {
            "needs_background": "light"
          }
        }
      ],
      "source": [
        " # Plotando contagens dos voos por companhia\n",
        "plt.figure(figsize = (20,5))\n",
        "plt.title('Contagem de voos com diferentes companhias aéreas')\n",
        "ax=sns.countplot(x = 'Airline', data =train_df)\n",
        "plt.xlabel('Companhia')\n",
        "plt.ylabel('Quantidade de voos')\n",
        "plt.xticks(rotation = 45);"
      ]
    },
    {
      "cell_type": "markdown",
      "metadata": {
        "id": "j8WFNOKTANnP"
      },
      "source": [
        "- Aqui se comprova que a JET AIRWAYS, possui mais voos que as demais, talvez por motivos de serviços diferenciados ou publicidades, haja visto no próximo gráfico que os preços praticados assemelha-se com outras companhia"
      ]
    },
    {
      "cell_type": "code",
      "execution_count": 34,
      "metadata": {
        "colab": {
          "base_uri": "https://localhost:8080/",
          "height": 459
        },
        "id": "LHhsvX-kAwNs",
        "outputId": "5b45c58a-50e7-42b6-af85-6dc1fb11276d"
      },
      "outputs": [
        {
          "output_type": "display_data",
          "data": {
            "text/plain": [
              "<Figure size 1080x288 with 1 Axes>"
            ],
            "image/png": "[encoded data removed]"
          },
          "metadata": {
            "needs_background": "light"
          }
        }
      ],
      "source": [
        "# Plotando o ticket de preços por companhia\n",
        "plt.figure(figsize = (15,4))\n",
        "plt.title('Preço da Passagem por Companhia')\n",
        "plt.scatter(train_df['Airline'], train_df['Price'])\n",
        "plt.xticks\n",
        "plt.xlabel('Companhia')\n",
        "plt.ylabel('Preço da Passagem')\n",
        "plt.xticks(rotation = 75);"
      ]
    },
    {
      "cell_type": "markdown",
      "metadata": {
        "id": "GtwfHDDACeXG"
      },
      "source": [
        "O gráfico dos preços retrata informações relevantes;\n",
        "\n",
        "1.A empresa JET_AIRWAYS possui um preços equiparado às outras companhias, porém tem maior quantidade de voos.\n",
        "\n",
        "2.Os maiores preços estão com a empresa JET AIWAYS BUSINEES, talvez se explique por se tratar de voos executivos.\n",
        "\n",
        "3.Os menores preços não refletem em quantidades de voos"
      ]
    },
    {
      "cell_type": "code",
      "execution_count": 35,
      "metadata": {
        "colab": {
          "base_uri": "https://localhost:8080/",
          "height": 350
        },
        "id": "QLWlIItrFPb7",
        "outputId": "83e1c2f6-7451-46cf-d008-84b390e823d1"
      },
      "outputs": [
        {
          "output_type": "display_data",
          "data": {
            "text/plain": [
              "<Figure size 720x360 with 1 Axes>"
            ],
            "image/png": "[encoded data removed]"
          },
          "metadata": {
            "needs_background": "light"
          }
        }
      ],
      "source": [
        "# Plotando os hprários das viagens origens\n",
        "plt.figure(figsize = (10, 5))\n",
        "plt.title('horários de partida')\n",
        "ax=sns.countplot(x = 'Dep_hour', data = train_df)\n",
        "plt.xlabel('horas')\n",
        "plt.ylabel('Quantidade de voos');"
      ]
    },
    {
      "cell_type": "markdown",
      "metadata": {
        "id": "yaEl0mewRdvW"
      },
      "source": [
        "- Os menores picos de viagens se concentram entre 23hs  e 4hs."
      ]
    },
    {
      "cell_type": "code",
      "execution_count": 36,
      "metadata": {
        "colab": {
          "base_uri": "https://localhost:8080/",
          "height": 715
        },
        "id": "MMR3Q-hEBTVi",
        "outputId": "3ba11af8-64eb-44f1-e2cd-396e7d88bdde"
      },
      "outputs": [
        {
          "output_type": "display_data",
          "data": {
            "text/plain": [
              "<Figure size 792x792 with 2 Axes>"
            ],
            "image/png": "[encoded data removed]"
          },
          "metadata": {
            "needs_background": "light"
          }
        }
      ],
      "source": [
        "# Plotando a correlação\n",
        "plt.figure(figsize = (11,11))\n",
        "sns.heatmap(train_df.corr(), annot = True, cmap = \"RdYlGn\")\n",
        "plt.show()"
      ]
    },
    {
      "cell_type": "markdown",
      "metadata": {
        "id": "n39F9w9PCHwt"
      },
      "source": [
        "- Aqui observa que o price(preço) tem relação inversa com o Day jorney, ou seja, o preço varia com o dia da viagem."
      ]
    },
    {
      "cell_type": "markdown",
      "metadata": {
        "id": "XaJbuJdYESCh"
      },
      "source": [
        "##- Separando as variáveis categóricas e numéricas"
      ]
    },
    {
      "cell_type": "code",
      "execution_count": 37,
      "metadata": {
        "id": "6fuV3uEhF_YH"
      },
      "outputs": [],
      "source": [
        "# Definindo X e y de treino\n",
        "#a = train_df.drop([\"Price\"], axis=1)\n",
        "y=train_df[\"Price\"]"
      ]
    },
    {
      "cell_type": "code",
      "execution_count": 38,
      "metadata": {
        "id": "eM_2H9H7Eg2w"
      },
      "outputs": [],
      "source": [
        "# Variáveis categórica e numéricas\n",
        "train_cat_data = train_df.select_dtypes(exclude=['int64', 'float','int32']) # excluindo as variávies com números, ou seja, ficando apenas com as categóricas\n",
        "train_nume_data = train_df.select_dtypes(include=['int64', 'float','int32']) # incluindo apenas as numéricas\n",
        "\n",
        "test_cat_data = test_df.select_dtypes(exclude=['int64', 'float','int32','int32'])\n",
        "test_nume_data  = test_df.select_dtypes(include=['int64', 'float','int32'])"
      ]
    },
    {
      "cell_type": "code",
      "execution_count": 39,
      "metadata": {
        "colab": {
          "base_uri": "https://localhost:8080/",
          "height": 424
        },
        "id": "FM4U68ACIEVI",
        "outputId": "cd9f6271-a8ac-4c28-ac38-8692b6b59642"
      },
      "outputs": [
        {
          "output_type": "execute_result",
          "data": {
            "text/plain": [
              "       Duration  Price  Journey_day  Journey_month  Dep_hour  Dep_min  \\\n",
              "0           170   3897           24              3        22       20   \n",
              "1           445   7662            1              5         5       50   \n",
              "2          1140  13882            9              6         9       25   \n",
              "3           325   6218           12              5        18        5   \n",
              "4           285  13302            1              3        16       50   \n",
              "...         ...    ...          ...            ...       ...      ...   \n",
              "10678       150   4107            9              4        19       55   \n",
              "10679       155   4145           27              4        20       45   \n",
              "10680       180   7229           27              4         8       20   \n",
              "10681       160  12648            1              3        11       30   \n",
              "10682       500  11753            9              5        10       55   \n",
              "\n",
              "       Arrival_hour  Arrival_min  \n",
              "0                 1           10  \n",
              "1                13           15  \n",
              "2                 4           25  \n",
              "3                23           30  \n",
              "4                21           35  \n",
              "...             ...          ...  \n",
              "10678            22           25  \n",
              "10679            23           20  \n",
              "10680            11           20  \n",
              "10681            14           10  \n",
              "10682            19           15  \n",
              "\n",
              "[10462 rows x 8 columns]"
            ],
            "text/html": [
              "\n",
              "  <div id=\"df-f08ae30a-729c-4f19-9717-121a74371fc5\">\n",
              "    <div class=\"colab-df-container\">\n",
              "      <div>\n",
              "<style scoped>\n",
              "    .dataframe tbody tr th:only-of-type {\n",
              "        vertical-align: middle;\n",
              "    }\n",
              "\n",
              "    .dataframe tbody tr th {\n",
              "        vertical-align: top;\n",
              "    }\n",
              "\n",
              "    .dataframe thead th {\n",
              "        text-align: right;\n",
              "    }\n",
              "</style>\n",
              "<table border=\"1\" class=\"dataframe\">\n",
              "  <thead>\n",
              "    <tr style=\"text-align: right;\">\n",
              "      <th></th>\n",
              "      <th>Duration</th>\n",
              "      <th>Price</th>\n",
              "      <th>Journey_day</th>\n",
              "      <th>Journey_month</th>\n",
              "      <th>Dep_hour</th>\n",
              "      <th>Dep_min</th>\n",
              "      <th>Arrival_hour</th>\n",
              "      <th>Arrival_min</th>\n",
              "    </tr>\n",
              "  </thead>\n",
              "  <tbody>\n",
              "    <tr>\n",
              "      <th>0</th>\n",
              "      <td>170</td>\n",
              "      <td>3897</td>\n",
              "      <td>24</td>\n",
              "      <td>3</td>\n",
              "      <td>22</td>\n",
              "      <td>20</td>\n",
              "      <td>1</td>\n",
              "      <td>10</td>\n",
              "    </tr>\n",
              "    <tr>\n",
              "      <th>1</th>\n",
              "      <td>445</td>\n",
              "      <td>7662</td>\n",
              "      <td>1</td>\n",
              "      <td>5</td>\n",
              "      <td>5</td>\n",
              "      <td>50</td>\n",
              "      <td>13</td>\n",
              "      <td>15</td>\n",
              "    </tr>\n",
              "    <tr>\n",
              "      <th>2</th>\n",
              "      <td>1140</td>\n",
              "      <td>13882</td>\n",
              "      <td>9</td>\n",
              "      <td>6</td>\n",
              "      <td>9</td>\n",
              "      <td>25</td>\n",
              "      <td>4</td>\n",
              "      <td>25</td>\n",
              "    </tr>\n",
              "    <tr>\n",
              "      <th>3</th>\n",
              "      <td>325</td>\n",
              "      <td>6218</td>\n",
              "      <td>12</td>\n",
              "      <td>5</td>\n",
              "      <td>18</td>\n",
              "      <td>5</td>\n",
              "      <td>23</td>\n",
              "      <td>30</td>\n",
              "    </tr>\n",
              "    <tr>\n",
              "      <th>4</th>\n",
              "      <td>285</td>\n",
              "      <td>13302</td>\n",
              "      <td>1</td>\n",
              "      <td>3</td>\n",
              "      <td>16</td>\n",
              "      <td>50</td>\n",
              "      <td>21</td>\n",
              "      <td>35</td>\n",
              "    </tr>\n",
              "    <tr>\n",
              "      <th>...</th>\n",
              "      <td>...</td>\n",
              "      <td>...</td>\n",
              "      <td>...</td>\n",
              "      <td>...</td>\n",
              "      <td>...</td>\n",
              "      <td>...</td>\n",
              "      <td>...</td>\n",
              "      <td>...</td>\n",
              "    </tr>\n",
              "    <tr>\n",
              "      <th>10678</th>\n",
              "      <td>150</td>\n",
              "      <td>4107</td>\n",
              "      <td>9</td>\n",
              "      <td>4</td>\n",
              "      <td>19</td>\n",
              "      <td>55</td>\n",
              "      <td>22</td>\n",
              "      <td>25</td>\n",
              "    </tr>\n",
              "    <tr>\n",
              "      <th>10679</th>\n",
              "      <td>155</td>\n",
              "      <td>4145</td>\n",
              "      <td>27</td>\n",
              "      <td>4</td>\n",
              "      <td>20</td>\n",
              "      <td>45</td>\n",
              "      <td>23</td>\n",
              "      <td>20</td>\n",
              "    </tr>\n",
              "    <tr>\n",
              "      <th>10680</th>\n",
              "      <td>180</td>\n",
              "      <td>7229</td>\n",
              "      <td>27</td>\n",
              "      <td>4</td>\n",
              "      <td>8</td>\n",
              "      <td>20</td>\n",
              "      <td>11</td>\n",
              "      <td>20</td>\n",
              "    </tr>\n",
              "    <tr>\n",
              "      <th>10681</th>\n",
              "      <td>160</td>\n",
              "      <td>12648</td>\n",
              "      <td>1</td>\n",
              "      <td>3</td>\n",
              "      <td>11</td>\n",
              "      <td>30</td>\n",
              "      <td>14</td>\n",
              "      <td>10</td>\n",
              "    </tr>\n",
              "    <tr>\n",
              "      <th>10682</th>\n",
              "      <td>500</td>\n",
              "      <td>11753</td>\n",
              "      <td>9</td>\n",
              "      <td>5</td>\n",
              "      <td>10</td>\n",
              "      <td>55</td>\n",
              "      <td>19</td>\n",
              "      <td>15</td>\n",
              "    </tr>\n",
              "  </tbody>\n",
              "</table>\n",
              "<p>10462 rows × 8 columns</p>\n",
              "</div>\n",
              "      <button class=\"colab-df-convert\" onclick=\"convertToInteractive('df-f08ae30a-729c-4f19-9717-121a74371fc5')\"\n",
              "              title=\"Convert this dataframe to an interactive table.\"\n",
              "              style=\"display:none;\">\n",
              "        \n",
              "  <svg xmlns=\"http://www.w3.org/2000/svg\" height=\"24px\"viewBox=\"0 0 24 24\"\n",
              "       width=\"24px\">\n",
              "    <path d=\"M0 0h24v24H0V0z\" fill=\"none\"/>\n",
              "    <path d=\"M18.56 5.44l.94 2.06.94-2.06 2.06-.94-2.06-.94-.94-2.06-.94 2.06-2.06.94zm-11 1L8.5 8.5l.94-2.06 2.06-.94-2.06-.94L8.5 2.5l-.94 2.06-2.06.94zm10 10l.94 2.06.94-2.06 2.06-.94-2.06-.94-.94-2.06-.94 2.06-2.06.94z\"/><path d=\"M17.41 7.96l-1.37-1.37c-.4-.4-.92-.59-1.43-.59-.52 0-1.04.2-1.43.59L10.3 9.45l-7.72 7.72c-.78.78-.78 2.05 0 2.83L4 21.41c.39.39.9.59 1.41.59.51 0 1.02-.2 1.41-.59l7.78-7.78 2.81-2.81c.8-.78.8-2.07 0-2.86zM5.41 20L4 18.59l7.72-7.72 1.47 1.35L5.41 20z\"/>\n",
              "  </svg>\n",
              "      </button>\n",
              "      \n",
              "  <style>\n",
              "    .colab-df-container {\n",
              "      display:flex;\n",
              "      flex-wrap:wrap;\n",
              "      gap: 12px;\n",
              "    }\n",
              "\n",
              "    .colab-df-convert {\n",
              "      background-color: #E8F0FE;\n",
              "      border: none;\n",
              "      border-radius: 50%;\n",
              "      cursor: pointer;\n",
              "      display: none;\n",
              "      fill: #1967D2;\n",
              "      height: 32px;\n",
              "      padding: 0 0 0 0;\n",
              "      width: 32px;\n",
              "    }\n",
              "\n",
              "    .colab-df-convert:hover {\n",
              "      background-color: #E2EBFA;\n",
              "      box-shadow: 0px 1px 2px rgba(60, 64, 67, 0.3), 0px 1px 3px 1px rgba(60, 64, 67, 0.15);\n",
              "      fill: #174EA6;\n",
              "    }\n",
              "\n",
              "    [theme=dark] .colab-df-convert {\n",
              "      background-color: #3B4455;\n",
              "      fill: #D2E3FC;\n",
              "    }\n",
              "\n",
              "    [theme=dark] .colab-df-convert:hover {\n",
              "      background-color: #434B5C;\n",
              "      box-shadow: 0px 1px 3px 1px rgba(0, 0, 0, 0.15);\n",
              "      filter: drop-shadow(0px 1px 2px rgba(0, 0, 0, 0.3));\n",
              "      fill: #FFFFFF;\n",
              "    }\n",
              "  </style>\n",
              "\n",
              "      <script>\n",
              "        const buttonEl =\n",
              "          document.querySelector('#df-f08ae30a-729c-4f19-9717-121a74371fc5 button.colab-df-convert');\n",
              "        buttonEl.style.display =\n",
              "          google.colab.kernel.accessAllowed ? 'block' : 'none';\n",
              "\n",
              "        async function convertToInteractive(key) {\n",
              "          const element = document.querySelector('#df-f08ae30a-729c-4f19-9717-121a74371fc5');\n",
              "          const dataTable =\n",
              "            await google.colab.kernel.invokeFunction('convertToInteractive',\n",
              "                                                     [key], {});\n",
              "          if (!dataTable) return;\n",
              "\n",
              "          const docLinkHtml = 'Like what you see? Visit the ' +\n",
              "            '<a target=\"_blank\" href=https://colab.research.google.com/notebooks/data_table.ipynb>data table notebook</a>'\n",
              "            + ' to learn more about interactive tables.';\n",
              "          element.innerHTML = '';\n",
              "          dataTable['output_type'] = 'display_data';\n",
              "          await google.colab.output.renderOutput(dataTable, element);\n",
              "          const docLink = document.createElement('div');\n",
              "          docLink.innerHTML = docLinkHtml;\n",
              "          element.appendChild(docLink);\n",
              "        }\n",
              "      </script>\n",
              "    </div>\n",
              "  </div>\n",
              "  "
            ]
          },
          "metadata": {},
          "execution_count": 39
        }
      ],
      "source": [
        "# observando apenas as numéricas de traino\n",
        "train_nume_data"
      ]
    },
    {
      "cell_type": "code",
      "execution_count": 40,
      "metadata": {
        "colab": {
          "base_uri": "https://localhost:8080/",
          "height": 424
        },
        "id": "LU1Xz3TqJxBj",
        "outputId": "92a52953-3064-4c50-eae5-69805b874c95"
      },
      "outputs": [
        {
          "output_type": "execute_result",
          "data": {
            "text/plain": [
              "           Airline    Source Destination                  Route Total_Stops  \\\n",
              "0           IndiGo  Banglore   New Delhi              BLR → DEL    non-stop   \n",
              "1        Air India   Kolkata    Banglore  CCU → IXR → BBI → BLR     2 stops   \n",
              "2      Jet Airways     Delhi      Cochin  DEL → LKO → BOM → COK     2 stops   \n",
              "3           IndiGo   Kolkata    Banglore        CCU → NAG → BLR      1 stop   \n",
              "4           IndiGo  Banglore   New Delhi        BLR → NAG → DEL      1 stop   \n",
              "...            ...       ...         ...                    ...         ...   \n",
              "10678     Air Asia   Kolkata    Banglore              CCU → BLR    non-stop   \n",
              "10679    Air India   Kolkata    Banglore              CCU → BLR    non-stop   \n",
              "10680  Jet Airways  Banglore       Delhi              BLR → DEL    non-stop   \n",
              "10681      Vistara  Banglore   New Delhi              BLR → DEL    non-stop   \n",
              "10682    Air India     Delhi      Cochin  DEL → GOI → BOM → COK     2 stops   \n",
              "\n",
              "      Additional_Info  \n",
              "0             No info  \n",
              "1             No info  \n",
              "2             No info  \n",
              "3             No info  \n",
              "4             No info  \n",
              "...               ...  \n",
              "10678         No info  \n",
              "10679         No info  \n",
              "10680         No info  \n",
              "10681         No info  \n",
              "10682         No info  \n",
              "\n",
              "[10462 rows x 6 columns]"
            ],
            "text/html": [
              "\n",
              "  <div id=\"df-f06fae80-7037-4147-8c31-d0b9a7a5b5e5\">\n",
              "    <div class=\"colab-df-container\">\n",
              "      <div>\n",
              "<style scoped>\n",
              "    .dataframe tbody tr th:only-of-type {\n",
              "        vertical-align: middle;\n",
              "    }\n",
              "\n",
              "    .dataframe tbody tr th {\n",
              "        vertical-align: top;\n",
              "    }\n",
              "\n",
              "    .dataframe thead th {\n",
              "        text-align: right;\n",
              "    }\n",
              "</style>\n",
              "<table border=\"1\" class=\"dataframe\">\n",
              "  <thead>\n",
              "    <tr style=\"text-align: right;\">\n",
              "      <th></th>\n",
              "      <th>Airline</th>\n",
              "      <th>Source</th>\n",
              "      <th>Destination</th>\n",
              "      <th>Route</th>\n",
              "      <th>Total_Stops</th>\n",
              "      <th>Additional_Info</th>\n",
              "    </tr>\n",
              "  </thead>\n",
              "  <tbody>\n",
              "    <tr>\n",
              "      <th>0</th>\n",
              "      <td>IndiGo</td>\n",
              "      <td>Banglore</td>\n",
              "      <td>New Delhi</td>\n",
              "      <td>BLR → DEL</td>\n",
              "      <td>non-stop</td>\n",
              "      <td>No info</td>\n",
              "    </tr>\n",
              "    <tr>\n",
              "      <th>1</th>\n",
              "      <td>Air India</td>\n",
              "      <td>Kolkata</td>\n",
              "      <td>Banglore</td>\n",
              "      <td>CCU → IXR → BBI → BLR</td>\n",
              "      <td>2 stops</td>\n",
              "      <td>No info</td>\n",
              "    </tr>\n",
              "    <tr>\n",
              "      <th>2</th>\n",
              "      <td>Jet Airways</td>\n",
              "      <td>Delhi</td>\n",
              "      <td>Cochin</td>\n",
              "      <td>DEL → LKO → BOM → COK</td>\n",
              "      <td>2 stops</td>\n",
              "      <td>No info</td>\n",
              "    </tr>\n",
              "    <tr>\n",
              "      <th>3</th>\n",
              "      <td>IndiGo</td>\n",
              "      <td>Kolkata</td>\n",
              "      <td>Banglore</td>\n",
              "      <td>CCU → NAG → BLR</td>\n",
              "      <td>1 stop</td>\n",
              "      <td>No info</td>\n",
              "    </tr>\n",
              "    <tr>\n",
              "      <th>4</th>\n",
              "      <td>IndiGo</td>\n",
              "      <td>Banglore</td>\n",
              "      <td>New Delhi</td>\n",
              "      <td>BLR → NAG → DEL</td>\n",
              "      <td>1 stop</td>\n",
              "      <td>No info</td>\n",
              "    </tr>\n",
              "    <tr>\n",
              "      <th>...</th>\n",
              "      <td>...</td>\n",
              "      <td>...</td>\n",
              "      <td>...</td>\n",
              "      <td>...</td>\n",
              "      <td>...</td>\n",
              "      <td>...</td>\n",
              "    </tr>\n",
              "    <tr>\n",
              "      <th>10678</th>\n",
              "      <td>Air Asia</td>\n",
              "      <td>Kolkata</td>\n",
              "      <td>Banglore</td>\n",
              "      <td>CCU → BLR</td>\n",
              "      <td>non-stop</td>\n",
              "      <td>No info</td>\n",
              "    </tr>\n",
              "    <tr>\n",
              "      <th>10679</th>\n",
              "      <td>Air India</td>\n",
              "      <td>Kolkata</td>\n",
              "      <td>Banglore</td>\n",
              "      <td>CCU → BLR</td>\n",
              "      <td>non-stop</td>\n",
              "      <td>No info</td>\n",
              "    </tr>\n",
              "    <tr>\n",
              "      <th>10680</th>\n",
              "      <td>Jet Airways</td>\n",
              "      <td>Banglore</td>\n",
              "      <td>Delhi</td>\n",
              "      <td>BLR → DEL</td>\n",
              "      <td>non-stop</td>\n",
              "      <td>No info</td>\n",
              "    </tr>\n",
              "    <tr>\n",
              "      <th>10681</th>\n",
              "      <td>Vistara</td>\n",
              "      <td>Banglore</td>\n",
              "      <td>New Delhi</td>\n",
              "      <td>BLR → DEL</td>\n",
              "      <td>non-stop</td>\n",
              "      <td>No info</td>\n",
              "    </tr>\n",
              "    <tr>\n",
              "      <th>10682</th>\n",
              "      <td>Air India</td>\n",
              "      <td>Delhi</td>\n",
              "      <td>Cochin</td>\n",
              "      <td>DEL → GOI → BOM → COK</td>\n",
              "      <td>2 stops</td>\n",
              "      <td>No info</td>\n",
              "    </tr>\n",
              "  </tbody>\n",
              "</table>\n",
              "<p>10462 rows × 6 columns</p>\n",
              "</div>\n",
              "      <button class=\"colab-df-convert\" onclick=\"convertToInteractive('df-f06fae80-7037-4147-8c31-d0b9a7a5b5e5')\"\n",
              "              title=\"Convert this dataframe to an interactive table.\"\n",
              "              style=\"display:none;\">\n",
              "        \n",
              "  <svg xmlns=\"http://www.w3.org/2000/svg\" height=\"24px\"viewBox=\"0 0 24 24\"\n",
              "       width=\"24px\">\n",
              "    <path d=\"M0 0h24v24H0V0z\" fill=\"none\"/>\n",
              "    <path d=\"M18.56 5.44l.94 2.06.94-2.06 2.06-.94-2.06-.94-.94-2.06-.94 2.06-2.06.94zm-11 1L8.5 8.5l.94-2.06 2.06-.94-2.06-.94L8.5 2.5l-.94 2.06-2.06.94zm10 10l.94 2.06.94-2.06 2.06-.94-2.06-.94-.94-2.06-.94 2.06-2.06.94z\"/><path d=\"M17.41 7.96l-1.37-1.37c-.4-.4-.92-.59-1.43-.59-.52 0-1.04.2-1.43.59L10.3 9.45l-7.72 7.72c-.78.78-.78 2.05 0 2.83L4 21.41c.39.39.9.59 1.41.59.51 0 1.02-.2 1.41-.59l7.78-7.78 2.81-2.81c.8-.78.8-2.07 0-2.86zM5.41 20L4 18.59l7.72-7.72 1.47 1.35L5.41 20z\"/>\n",
              "  </svg>\n",
              "      </button>\n",
              "      \n",
              "  <style>\n",
              "    .colab-df-container {\n",
              "      display:flex;\n",
              "      flex-wrap:wrap;\n",
              "      gap: 12px;\n",
              "    }\n",
              "\n",
              "    .colab-df-convert {\n",
              "      background-color: #E8F0FE;\n",
              "      border: none;\n",
              "      border-radius: 50%;\n",
              "      cursor: pointer;\n",
              "      display: none;\n",
              "      fill: #1967D2;\n",
              "      height: 32px;\n",
              "      padding: 0 0 0 0;\n",
              "      width: 32px;\n",
              "    }\n",
              "\n",
              "    .colab-df-convert:hover {\n",
              "      background-color: #E2EBFA;\n",
              "      box-shadow: 0px 1px 2px rgba(60, 64, 67, 0.3), 0px 1px 3px 1px rgba(60, 64, 67, 0.15);\n",
              "      fill: #174EA6;\n",
              "    }\n",
              "\n",
              "    [theme=dark] .colab-df-convert {\n",
              "      background-color: #3B4455;\n",
              "      fill: #D2E3FC;\n",
              "    }\n",
              "\n",
              "    [theme=dark] .colab-df-convert:hover {\n",
              "      background-color: #434B5C;\n",
              "      box-shadow: 0px 1px 3px 1px rgba(0, 0, 0, 0.15);\n",
              "      filter: drop-shadow(0px 1px 2px rgba(0, 0, 0, 0.3));\n",
              "      fill: #FFFFFF;\n",
              "    }\n",
              "  </style>\n",
              "\n",
              "      <script>\n",
              "        const buttonEl =\n",
              "          document.querySelector('#df-f06fae80-7037-4147-8c31-d0b9a7a5b5e5 button.colab-df-convert');\n",
              "        buttonEl.style.display =\n",
              "          google.colab.kernel.accessAllowed ? 'block' : 'none';\n",
              "\n",
              "        async function convertToInteractive(key) {\n",
              "          const element = document.querySelector('#df-f06fae80-7037-4147-8c31-d0b9a7a5b5e5');\n",
              "          const dataTable =\n",
              "            await google.colab.kernel.invokeFunction('convertToInteractive',\n",
              "                                                     [key], {});\n",
              "          if (!dataTable) return;\n",
              "\n",
              "          const docLinkHtml = 'Like what you see? Visit the ' +\n",
              "            '<a target=\"_blank\" href=https://colab.research.google.com/notebooks/data_table.ipynb>data table notebook</a>'\n",
              "            + ' to learn more about interactive tables.';\n",
              "          element.innerHTML = '';\n",
              "          dataTable['output_type'] = 'display_data';\n",
              "          await google.colab.output.renderOutput(dataTable, element);\n",
              "          const docLink = document.createElement('div');\n",
              "          docLink.innerHTML = docLinkHtml;\n",
              "          element.appendChild(docLink);\n",
              "        }\n",
              "      </script>\n",
              "    </div>\n",
              "  </div>\n",
              "  "
            ]
          },
          "metadata": {},
          "execution_count": 40
        }
      ],
      "source": [
        "# observando as categóricas do treino\n",
        "train_cat_data"
      ]
    },
    {
      "cell_type": "code",
      "execution_count": 41,
      "metadata": {
        "id": "LWOvF7aDLeVp"
      },
      "outputs": [],
      "source": [
        "# Label Encode nas categóricas (transformando em números)\n",
        "le = LabelEncoder()\n",
        "train_cat_data = train_cat_data.apply(LabelEncoder().fit_transform)\n",
        "test_cat_data = test_cat_data.apply(LabelEncoder().fit_transform)"
      ]
    },
    {
      "cell_type": "code",
      "execution_count": 42,
      "metadata": {
        "colab": {
          "base_uri": "https://localhost:8080/",
          "height": 424
        },
        "id": "UIgS7VTUJ0FT",
        "outputId": "e578d7d2-f3b1-4786-de54-f4816430a085"
      },
      "outputs": [
        {
          "output_type": "execute_result",
          "data": {
            "text/plain": [
              "       Airline  Source  Destination  Route  Total_Stops  Additional_Info\n",
              "0            3       0            5     18            4                8\n",
              "1            1       3            0     84            1                8\n",
              "2            4       2            1    118            1                8\n",
              "3            3       3            0     91            0                8\n",
              "4            3       0            5     29            0                8\n",
              "...        ...     ...          ...    ...          ...              ...\n",
              "10678        0       3            0     64            4                8\n",
              "10679        1       3            0     64            4                8\n",
              "10680        4       0            2     18            4                8\n",
              "10681       10       0            5     18            4                8\n",
              "10682        1       2            1    108            1                8\n",
              "\n",
              "[10462 rows x 6 columns]"
            ],
            "text/html": [
              "\n",
              "  <div id=\"df-207f498a-6a20-49f4-8db3-04b22e5b0376\">\n",
              "    <div class=\"colab-df-container\">\n",
              "      <div>\n",
              "<style scoped>\n",
              "    .dataframe tbody tr th:only-of-type {\n",
              "        vertical-align: middle;\n",
              "    }\n",
              "\n",
              "    .dataframe tbody tr th {\n",
              "        vertical-align: top;\n",
              "    }\n",
              "\n",
              "    .dataframe thead th {\n",
              "        text-align: right;\n",
              "    }\n",
              "</style>\n",
              "<table border=\"1\" class=\"dataframe\">\n",
              "  <thead>\n",
              "    <tr style=\"text-align: right;\">\n",
              "      <th></th>\n",
              "      <th>Airline</th>\n",
              "      <th>Source</th>\n",
              "      <th>Destination</th>\n",
              "      <th>Route</th>\n",
              "      <th>Total_Stops</th>\n",
              "      <th>Additional_Info</th>\n",
              "    </tr>\n",
              "  </thead>\n",
              "  <tbody>\n",
              "    <tr>\n",
              "      <th>0</th>\n",
              "      <td>3</td>\n",
              "      <td>0</td>\n",
              "      <td>5</td>\n",
              "      <td>18</td>\n",
              "      <td>4</td>\n",
              "      <td>8</td>\n",
              "    </tr>\n",
              "    <tr>\n",
              "      <th>1</th>\n",
              "      <td>1</td>\n",
              "      <td>3</td>\n",
              "      <td>0</td>\n",
              "      <td>84</td>\n",
              "      <td>1</td>\n",
              "      <td>8</td>\n",
              "    </tr>\n",
              "    <tr>\n",
              "      <th>2</th>\n",
              "      <td>4</td>\n",
              "      <td>2</td>\n",
              "      <td>1</td>\n",
              "      <td>118</td>\n",
              "      <td>1</td>\n",
              "      <td>8</td>\n",
              "    </tr>\n",
              "    <tr>\n",
              "      <th>3</th>\n",
              "      <td>3</td>\n",
              "      <td>3</td>\n",
              "      <td>0</td>\n",
              "      <td>91</td>\n",
              "      <td>0</td>\n",
              "      <td>8</td>\n",
              "    </tr>\n",
              "    <tr>\n",
              "      <th>4</th>\n",
              "      <td>3</td>\n",
              "      <td>0</td>\n",
              "      <td>5</td>\n",
              "      <td>29</td>\n",
              "      <td>0</td>\n",
              "      <td>8</td>\n",
              "    </tr>\n",
              "    <tr>\n",
              "      <th>...</th>\n",
              "      <td>...</td>\n",
              "      <td>...</td>\n",
              "      <td>...</td>\n",
              "      <td>...</td>\n",
              "      <td>...</td>\n",
              "      <td>...</td>\n",
              "    </tr>\n",
              "    <tr>\n",
              "      <th>10678</th>\n",
              "      <td>0</td>\n",
              "      <td>3</td>\n",
              "      <td>0</td>\n",
              "      <td>64</td>\n",
              "      <td>4</td>\n",
              "      <td>8</td>\n",
              "    </tr>\n",
              "    <tr>\n",
              "      <th>10679</th>\n",
              "      <td>1</td>\n",
              "      <td>3</td>\n",
              "      <td>0</td>\n",
              "      <td>64</td>\n",
              "      <td>4</td>\n",
              "      <td>8</td>\n",
              "    </tr>\n",
              "    <tr>\n",
              "      <th>10680</th>\n",
              "      <td>4</td>\n",
              "      <td>0</td>\n",
              "      <td>2</td>\n",
              "      <td>18</td>\n",
              "      <td>4</td>\n",
              "      <td>8</td>\n",
              "    </tr>\n",
              "    <tr>\n",
              "      <th>10681</th>\n",
              "      <td>10</td>\n",
              "      <td>0</td>\n",
              "      <td>5</td>\n",
              "      <td>18</td>\n",
              "      <td>4</td>\n",
              "      <td>8</td>\n",
              "    </tr>\n",
              "    <tr>\n",
              "      <th>10682</th>\n",
              "      <td>1</td>\n",
              "      <td>2</td>\n",
              "      <td>1</td>\n",
              "      <td>108</td>\n",
              "      <td>1</td>\n",
              "      <td>8</td>\n",
              "    </tr>\n",
              "  </tbody>\n",
              "</table>\n",
              "<p>10462 rows × 6 columns</p>\n",
              "</div>\n",
              "      <button class=\"colab-df-convert\" onclick=\"convertToInteractive('df-207f498a-6a20-49f4-8db3-04b22e5b0376')\"\n",
              "              title=\"Convert this dataframe to an interactive table.\"\n",
              "              style=\"display:none;\">\n",
              "        \n",
              "  <svg xmlns=\"http://www.w3.org/2000/svg\" height=\"24px\"viewBox=\"0 0 24 24\"\n",
              "       width=\"24px\">\n",
              "    <path d=\"M0 0h24v24H0V0z\" fill=\"none\"/>\n",
              "    <path d=\"M18.56 5.44l.94 2.06.94-2.06 2.06-.94-2.06-.94-.94-2.06-.94 2.06-2.06.94zm-11 1L8.5 8.5l.94-2.06 2.06-.94-2.06-.94L8.5 2.5l-.94 2.06-2.06.94zm10 10l.94 2.06.94-2.06 2.06-.94-2.06-.94-.94-2.06-.94 2.06-2.06.94z\"/><path d=\"M17.41 7.96l-1.37-1.37c-.4-.4-.92-.59-1.43-.59-.52 0-1.04.2-1.43.59L10.3 9.45l-7.72 7.72c-.78.78-.78 2.05 0 2.83L4 21.41c.39.39.9.59 1.41.59.51 0 1.02-.2 1.41-.59l7.78-7.78 2.81-2.81c.8-.78.8-2.07 0-2.86zM5.41 20L4 18.59l7.72-7.72 1.47 1.35L5.41 20z\"/>\n",
              "  </svg>\n",
              "      </button>\n",
              "      \n",
              "  <style>\n",
              "    .colab-df-container {\n",
              "      display:flex;\n",
              "      flex-wrap:wrap;\n",
              "      gap: 12px;\n",
              "    }\n",
              "\n",
              "    .colab-df-convert {\n",
              "      background-color: #E8F0FE;\n",
              "      border: none;\n",
              "      border-radius: 50%;\n",
              "      cursor: pointer;\n",
              "      display: none;\n",
              "      fill: #1967D2;\n",
              "      height: 32px;\n",
              "      padding: 0 0 0 0;\n",
              "      width: 32px;\n",
              "    }\n",
              "\n",
              "    .colab-df-convert:hover {\n",
              "      background-color: #E2EBFA;\n",
              "      box-shadow: 0px 1px 2px rgba(60, 64, 67, 0.3), 0px 1px 3px 1px rgba(60, 64, 67, 0.15);\n",
              "      fill: #174EA6;\n",
              "    }\n",
              "\n",
              "    [theme=dark] .colab-df-convert {\n",
              "      background-color: #3B4455;\n",
              "      fill: #D2E3FC;\n",
              "    }\n",
              "\n",
              "    [theme=dark] .colab-df-convert:hover {\n",
              "      background-color: #434B5C;\n",
              "      box-shadow: 0px 1px 3px 1px rgba(0, 0, 0, 0.15);\n",
              "      filter: drop-shadow(0px 1px 2px rgba(0, 0, 0, 0.3));\n",
              "      fill: #FFFFFF;\n",
              "    }\n",
              "  </style>\n",
              "\n",
              "      <script>\n",
              "        const buttonEl =\n",
              "          document.querySelector('#df-207f498a-6a20-49f4-8db3-04b22e5b0376 button.colab-df-convert');\n",
              "        buttonEl.style.display =\n",
              "          google.colab.kernel.accessAllowed ? 'block' : 'none';\n",
              "\n",
              "        async function convertToInteractive(key) {\n",
              "          const element = document.querySelector('#df-207f498a-6a20-49f4-8db3-04b22e5b0376');\n",
              "          const dataTable =\n",
              "            await google.colab.kernel.invokeFunction('convertToInteractive',\n",
              "                                                     [key], {});\n",
              "          if (!dataTable) return;\n",
              "\n",
              "          const docLinkHtml = 'Like what you see? Visit the ' +\n",
              "            '<a target=\"_blank\" href=https://colab.research.google.com/notebooks/data_table.ipynb>data table notebook</a>'\n",
              "            + ' to learn more about interactive tables.';\n",
              "          element.innerHTML = '';\n",
              "          dataTable['output_type'] = 'display_data';\n",
              "          await google.colab.output.renderOutput(dataTable, element);\n",
              "          const docLink = document.createElement('div');\n",
              "          docLink.innerHTML = docLinkHtml;\n",
              "          element.appendChild(docLink);\n",
              "        }\n",
              "      </script>\n",
              "    </div>\n",
              "  </div>\n",
              "  "
            ]
          },
          "metadata": {},
          "execution_count": 42
        }
      ],
      "source": [
        "# observando a variável\n",
        "train_cat_data"
      ]
    },
    {
      "cell_type": "code",
      "execution_count": 43,
      "metadata": {
        "colab": {
          "base_uri": "https://localhost:8080/",
          "height": 270
        },
        "id": "Sis7_PyMQnqy",
        "outputId": "8568d84e-b10d-4bc2-9e37-dfef06f8fe69"
      },
      "outputs": [
        {
          "output_type": "execute_result",
          "data": {
            "text/plain": [
              "   Airline  Source  Destination  Route  Total_Stops  Additional_Info  \\\n",
              "0        3       0            5     18            4                8   \n",
              "1        1       3            0     84            1                8   \n",
              "2        4       2            1    118            1                8   \n",
              "3        3       3            0     91            0                8   \n",
              "4        3       0            5     29            0                8   \n",
              "\n",
              "   Duration  Price  Journey_day  Journey_month  Dep_hour  Dep_min  \\\n",
              "0       170   3897           24              3        22       20   \n",
              "1       445   7662            1              5         5       50   \n",
              "2      1140  13882            9              6         9       25   \n",
              "3       325   6218           12              5        18        5   \n",
              "4       285  13302            1              3        16       50   \n",
              "\n",
              "   Arrival_hour  Arrival_min  \n",
              "0             1           10  \n",
              "1            13           15  \n",
              "2             4           25  \n",
              "3            23           30  \n",
              "4            21           35  "
            ],
            "text/html": [
              "\n",
              "  <div id=\"df-47880ce8-df11-44a9-a645-d2fcd6e67809\">\n",
              "    <div class=\"colab-df-container\">\n",
              "      <div>\n",
              "<style scoped>\n",
              "    .dataframe tbody tr th:only-of-type {\n",
              "        vertical-align: middle;\n",
              "    }\n",
              "\n",
              "    .dataframe tbody tr th {\n",
              "        vertical-align: top;\n",
              "    }\n",
              "\n",
              "    .dataframe thead th {\n",
              "        text-align: right;\n",
              "    }\n",
              "</style>\n",
              "<table border=\"1\" class=\"dataframe\">\n",
              "  <thead>\n",
              "    <tr style=\"text-align: right;\">\n",
              "      <th></th>\n",
              "      <th>Airline</th>\n",
              "      <th>Source</th>\n",
              "      <th>Destination</th>\n",
              "      <th>Route</th>\n",
              "      <th>Total_Stops</th>\n",
              "      <th>Additional_Info</th>\n",
              "      <th>Duration</th>\n",
              "      <th>Price</th>\n",
              "      <th>Journey_day</th>\n",
              "      <th>Journey_month</th>\n",
              "      <th>Dep_hour</th>\n",
              "      <th>Dep_min</th>\n",
              "      <th>Arrival_hour</th>\n",
              "      <th>Arrival_min</th>\n",
              "    </tr>\n",
              "  </thead>\n",
              "  <tbody>\n",
              "    <tr>\n",
              "      <th>0</th>\n",
              "      <td>3</td>\n",
              "      <td>0</td>\n",
              "      <td>5</td>\n",
              "      <td>18</td>\n",
              "      <td>4</td>\n",
              "      <td>8</td>\n",
              "      <td>170</td>\n",
              "      <td>3897</td>\n",
              "      <td>24</td>\n",
              "      <td>3</td>\n",
              "      <td>22</td>\n",
              "      <td>20</td>\n",
              "      <td>1</td>\n",
              "      <td>10</td>\n",
              "    </tr>\n",
              "    <tr>\n",
              "      <th>1</th>\n",
              "      <td>1</td>\n",
              "      <td>3</td>\n",
              "      <td>0</td>\n",
              "      <td>84</td>\n",
              "      <td>1</td>\n",
              "      <td>8</td>\n",
              "      <td>445</td>\n",
              "      <td>7662</td>\n",
              "      <td>1</td>\n",
              "      <td>5</td>\n",
              "      <td>5</td>\n",
              "      <td>50</td>\n",
              "      <td>13</td>\n",
              "      <td>15</td>\n",
              "    </tr>\n",
              "    <tr>\n",
              "      <th>2</th>\n",
              "      <td>4</td>\n",
              "      <td>2</td>\n",
              "      <td>1</td>\n",
              "      <td>118</td>\n",
              "      <td>1</td>\n",
              "      <td>8</td>\n",
              "      <td>1140</td>\n",
              "      <td>13882</td>\n",
              "      <td>9</td>\n",
              "      <td>6</td>\n",
              "      <td>9</td>\n",
              "      <td>25</td>\n",
              "      <td>4</td>\n",
              "      <td>25</td>\n",
              "    </tr>\n",
              "    <tr>\n",
              "      <th>3</th>\n",
              "      <td>3</td>\n",
              "      <td>3</td>\n",
              "      <td>0</td>\n",
              "      <td>91</td>\n",
              "      <td>0</td>\n",
              "      <td>8</td>\n",
              "      <td>325</td>\n",
              "      <td>6218</td>\n",
              "      <td>12</td>\n",
              "      <td>5</td>\n",
              "      <td>18</td>\n",
              "      <td>5</td>\n",
              "      <td>23</td>\n",
              "      <td>30</td>\n",
              "    </tr>\n",
              "    <tr>\n",
              "      <th>4</th>\n",
              "      <td>3</td>\n",
              "      <td>0</td>\n",
              "      <td>5</td>\n",
              "      <td>29</td>\n",
              "      <td>0</td>\n",
              "      <td>8</td>\n",
              "      <td>285</td>\n",
              "      <td>13302</td>\n",
              "      <td>1</td>\n",
              "      <td>3</td>\n",
              "      <td>16</td>\n",
              "      <td>50</td>\n",
              "      <td>21</td>\n",
              "      <td>35</td>\n",
              "    </tr>\n",
              "  </tbody>\n",
              "</table>\n",
              "</div>\n",
              "      <button class=\"colab-df-convert\" onclick=\"convertToInteractive('df-47880ce8-df11-44a9-a645-d2fcd6e67809')\"\n",
              "              title=\"Convert this dataframe to an interactive table.\"\n",
              "              style=\"display:none;\">\n",
              "        \n",
              "  <svg xmlns=\"http://www.w3.org/2000/svg\" height=\"24px\"viewBox=\"0 0 24 24\"\n",
              "       width=\"24px\">\n",
              "    <path d=\"M0 0h24v24H0V0z\" fill=\"none\"/>\n",
              "    <path d=\"M18.56 5.44l.94 2.06.94-2.06 2.06-.94-2.06-.94-.94-2.06-.94 2.06-2.06.94zm-11 1L8.5 8.5l.94-2.06 2.06-.94-2.06-.94L8.5 2.5l-.94 2.06-2.06.94zm10 10l.94 2.06.94-2.06 2.06-.94-2.06-.94-.94-2.06-.94 2.06-2.06.94z\"/><path d=\"M17.41 7.96l-1.37-1.37c-.4-.4-.92-.59-1.43-.59-.52 0-1.04.2-1.43.59L10.3 9.45l-7.72 7.72c-.78.78-.78 2.05 0 2.83L4 21.41c.39.39.9.59 1.41.59.51 0 1.02-.2 1.41-.59l7.78-7.78 2.81-2.81c.8-.78.8-2.07 0-2.86zM5.41 20L4 18.59l7.72-7.72 1.47 1.35L5.41 20z\"/>\n",
              "  </svg>\n",
              "      </button>\n",
              "      \n",
              "  <style>\n",
              "    .colab-df-container {\n",
              "      display:flex;\n",
              "      flex-wrap:wrap;\n",
              "      gap: 12px;\n",
              "    }\n",
              "\n",
              "    .colab-df-convert {\n",
              "      background-color: #E8F0FE;\n",
              "      border: none;\n",
              "      border-radius: 50%;\n",
              "      cursor: pointer;\n",
              "      display: none;\n",
              "      fill: #1967D2;\n",
              "      height: 32px;\n",
              "      padding: 0 0 0 0;\n",
              "      width: 32px;\n",
              "    }\n",
              "\n",
              "    .colab-df-convert:hover {\n",
              "      background-color: #E2EBFA;\n",
              "      box-shadow: 0px 1px 2px rgba(60, 64, 67, 0.3), 0px 1px 3px 1px rgba(60, 64, 67, 0.15);\n",
              "      fill: #174EA6;\n",
              "    }\n",
              "\n",
              "    [theme=dark] .colab-df-convert {\n",
              "      background-color: #3B4455;\n",
              "      fill: #D2E3FC;\n",
              "    }\n",
              "\n",
              "    [theme=dark] .colab-df-convert:hover {\n",
              "      background-color: #434B5C;\n",
              "      box-shadow: 0px 1px 3px 1px rgba(0, 0, 0, 0.15);\n",
              "      filter: drop-shadow(0px 1px 2px rgba(0, 0, 0, 0.3));\n",
              "      fill: #FFFFFF;\n",
              "    }\n",
              "  </style>\n",
              "\n",
              "      <script>\n",
              "        const buttonEl =\n",
              "          document.querySelector('#df-47880ce8-df11-44a9-a645-d2fcd6e67809 button.colab-df-convert');\n",
              "        buttonEl.style.display =\n",
              "          google.colab.kernel.accessAllowed ? 'block' : 'none';\n",
              "\n",
              "        async function convertToInteractive(key) {\n",
              "          const element = document.querySelector('#df-47880ce8-df11-44a9-a645-d2fcd6e67809');\n",
              "          const dataTable =\n",
              "            await google.colab.kernel.invokeFunction('convertToInteractive',\n",
              "                                                     [key], {});\n",
              "          if (!dataTable) return;\n",
              "\n",
              "          const docLinkHtml = 'Like what you see? Visit the ' +\n",
              "            '<a target=\"_blank\" href=https://colab.research.google.com/notebooks/data_table.ipynb>data table notebook</a>'\n",
              "            + ' to learn more about interactive tables.';\n",
              "          element.innerHTML = '';\n",
              "          dataTable['output_type'] = 'display_data';\n",
              "          await google.colab.output.renderOutput(dataTable, element);\n",
              "          const docLink = document.createElement('div');\n",
              "          docLink.innerHTML = docLinkHtml;\n",
              "          element.appendChild(docLink);\n",
              "        }\n",
              "      </script>\n",
              "    </div>\n",
              "  </div>\n",
              "  "
            ]
          },
          "metadata": {},
          "execution_count": 43
        }
      ],
      "source": [
        "# concatenando as variáveis numéricas e categ[oricas]\n",
        "X = pd.concat([train_cat_data, train_nume_data], axis=1)\n",
        "test_set = pd.concat([test_nume_data, test_cat_data], axis=1)\n",
        "X.head()"
      ]
    },
    {
      "cell_type": "code",
      "execution_count": 44,
      "metadata": {
        "colab": {
          "base_uri": "https://localhost:8080/"
        },
        "id": "3jWSGvo0cfr-",
        "outputId": "2146fc97-d5cc-4d45-bae7-82f9886d39b3"
      },
      "outputs": [
        {
          "output_type": "execute_result",
          "data": {
            "text/plain": [
              "array([[-0.41491593, -1.64687738,  2.40421327, ..., -0.2341234 ,\n",
              "        -1.8070449 , -0.88836709],\n",
              "       [-1.26075586,  0.88205718, -0.97201213, ...,  1.36036441,\n",
              "        -0.05655381, -0.58661071],\n",
              "       [ 0.00800403,  0.03907899, -0.29676705, ...,  0.03162457,\n",
              "        -1.36942213,  0.01690205],\n",
              "       ...,\n",
              "       [ 0.00800403, -1.64687738,  0.37847803, ..., -0.2341234 ,\n",
              "        -0.34830233, -0.28485433],\n",
              "       [ 2.5455238 , -1.64687738,  2.40421327, ...,  0.29737254,\n",
              "         0.08932044, -0.88836709],\n",
              "       [-1.26075586,  0.03907899, -0.29676705, ...,  1.62611238,\n",
              "         0.81869173, -0.58661071]])"
            ]
          },
          "metadata": {},
          "execution_count": 44
        }
      ],
      "source": [
        "#padronizando variavel X de treino\n",
        "from sklearn.preprocessing import StandardScaler\n",
        "\n",
        "\n",
        "scaler = StandardScaler().fit(X)\n",
        "Xtreino_mod=scaler.fit_transform(X)\n",
        "\n",
        "Xtreino_mod  \n"
      ]
    },
    {
      "cell_type": "code",
      "execution_count": 45,
      "metadata": {
        "colab": {
          "base_uri": "https://localhost:8080/"
        },
        "id": "VyZoc4jLgQCl",
        "outputId": "09aa0368-e49d-4bcb-9aa3-6bc76df430d8"
      },
      "outputs": [
        {
          "output_type": "execute_result",
          "data": {
            "text/plain": [
              "array([[ 0.0386528 , -0.83572717,  1.09778298, ...,  0.80362292,\n",
              "        -0.79124566,  0.48091722],\n",
              "       [-0.78994238, -0.109863  ,  0.24301819, ...,  0.39741359,\n",
              "        -0.79124566,  0.48091722],\n",
              "       [ 1.57604628,  0.97893327,  0.24301819, ...,  0.80362292,\n",
              "        -0.79124566, -2.14723578],\n",
              "       ...,\n",
              "       [-0.48046707, -0.83572717, -1.46651139, ...,  0.80362292,\n",
              "        -0.79124566,  0.48091722],\n",
              "       [ 0.55777268, -0.83572717, -1.46651139, ...,  0.80362292,\n",
              "        -0.79124566,  0.48091722],\n",
              "       [ 0.44795886,  0.25306909,  1.09778298, ...,  0.80362292,\n",
              "        -0.79124566,  0.48091722]])"
            ]
          },
          "metadata": {},
          "execution_count": 45
        }
      ],
      "source": [
        "# Padronização da variáveis de teste\n",
        "scaler = StandardScaler().fit(test_set)\n",
        "X_testmod=scaler.fit_transform(test_set)\n",
        "X_testmod"
      ]
    },
    {
      "cell_type": "code",
      "execution_count": 46,
      "metadata": {
        "colab": {
          "base_uri": "https://localhost:8080/",
          "height": 488
        },
        "id": "JEFnYDUJRJ0e",
        "outputId": "5bdf3603-1dc1-4355-8ca9-48c9328b573b"
      },
      "outputs": [
        {
          "output_type": "execute_result",
          "data": {
            "text/plain": [
              "        Airline    Source  Destination     Route  Duration  Total_Stops  \\\n",
              "0     -0.414916 -1.646877     2.404213 -1.533452  1.392916     0.497963   \n",
              "1     -1.260756  0.882057    -0.972012  0.264633 -0.254274     0.497963   \n",
              "2      0.008004  0.039079    -0.296767  1.190918 -0.254274     0.497963   \n",
              "3     -0.414916  0.882057    -0.972012  0.455339 -0.803337     0.497963   \n",
              "4     -0.414916 -1.646877     2.404213 -1.233771 -0.803337     0.497963   \n",
              "...         ...       ...          ...       ...       ...          ...   \n",
              "10678 -1.683676  0.882057    -0.972012 -0.280241  1.392916     0.497963   \n",
              "10679 -1.260756  0.882057    -0.972012 -0.280241  1.392916     0.497963   \n",
              "10680  0.008004 -1.646877     0.378478 -1.533452  1.392916     0.497963   \n",
              "10681  2.545524 -1.646877     2.404213 -1.533452  1.392916     0.497963   \n",
              "10682 -1.260756  0.039079    -0.296767  0.918481 -0.254274     0.497963   \n",
              "\n",
              "       Additional_Info     Price  Journey_day  Journey_month  Dep_hour  \\\n",
              "0            -0.918323 -1.109233     1.244442      -1.462080  1.662578   \n",
              "1            -0.369065 -0.295113    -1.471958       0.256507 -1.305841   \n",
              "2             1.019061  1.049859    -0.527123       1.115800 -0.607390   \n",
              "3            -0.608741 -0.607355    -0.172810       0.256507  0.964126   \n",
              "4            -0.688633  0.924444    -1.471958      -1.462080  0.614900   \n",
              "...                ...       ...          ...            ...       ...   \n",
              "10678        -0.958269 -1.063824    -0.527123      -0.602787  1.138739   \n",
              "10679        -0.948283 -1.055607     1.598755      -0.602787  1.313352   \n",
              "10680        -0.898350 -0.388743     1.598755      -0.602787 -0.782003   \n",
              "10681        -0.938296  0.783027    -1.471958      -1.462080 -0.258164   \n",
              "10682        -0.259213  0.589498    -0.527123       0.256507 -0.432777   \n",
              "\n",
              "        Dep_min  Arrival_hour  Arrival_min  \n",
              "0     -0.234123     -1.807045    -0.888367  \n",
              "1      1.360364     -0.056554    -0.586611  \n",
              "2      0.031625     -1.369422     0.016902  \n",
              "3     -1.031367      1.402189     0.318658  \n",
              "4      1.360364      1.110440     0.620415  \n",
              "...         ...           ...          ...  \n",
              "10678  1.626112      1.256315     0.016902  \n",
              "10679  1.094616      1.402189    -0.284854  \n",
              "10680 -0.234123     -0.348302    -0.284854  \n",
              "10681  0.297373      0.089320    -0.888367  \n",
              "10682  1.626112      0.818692    -0.586611  \n",
              "\n",
              "[10462 rows x 14 columns]"
            ],
            "text/html": [
              "\n",
              "  <div id=\"df-6fa4ca89-11e5-46c7-b9d2-15168bf81826\">\n",
              "    <div class=\"colab-df-container\">\n",
              "      <div>\n",
              "<style scoped>\n",
              "    .dataframe tbody tr th:only-of-type {\n",
              "        vertical-align: middle;\n",
              "    }\n",
              "\n",
              "    .dataframe tbody tr th {\n",
              "        vertical-align: top;\n",
              "    }\n",
              "\n",
              "    .dataframe thead th {\n",
              "        text-align: right;\n",
              "    }\n",
              "</style>\n",
              "<table border=\"1\" class=\"dataframe\">\n",
              "  <thead>\n",
              "    <tr style=\"text-align: right;\">\n",
              "      <th></th>\n",
              "      <th>Airline</th>\n",
              "      <th>Source</th>\n",
              "      <th>Destination</th>\n",
              "      <th>Route</th>\n",
              "      <th>Duration</th>\n",
              "      <th>Total_Stops</th>\n",
              "      <th>Additional_Info</th>\n",
              "      <th>Price</th>\n",
              "      <th>Journey_day</th>\n",
              "      <th>Journey_month</th>\n",
              "      <th>Dep_hour</th>\n",
              "      <th>Dep_min</th>\n",
              "      <th>Arrival_hour</th>\n",
              "      <th>Arrival_min</th>\n",
              "    </tr>\n",
              "  </thead>\n",
              "  <tbody>\n",
              "    <tr>\n",
              "      <th>0</th>\n",
              "      <td>-0.414916</td>\n",
              "      <td>-1.646877</td>\n",
              "      <td>2.404213</td>\n",
              "      <td>-1.533452</td>\n",
              "      <td>1.392916</td>\n",
              "      <td>0.497963</td>\n",
              "      <td>-0.918323</td>\n",
              "      <td>-1.109233</td>\n",
              "      <td>1.244442</td>\n",
              "      <td>-1.462080</td>\n",
              "      <td>1.662578</td>\n",
              "      <td>-0.234123</td>\n",
              "      <td>-1.807045</td>\n",
              "      <td>-0.888367</td>\n",
              "    </tr>\n",
              "    <tr>\n",
              "      <th>1</th>\n",
              "      <td>-1.260756</td>\n",
              "      <td>0.882057</td>\n",
              "      <td>-0.972012</td>\n",
              "      <td>0.264633</td>\n",
              "      <td>-0.254274</td>\n",
              "      <td>0.497963</td>\n",
              "      <td>-0.369065</td>\n",
              "      <td>-0.295113</td>\n",
              "      <td>-1.471958</td>\n",
              "      <td>0.256507</td>\n",
              "      <td>-1.305841</td>\n",
              "      <td>1.360364</td>\n",
              "      <td>-0.056554</td>\n",
              "      <td>-0.586611</td>\n",
              "    </tr>\n",
              "    <tr>\n",
              "      <th>2</th>\n",
              "      <td>0.008004</td>\n",
              "      <td>0.039079</td>\n",
              "      <td>-0.296767</td>\n",
              "      <td>1.190918</td>\n",
              "      <td>-0.254274</td>\n",
              "      <td>0.497963</td>\n",
              "      <td>1.019061</td>\n",
              "      <td>1.049859</td>\n",
              "      <td>-0.527123</td>\n",
              "      <td>1.115800</td>\n",
              "      <td>-0.607390</td>\n",
              "      <td>0.031625</td>\n",
              "      <td>-1.369422</td>\n",
              "      <td>0.016902</td>\n",
              "    </tr>\n",
              "    <tr>\n",
              "      <th>3</th>\n",
              "      <td>-0.414916</td>\n",
              "      <td>0.882057</td>\n",
              "      <td>-0.972012</td>\n",
              "      <td>0.455339</td>\n",
              "      <td>-0.803337</td>\n",
              "      <td>0.497963</td>\n",
              "      <td>-0.608741</td>\n",
              "      <td>-0.607355</td>\n",
              "      <td>-0.172810</td>\n",
              "      <td>0.256507</td>\n",
              "      <td>0.964126</td>\n",
              "      <td>-1.031367</td>\n",
              "      <td>1.402189</td>\n",
              "      <td>0.318658</td>\n",
              "    </tr>\n",
              "    <tr>\n",
              "      <th>4</th>\n",
              "      <td>-0.414916</td>\n",
              "      <td>-1.646877</td>\n",
              "      <td>2.404213</td>\n",
              "      <td>-1.233771</td>\n",
              "      <td>-0.803337</td>\n",
              "      <td>0.497963</td>\n",
              "      <td>-0.688633</td>\n",
              "      <td>0.924444</td>\n",
              "      <td>-1.471958</td>\n",
              "      <td>-1.462080</td>\n",
              "      <td>0.614900</td>\n",
              "      <td>1.360364</td>\n",
              "      <td>1.110440</td>\n",
              "      <td>0.620415</td>\n",
              "    </tr>\n",
              "    <tr>\n",
              "      <th>...</th>\n",
              "      <td>...</td>\n",
              "      <td>...</td>\n",
              "      <td>...</td>\n",
              "      <td>...</td>\n",
              "      <td>...</td>\n",
              "      <td>...</td>\n",
              "      <td>...</td>\n",
              "      <td>...</td>\n",
              "      <td>...</td>\n",
              "      <td>...</td>\n",
              "      <td>...</td>\n",
              "      <td>...</td>\n",
              "      <td>...</td>\n",
              "      <td>...</td>\n",
              "    </tr>\n",
              "    <tr>\n",
              "      <th>10678</th>\n",
              "      <td>-1.683676</td>\n",
              "      <td>0.882057</td>\n",
              "      <td>-0.972012</td>\n",
              "      <td>-0.280241</td>\n",
              "      <td>1.392916</td>\n",
              "      <td>0.497963</td>\n",
              "      <td>-0.958269</td>\n",
              "      <td>-1.063824</td>\n",
              "      <td>-0.527123</td>\n",
              "      <td>-0.602787</td>\n",
              "      <td>1.138739</td>\n",
              "      <td>1.626112</td>\n",
              "      <td>1.256315</td>\n",
              "      <td>0.016902</td>\n",
              "    </tr>\n",
              "    <tr>\n",
              "      <th>10679</th>\n",
              "      <td>-1.260756</td>\n",
              "      <td>0.882057</td>\n",
              "      <td>-0.972012</td>\n",
              "      <td>-0.280241</td>\n",
              "      <td>1.392916</td>\n",
              "      <td>0.497963</td>\n",
              "      <td>-0.948283</td>\n",
              "      <td>-1.055607</td>\n",
              "      <td>1.598755</td>\n",
              "      <td>-0.602787</td>\n",
              "      <td>1.313352</td>\n",
              "      <td>1.094616</td>\n",
              "      <td>1.402189</td>\n",
              "      <td>-0.284854</td>\n",
              "    </tr>\n",
              "    <tr>\n",
              "      <th>10680</th>\n",
              "      <td>0.008004</td>\n",
              "      <td>-1.646877</td>\n",
              "      <td>0.378478</td>\n",
              "      <td>-1.533452</td>\n",
              "      <td>1.392916</td>\n",
              "      <td>0.497963</td>\n",
              "      <td>-0.898350</td>\n",
              "      <td>-0.388743</td>\n",
              "      <td>1.598755</td>\n",
              "      <td>-0.602787</td>\n",
              "      <td>-0.782003</td>\n",
              "      <td>-0.234123</td>\n",
              "      <td>-0.348302</td>\n",
              "      <td>-0.284854</td>\n",
              "    </tr>\n",
              "    <tr>\n",
              "      <th>10681</th>\n",
              "      <td>2.545524</td>\n",
              "      <td>-1.646877</td>\n",
              "      <td>2.404213</td>\n",
              "      <td>-1.533452</td>\n",
              "      <td>1.392916</td>\n",
              "      <td>0.497963</td>\n",
              "      <td>-0.938296</td>\n",
              "      <td>0.783027</td>\n",
              "      <td>-1.471958</td>\n",
              "      <td>-1.462080</td>\n",
              "      <td>-0.258164</td>\n",
              "      <td>0.297373</td>\n",
              "      <td>0.089320</td>\n",
              "      <td>-0.888367</td>\n",
              "    </tr>\n",
              "    <tr>\n",
              "      <th>10682</th>\n",
              "      <td>-1.260756</td>\n",
              "      <td>0.039079</td>\n",
              "      <td>-0.296767</td>\n",
              "      <td>0.918481</td>\n",
              "      <td>-0.254274</td>\n",
              "      <td>0.497963</td>\n",
              "      <td>-0.259213</td>\n",
              "      <td>0.589498</td>\n",
              "      <td>-0.527123</td>\n",
              "      <td>0.256507</td>\n",
              "      <td>-0.432777</td>\n",
              "      <td>1.626112</td>\n",
              "      <td>0.818692</td>\n",
              "      <td>-0.586611</td>\n",
              "    </tr>\n",
              "  </tbody>\n",
              "</table>\n",
              "<p>10462 rows × 14 columns</p>\n",
              "</div>\n",
              "      <button class=\"colab-df-convert\" onclick=\"convertToInteractive('df-6fa4ca89-11e5-46c7-b9d2-15168bf81826')\"\n",
              "              title=\"Convert this dataframe to an interactive table.\"\n",
              "              style=\"display:none;\">\n",
              "        \n",
              "  <svg xmlns=\"http://www.w3.org/2000/svg\" height=\"24px\"viewBox=\"0 0 24 24\"\n",
              "       width=\"24px\">\n",
              "    <path d=\"M0 0h24v24H0V0z\" fill=\"none\"/>\n",
              "    <path d=\"M18.56 5.44l.94 2.06.94-2.06 2.06-.94-2.06-.94-.94-2.06-.94 2.06-2.06.94zm-11 1L8.5 8.5l.94-2.06 2.06-.94-2.06-.94L8.5 2.5l-.94 2.06-2.06.94zm10 10l.94 2.06.94-2.06 2.06-.94-2.06-.94-.94-2.06-.94 2.06-2.06.94z\"/><path d=\"M17.41 7.96l-1.37-1.37c-.4-.4-.92-.59-1.43-.59-.52 0-1.04.2-1.43.59L10.3 9.45l-7.72 7.72c-.78.78-.78 2.05 0 2.83L4 21.41c.39.39.9.59 1.41.59.51 0 1.02-.2 1.41-.59l7.78-7.78 2.81-2.81c.8-.78.8-2.07 0-2.86zM5.41 20L4 18.59l7.72-7.72 1.47 1.35L5.41 20z\"/>\n",
              "  </svg>\n",
              "      </button>\n",
              "      \n",
              "  <style>\n",
              "    .colab-df-container {\n",
              "      display:flex;\n",
              "      flex-wrap:wrap;\n",
              "      gap: 12px;\n",
              "    }\n",
              "\n",
              "    .colab-df-convert {\n",
              "      background-color: #E8F0FE;\n",
              "      border: none;\n",
              "      border-radius: 50%;\n",
              "      cursor: pointer;\n",
              "      display: none;\n",
              "      fill: #1967D2;\n",
              "      height: 32px;\n",
              "      padding: 0 0 0 0;\n",
              "      width: 32px;\n",
              "    }\n",
              "\n",
              "    .colab-df-convert:hover {\n",
              "      background-color: #E2EBFA;\n",
              "      box-shadow: 0px 1px 2px rgba(60, 64, 67, 0.3), 0px 1px 3px 1px rgba(60, 64, 67, 0.15);\n",
              "      fill: #174EA6;\n",
              "    }\n",
              "\n",
              "    [theme=dark] .colab-df-convert {\n",
              "      background-color: #3B4455;\n",
              "      fill: #D2E3FC;\n",
              "    }\n",
              "\n",
              "    [theme=dark] .colab-df-convert:hover {\n",
              "      background-color: #434B5C;\n",
              "      box-shadow: 0px 1px 3px 1px rgba(0, 0, 0, 0.15);\n",
              "      filter: drop-shadow(0px 1px 2px rgba(0, 0, 0, 0.3));\n",
              "      fill: #FFFFFF;\n",
              "    }\n",
              "  </style>\n",
              "\n",
              "      <script>\n",
              "        const buttonEl =\n",
              "          document.querySelector('#df-6fa4ca89-11e5-46c7-b9d2-15168bf81826 button.colab-df-convert');\n",
              "        buttonEl.style.display =\n",
              "          google.colab.kernel.accessAllowed ? 'block' : 'none';\n",
              "\n",
              "        async function convertToInteractive(key) {\n",
              "          const element = document.querySelector('#df-6fa4ca89-11e5-46c7-b9d2-15168bf81826');\n",
              "          const dataTable =\n",
              "            await google.colab.kernel.invokeFunction('convertToInteractive',\n",
              "                                                     [key], {});\n",
              "          if (!dataTable) return;\n",
              "\n",
              "          const docLinkHtml = 'Like what you see? Visit the ' +\n",
              "            '<a target=\"_blank\" href=https://colab.research.google.com/notebooks/data_table.ipynb>data table notebook</a>'\n",
              "            + ' to learn more about interactive tables.';\n",
              "          element.innerHTML = '';\n",
              "          dataTable['output_type'] = 'display_data';\n",
              "          await google.colab.output.renderOutput(dataTable, element);\n",
              "          const docLink = document.createElement('div');\n",
              "          docLink.innerHTML = docLinkHtml;\n",
              "          element.appendChild(docLink);\n",
              "        }\n",
              "      </script>\n",
              "    </div>\n",
              "  </div>\n",
              "  "
            ]
          },
          "metadata": {},
          "execution_count": 46
        }
      ],
      "source": [
        "# gerando dataframe de treino padronizado\n",
        "novo_df_treino = pd.DataFrame(Xtreino_mod,index=train_df.index,columns= train_df.columns)\n",
        "novo_df_treino"
      ]
    },
    {
      "cell_type": "markdown",
      "metadata": {
        "id": "oZ6mFj73_sRb"
      },
      "source": [
        "- É preciso gerar um dataframe padronizado para teste"
      ]
    },
    {
      "cell_type": "code",
      "execution_count": 47,
      "metadata": {
        "colab": {
          "base_uri": "https://localhost:8080/",
          "height": 488
        },
        "id": "jS7QsVQJ98KZ",
        "outputId": "07147937-1ae4-472f-cd60-446124b6d4d4"
      },
      "outputs": [
        {
          "output_type": "execute_result",
          "data": {
            "text/plain": [
              "       Airline    Source  Destination     Route  Duration  Total_Stops  \\\n",
              "0     0.038653 -0.835727     1.097783  0.772098  0.267435    -1.366298   \n",
              "1    -0.789942 -0.109863     0.243018 -1.165138 -0.256540    -0.512126   \n",
              "2     1.576046  0.978933     0.243018  1.124323 -0.518527     0.769131   \n",
              "3     0.288230  0.978933     0.243018 -0.812914 -1.304489     1.053855   \n",
              "4    -0.929705  1.341865     1.097783  1.828772  1.577372    -1.651022   \n",
              "...        ...       ...          ...       ...       ...          ...   \n",
              "2666  1.596012 -0.835727     1.097783  1.300435  0.267435     0.911493   \n",
              "2667 -0.959655  1.704797    -1.466511  0.243761 -0.256540     0.342045   \n",
              "2668 -0.480467 -0.835727    -1.466511  1.476548  1.315385    -1.366298   \n",
              "2669  0.557773 -0.835727    -1.466511 -1.517363 -1.304489     0.769131   \n",
              "2670  0.447959  0.253069     1.097783 -1.517363  1.577372     0.769131   \n",
              "\n",
              "      Additional_Info  Journey_day  Journey_month  Dep_hour   Dep_min  \\\n",
              "0            0.026232     0.008716       0.030594 -0.293844  0.803623   \n",
              "1           -0.271549    -0.426286       0.873530 -0.976212  0.397414   \n",
              "2           -1.462674     0.008716       0.030594 -0.293844  0.803623   \n",
              "3           -1.462674     0.878721       0.030594 -0.293844  0.803623   \n",
              "4            1.217357    -1.731292      -1.655278  0.388524 -1.412064   \n",
              "...               ...          ...            ...       ...       ...   \n",
              "2666         0.026232    -1.296290       0.873530 -0.976212 -0.119580   \n",
              "2667         1.812919    -0.426286       0.873530 -0.976212 -0.415005   \n",
              "2668         0.026232     0.008716       0.030594 -0.293844  0.803623   \n",
              "2669        -0.569331    -1.296290       0.030594 -0.293844  0.803623   \n",
              "2670        -0.569331     0.878721       0.030594 -0.293844  0.803623   \n",
              "\n",
              "      Arrival_hour  Arrival_min  \n",
              "0        -0.791246     0.480917  \n",
              "1        -0.791246     0.480917  \n",
              "2        -0.791246    -2.147236  \n",
              "3        -0.791246     0.480917  \n",
              "4         1.429868     0.480917  \n",
              "...            ...          ...  \n",
              "2666     -0.791246     0.480917  \n",
              "2667      1.429868     0.480917  \n",
              "2668     -0.791246     0.480917  \n",
              "2669     -0.791246     0.480917  \n",
              "2670     -0.791246     0.480917  \n",
              "\n",
              "[2645 rows x 13 columns]"
            ],
            "text/html": [
              "\n",
              "  <div id=\"df-4ee73ff1-76b8-48d8-a322-b962ea708f0b\">\n",
              "    <div class=\"colab-df-container\">\n",
              "      <div>\n",
              "<style scoped>\n",
              "    .dataframe tbody tr th:only-of-type {\n",
              "        vertical-align: middle;\n",
              "    }\n",
              "\n",
              "    .dataframe tbody tr th {\n",
              "        vertical-align: top;\n",
              "    }\n",
              "\n",
              "    .dataframe thead th {\n",
              "        text-align: right;\n",
              "    }\n",
              "</style>\n",
              "<table border=\"1\" class=\"dataframe\">\n",
              "  <thead>\n",
              "    <tr style=\"text-align: right;\">\n",
              "      <th></th>\n",
              "      <th>Airline</th>\n",
              "      <th>Source</th>\n",
              "      <th>Destination</th>\n",
              "      <th>Route</th>\n",
              "      <th>Duration</th>\n",
              "      <th>Total_Stops</th>\n",
              "      <th>Additional_Info</th>\n",
              "      <th>Journey_day</th>\n",
              "      <th>Journey_month</th>\n",
              "      <th>Dep_hour</th>\n",
              "      <th>Dep_min</th>\n",
              "      <th>Arrival_hour</th>\n",
              "      <th>Arrival_min</th>\n",
              "    </tr>\n",
              "  </thead>\n",
              "  <tbody>\n",
              "    <tr>\n",
              "      <th>0</th>\n",
              "      <td>0.038653</td>\n",
              "      <td>-0.835727</td>\n",
              "      <td>1.097783</td>\n",
              "      <td>0.772098</td>\n",
              "      <td>0.267435</td>\n",
              "      <td>-1.366298</td>\n",
              "      <td>0.026232</td>\n",
              "      <td>0.008716</td>\n",
              "      <td>0.030594</td>\n",
              "      <td>-0.293844</td>\n",
              "      <td>0.803623</td>\n",
              "      <td>-0.791246</td>\n",
              "      <td>0.480917</td>\n",
              "    </tr>\n",
              "    <tr>\n",
              "      <th>1</th>\n",
              "      <td>-0.789942</td>\n",
              "      <td>-0.109863</td>\n",
              "      <td>0.243018</td>\n",
              "      <td>-1.165138</td>\n",
              "      <td>-0.256540</td>\n",
              "      <td>-0.512126</td>\n",
              "      <td>-0.271549</td>\n",
              "      <td>-0.426286</td>\n",
              "      <td>0.873530</td>\n",
              "      <td>-0.976212</td>\n",
              "      <td>0.397414</td>\n",
              "      <td>-0.791246</td>\n",
              "      <td>0.480917</td>\n",
              "    </tr>\n",
              "    <tr>\n",
              "      <th>2</th>\n",
              "      <td>1.576046</td>\n",
              "      <td>0.978933</td>\n",
              "      <td>0.243018</td>\n",
              "      <td>1.124323</td>\n",
              "      <td>-0.518527</td>\n",
              "      <td>0.769131</td>\n",
              "      <td>-1.462674</td>\n",
              "      <td>0.008716</td>\n",
              "      <td>0.030594</td>\n",
              "      <td>-0.293844</td>\n",
              "      <td>0.803623</td>\n",
              "      <td>-0.791246</td>\n",
              "      <td>-2.147236</td>\n",
              "    </tr>\n",
              "    <tr>\n",
              "      <th>3</th>\n",
              "      <td>0.288230</td>\n",
              "      <td>0.978933</td>\n",
              "      <td>0.243018</td>\n",
              "      <td>-0.812914</td>\n",
              "      <td>-1.304489</td>\n",
              "      <td>1.053855</td>\n",
              "      <td>-1.462674</td>\n",
              "      <td>0.878721</td>\n",
              "      <td>0.030594</td>\n",
              "      <td>-0.293844</td>\n",
              "      <td>0.803623</td>\n",
              "      <td>-0.791246</td>\n",
              "      <td>0.480917</td>\n",
              "    </tr>\n",
              "    <tr>\n",
              "      <th>4</th>\n",
              "      <td>-0.929705</td>\n",
              "      <td>1.341865</td>\n",
              "      <td>1.097783</td>\n",
              "      <td>1.828772</td>\n",
              "      <td>1.577372</td>\n",
              "      <td>-1.651022</td>\n",
              "      <td>1.217357</td>\n",
              "      <td>-1.731292</td>\n",
              "      <td>-1.655278</td>\n",
              "      <td>0.388524</td>\n",
              "      <td>-1.412064</td>\n",
              "      <td>1.429868</td>\n",
              "      <td>0.480917</td>\n",
              "    </tr>\n",
              "    <tr>\n",
              "      <th>...</th>\n",
              "      <td>...</td>\n",
              "      <td>...</td>\n",
              "      <td>...</td>\n",
              "      <td>...</td>\n",
              "      <td>...</td>\n",
              "      <td>...</td>\n",
              "      <td>...</td>\n",
              "      <td>...</td>\n",
              "      <td>...</td>\n",
              "      <td>...</td>\n",
              "      <td>...</td>\n",
              "      <td>...</td>\n",
              "      <td>...</td>\n",
              "    </tr>\n",
              "    <tr>\n",
              "      <th>2666</th>\n",
              "      <td>1.596012</td>\n",
              "      <td>-0.835727</td>\n",
              "      <td>1.097783</td>\n",
              "      <td>1.300435</td>\n",
              "      <td>0.267435</td>\n",
              "      <td>0.911493</td>\n",
              "      <td>0.026232</td>\n",
              "      <td>-1.296290</td>\n",
              "      <td>0.873530</td>\n",
              "      <td>-0.976212</td>\n",
              "      <td>-0.119580</td>\n",
              "      <td>-0.791246</td>\n",
              "      <td>0.480917</td>\n",
              "    </tr>\n",
              "    <tr>\n",
              "      <th>2667</th>\n",
              "      <td>-0.959655</td>\n",
              "      <td>1.704797</td>\n",
              "      <td>-1.466511</td>\n",
              "      <td>0.243761</td>\n",
              "      <td>-0.256540</td>\n",
              "      <td>0.342045</td>\n",
              "      <td>1.812919</td>\n",
              "      <td>-0.426286</td>\n",
              "      <td>0.873530</td>\n",
              "      <td>-0.976212</td>\n",
              "      <td>-0.415005</td>\n",
              "      <td>1.429868</td>\n",
              "      <td>0.480917</td>\n",
              "    </tr>\n",
              "    <tr>\n",
              "      <th>2668</th>\n",
              "      <td>-0.480467</td>\n",
              "      <td>-0.835727</td>\n",
              "      <td>-1.466511</td>\n",
              "      <td>1.476548</td>\n",
              "      <td>1.315385</td>\n",
              "      <td>-1.366298</td>\n",
              "      <td>0.026232</td>\n",
              "      <td>0.008716</td>\n",
              "      <td>0.030594</td>\n",
              "      <td>-0.293844</td>\n",
              "      <td>0.803623</td>\n",
              "      <td>-0.791246</td>\n",
              "      <td>0.480917</td>\n",
              "    </tr>\n",
              "    <tr>\n",
              "      <th>2669</th>\n",
              "      <td>0.557773</td>\n",
              "      <td>-0.835727</td>\n",
              "      <td>-1.466511</td>\n",
              "      <td>-1.517363</td>\n",
              "      <td>-1.304489</td>\n",
              "      <td>0.769131</td>\n",
              "      <td>-0.569331</td>\n",
              "      <td>-1.296290</td>\n",
              "      <td>0.030594</td>\n",
              "      <td>-0.293844</td>\n",
              "      <td>0.803623</td>\n",
              "      <td>-0.791246</td>\n",
              "      <td>0.480917</td>\n",
              "    </tr>\n",
              "    <tr>\n",
              "      <th>2670</th>\n",
              "      <td>0.447959</td>\n",
              "      <td>0.253069</td>\n",
              "      <td>1.097783</td>\n",
              "      <td>-1.517363</td>\n",
              "      <td>1.577372</td>\n",
              "      <td>0.769131</td>\n",
              "      <td>-0.569331</td>\n",
              "      <td>0.878721</td>\n",
              "      <td>0.030594</td>\n",
              "      <td>-0.293844</td>\n",
              "      <td>0.803623</td>\n",
              "      <td>-0.791246</td>\n",
              "      <td>0.480917</td>\n",
              "    </tr>\n",
              "  </tbody>\n",
              "</table>\n",
              "<p>2645 rows × 13 columns</p>\n",
              "</div>\n",
              "      <button class=\"colab-df-convert\" onclick=\"convertToInteractive('df-4ee73ff1-76b8-48d8-a322-b962ea708f0b')\"\n",
              "              title=\"Convert this dataframe to an interactive table.\"\n",
              "              style=\"display:none;\">\n",
              "        \n",
              "  <svg xmlns=\"http://www.w3.org/2000/svg\" height=\"24px\"viewBox=\"0 0 24 24\"\n",
              "       width=\"24px\">\n",
              "    <path d=\"M0 0h24v24H0V0z\" fill=\"none\"/>\n",
              "    <path d=\"M18.56 5.44l.94 2.06.94-2.06 2.06-.94-2.06-.94-.94-2.06-.94 2.06-2.06.94zm-11 1L8.5 8.5l.94-2.06 2.06-.94-2.06-.94L8.5 2.5l-.94 2.06-2.06.94zm10 10l.94 2.06.94-2.06 2.06-.94-2.06-.94-.94-2.06-.94 2.06-2.06.94z\"/><path d=\"M17.41 7.96l-1.37-1.37c-.4-.4-.92-.59-1.43-.59-.52 0-1.04.2-1.43.59L10.3 9.45l-7.72 7.72c-.78.78-.78 2.05 0 2.83L4 21.41c.39.39.9.59 1.41.59.51 0 1.02-.2 1.41-.59l7.78-7.78 2.81-2.81c.8-.78.8-2.07 0-2.86zM5.41 20L4 18.59l7.72-7.72 1.47 1.35L5.41 20z\"/>\n",
              "  </svg>\n",
              "      </button>\n",
              "      \n",
              "  <style>\n",
              "    .colab-df-container {\n",
              "      display:flex;\n",
              "      flex-wrap:wrap;\n",
              "      gap: 12px;\n",
              "    }\n",
              "\n",
              "    .colab-df-convert {\n",
              "      background-color: #E8F0FE;\n",
              "      border: none;\n",
              "      border-radius: 50%;\n",
              "      cursor: pointer;\n",
              "      display: none;\n",
              "      fill: #1967D2;\n",
              "      height: 32px;\n",
              "      padding: 0 0 0 0;\n",
              "      width: 32px;\n",
              "    }\n",
              "\n",
              "    .colab-df-convert:hover {\n",
              "      background-color: #E2EBFA;\n",
              "      box-shadow: 0px 1px 2px rgba(60, 64, 67, 0.3), 0px 1px 3px 1px rgba(60, 64, 67, 0.15);\n",
              "      fill: #174EA6;\n",
              "    }\n",
              "\n",
              "    [theme=dark] .colab-df-convert {\n",
              "      background-color: #3B4455;\n",
              "      fill: #D2E3FC;\n",
              "    }\n",
              "\n",
              "    [theme=dark] .colab-df-convert:hover {\n",
              "      background-color: #434B5C;\n",
              "      box-shadow: 0px 1px 3px 1px rgba(0, 0, 0, 0.15);\n",
              "      filter: drop-shadow(0px 1px 2px rgba(0, 0, 0, 0.3));\n",
              "      fill: #FFFFFF;\n",
              "    }\n",
              "  </style>\n",
              "\n",
              "      <script>\n",
              "        const buttonEl =\n",
              "          document.querySelector('#df-4ee73ff1-76b8-48d8-a322-b962ea708f0b button.colab-df-convert');\n",
              "        buttonEl.style.display =\n",
              "          google.colab.kernel.accessAllowed ? 'block' : 'none';\n",
              "\n",
              "        async function convertToInteractive(key) {\n",
              "          const element = document.querySelector('#df-4ee73ff1-76b8-48d8-a322-b962ea708f0b');\n",
              "          const dataTable =\n",
              "            await google.colab.kernel.invokeFunction('convertToInteractive',\n",
              "                                                     [key], {});\n",
              "          if (!dataTable) return;\n",
              "\n",
              "          const docLinkHtml = 'Like what you see? Visit the ' +\n",
              "            '<a target=\"_blank\" href=https://colab.research.google.com/notebooks/data_table.ipynb>data table notebook</a>'\n",
              "            + ' to learn more about interactive tables.';\n",
              "          element.innerHTML = '';\n",
              "          dataTable['output_type'] = 'display_data';\n",
              "          await google.colab.output.renderOutput(dataTable, element);\n",
              "          const docLink = document.createElement('div');\n",
              "          docLink.innerHTML = docLinkHtml;\n",
              "          element.appendChild(docLink);\n",
              "        }\n",
              "      </script>\n",
              "    </div>\n",
              "  </div>\n",
              "  "
            ]
          },
          "metadata": {},
          "execution_count": 47
        }
      ],
      "source": [
        "# Gerando dataframe dos dados de treino\n",
        "X_testmod=pd.DataFrame(X_testmod,index=test_df.index,columns=test_df.columns) # indexando nomes das coluns do antigo dataframe para o novo dataframe\n",
        "X_testmod"
      ]
    },
    {
      "cell_type": "code",
      "execution_count": 48,
      "metadata": {
        "colab": {
          "base_uri": "https://localhost:8080/"
        },
        "id": "WFgj71x0RE-7",
        "outputId": "e435ef1e-d700-450c-dd0b-f3eebffee5f0"
      },
      "outputs": [
        {
          "output_type": "stream",
          "name": "stdout",
          "text": [
            "(2645, 13) (10462, 14)\n"
          ]
        }
      ],
      "source": [
        " print(X_testmod.shape, novo_df_treino.shape)"
      ]
    },
    {
      "cell_type": "code",
      "execution_count": 49,
      "metadata": {
        "id": "1tcJdUF1R7B_"
      },
      "outputs": [],
      "source": [
        "\n",
        "X_testmod.drop('Additional_Info', inplace=True, axis=1)\n"
      ]
    },
    {
      "cell_type": "code",
      "execution_count": 50,
      "metadata": {
        "colab": {
          "base_uri": "https://localhost:8080/"
        },
        "id": "M2e3vd9-TiBg",
        "outputId": "9792ec21-a7c0-4b1d-92ce-ddb7e5c082e1"
      },
      "outputs": [
        {
          "output_type": "execute_result",
          "data": {
            "text/plain": [
              "(2645, 12)"
            ]
          },
          "metadata": {},
          "execution_count": 50
        }
      ],
      "source": [
        "X_testmod.shape"
      ]
    },
    {
      "cell_type": "markdown",
      "metadata": {
        "id": "tnH22fpPj1P4"
      },
      "source": [
        "## MODELOS PREDITIVOS"
      ]
    },
    {
      "cell_type": "code",
      "execution_count": 51,
      "metadata": {
        "colab": {
          "base_uri": "https://localhost:8080/",
          "height": 715
        },
        "id": "YtaVDFp_DjVG",
        "outputId": "dab46364-3b77-4b72-b1c5-0389b8b73cdd"
      },
      "outputs": [
        {
          "output_type": "display_data",
          "data": {
            "text/plain": [
              "<Figure size 792x792 with 2 Axes>"
            ],
            "image/png": "[encoded data removed]"
          },
          "metadata": {
            "needs_background": "light"
          }
        }
      ],
      "source": [
        "# fazendo a correlação de todas variávies de treino\n",
        "plt.figure(figsize = (11,11))\n",
        "sns.heatmap(novo_df_treino.corr(), annot = True, cmap = \"RdYlGn\")\n",
        "plt.show()"
      ]
    },
    {
      "cell_type": "markdown",
      "metadata": {
        "id": "v18zgOphEuXn"
      },
      "source": [
        "Aqui irei dropar a variável addtional_info pela sua forte correlação e poucas informações precisas sobre á variável."
      ]
    },
    {
      "cell_type": "code",
      "execution_count": 52,
      "metadata": {
        "id": "TQWqw9TQkJpe"
      },
      "outputs": [],
      "source": [
        "# determinando as variáveis dependendente e target\n",
        "a=novo_df_treino.drop(['Price','Additional_Info'], axis=1)\n",
        "b=novo_df_treino['Price']\n"
      ]
    },
    {
      "cell_type": "code",
      "execution_count": 53,
      "metadata": {
        "id": "6pI4Rx59NrRA"
      },
      "outputs": [],
      "source": [
        "# Validação de folds\n",
        "validacao = KFold (n_splits=10,  shuffle=True   )"
      ]
    },
    {
      "cell_type": "code",
      "execution_count": 54,
      "metadata": {
        "id": "q-GQBC4K_i3F"
      },
      "outputs": [],
      "source": [
        "# Separação dos dados de treino e teste para a MP\n",
        "X_train, X_test, y_train, y_test = train_test_split(a,b, test_size = 0.2)"
      ]
    },
    {
      "cell_type": "code",
      "execution_count": 55,
      "metadata": {
        "colab": {
          "base_uri": "https://localhost:8080/"
        },
        "id": "QI1KcRARAPtS",
        "outputId": "f1e99467-0a00-4841-f2ea-f242961bcfd1"
      },
      "outputs": [
        {
          "output_type": "stream",
          "name": "stdout",
          "text": [
            "O shape de X_treino é: (8369, 12)\n",
            "O shape de Y_treino é: (8369,)\n",
            "O shape de de x_teste é: (2093, 12)\n",
            "O shape de y_teste é: (2093,)\n"
          ]
        }
      ],
      "source": [
        "print(\"O shape de X_treino é:\", X_train.shape)\n",
        "print(\"O shape de Y_treino é:\", y_train.shape)\n",
        "print(\"O shape de de x_teste é:\", X_test.shape)\n",
        "print(\"O shape de y_teste é:\", y_test.shape)"
      ]
    },
    {
      "cell_type": "markdown",
      "metadata": {
        "id": "rVt6ehDZXYL6"
      },
      "source": [
        "# KNN"
      ]
    },
    {
      "cell_type": "code",
      "execution_count": 56,
      "metadata": {
        "colab": {
          "base_uri": "https://localhost:8080/"
        },
        "id": "B0DrnC-Gnkd1",
        "outputId": "36736bd6-d929-4d02-fa54-1f3f1f5b0f10"
      },
      "outputs": [
        {
          "output_type": "stream",
          "name": "stdout",
          "text": [
            "Fitting 10 folds for each of 50 candidates, totalling 500 fits\n"
          ]
        },
        {
          "output_type": "execute_result",
          "data": {
            "text/plain": [
              "GridSearchCV(cv=KFold(n_splits=10, random_state=None, shuffle=True),\n",
              "             estimator=KNeighborsRegressor(), n_jobs=-1,\n",
              "             param_grid={'n_neighbors': array([ 1,  3,  5,  7,  9, 11, 13, 15, 17, 19, 21, 23, 25, 27, 29, 31, 33,\n",
              "       35, 37, 39, 41, 43, 45, 47, 49, 51, 53, 55, 57, 59, 61, 63, 65, 67,\n",
              "       69, 71, 73, 75, 77, 79, 81, 83, 85, 87, 89, 91, 93, 95, 97, 99])},\n",
              "             scoring='neg_mean_squared_error', verbose=1)"
            ]
          },
          "metadata": {},
          "execution_count": 56
        }
      ],
      "source": [
        "# Rodando o modelo\n",
        "modelo = KNeighborsRegressor( )\n",
        "validacao = KFold (n_splits=10,  shuffle=True )      \n",
        "parametros = { 'n_neighbors' : np.arange(1, 100, 2) }\n",
        "\n",
        "\n",
        "\n",
        "grid_knn = GridSearchCV( modelo, param_grid = parametros,\n",
        "                                   scoring = 'neg_mean_squared_error', \n",
        "                                   cv = validacao, \n",
        "                                   verbose = 1,\n",
        "                                   n_jobs = -1)\n",
        "\n",
        "grid_knn.fit(a,b)"
      ]
    },
    {
      "cell_type": "code",
      "execution_count": 57,
      "metadata": {
        "colab": {
          "base_uri": "https://localhost:8080/"
        },
        "id": "um9GdIL_b2Zw",
        "outputId": "d45d89a4-4637-44ee-e10d-012e1d35598f"
      },
      "outputs": [
        {
          "output_type": "execute_result",
          "data": {
            "text/plain": [
              "-0.22682144406524207"
            ]
          },
          "metadata": {},
          "execution_count": 57
        }
      ],
      "source": [
        "# buscando melhor score\n",
        "grid_knn.best_score_"
      ]
    },
    {
      "cell_type": "code",
      "execution_count": 58,
      "metadata": {
        "colab": {
          "base_uri": "https://localhost:8080/"
        },
        "id": "o8ofS-nAnCgd",
        "outputId": "10a615e0-8143-46fb-f8f0-aa7255ca4fa2"
      },
      "outputs": [
        {
          "output_type": "execute_result",
          "data": {
            "text/plain": [
              "{'n_neighbors': 3}"
            ]
          },
          "metadata": {},
          "execution_count": 58
        }
      ],
      "source": [
        "# Buscando o melhor parâmetros\n",
        "grid_knn.best_params_"
      ]
    },
    {
      "cell_type": "code",
      "execution_count": 59,
      "metadata": {
        "colab": {
          "base_uri": "https://localhost:8080/"
        },
        "id": "G0E7ayS7dJkV",
        "outputId": "56ff08c8-9072-434a-f0f2-a9e72cf45129"
      },
      "outputs": [
        {
          "output_type": "execute_result",
          "data": {
            "text/plain": [
              "array([-0.26632666, -0.22682144, -0.23610514, -0.24618788, -0.25991087,\n",
              "       -0.27247943, -0.28592691, -0.29896631, -0.30733972, -0.31493787,\n",
              "       -0.32127824, -0.32766147, -0.33393605, -0.33981875, -0.34509627,\n",
              "       -0.34993825, -0.35590812, -0.35994988, -0.36510418, -0.36916828,\n",
              "       -0.37336598, -0.3772189 , -0.37989851, -0.38355695, -0.38735467,\n",
              "       -0.39155353, -0.39508132, -0.39814141, -0.40189691, -0.40488281,\n",
              "       -0.40729553, -0.41003699, -0.4123694 , -0.41538205, -0.41843069,\n",
              "       -0.42094357, -0.42322106, -0.42561743, -0.42751296, -0.429863  ,\n",
              "       -0.43223087, -0.43443293, -0.43683978, -0.43890293, -0.44108804,\n",
              "       -0.44319857, -0.44510255, -0.44705119, -0.44893964, -0.45074906])"
            ]
          },
          "metadata": {},
          "execution_count": 59
        }
      ],
      "source": [
        "# Buscando os resultados\n",
        "grid_knn.cv_results_['mean_test_score']"
      ]
    },
    {
      "cell_type": "code",
      "execution_count": 60,
      "metadata": {
        "colab": {
          "base_uri": "https://localhost:8080/",
          "height": 265
        },
        "id": "3LeKpIy9W5fS",
        "outputId": "cb68c523-4d80-4ceb-8572-bc0e8e356fed"
      },
      "outputs": [
        {
          "output_type": "display_data",
          "data": {
            "text/plain": [
              "<Figure size 432x288 with 1 Axes>"
            ],
            "image/png": "[encoded data removed]"
          },
          "metadata": {
            "needs_background": "light"
          }
        }
      ],
      "source": [
        "# Verificando os melhores resultados do modelo em gráficos\n",
        "import matplotlib.pyplot as plt\n",
        "plt.plot(np.arange(1, 100, 2), grid_knn.cv_results_['mean_test_score']);"
      ]
    },
    {
      "cell_type": "markdown",
      "metadata": {
        "id": "HvKtFkKWZxR0"
      },
      "source": [
        "O gráfico demonstra que os melhores resultados estão entre 0,21 e qualquer resultado acima é gasto de processamento"
      ]
    },
    {
      "cell_type": "markdown",
      "metadata": {
        "id": "3jmtQiy_avEo"
      },
      "source": [
        "# ÁRVORE DE DECISÃO"
      ]
    },
    {
      "cell_type": "code",
      "execution_count": 61,
      "metadata": {
        "colab": {
          "base_uri": "https://localhost:8080/"
        },
        "id": "LQOY5yema06f",
        "outputId": "a0d1aa26-c577-4127-d037-3b7576c7c7fa"
      },
      "outputs": [
        {
          "output_type": "stream",
          "name": "stdout",
          "text": [
            "Fitting 10 folds for each of 297 candidates, totalling 2970 fits\n"
          ]
        },
        {
          "output_type": "execute_result",
          "data": {
            "text/plain": [
              "GridSearchCV(cv=KFold(n_splits=10, random_state=None, shuffle=True),\n",
              "             estimator=DecisionTreeRegressor(), n_jobs=-1,\n",
              "             param_grid={'max_depth': array([ 1,  4,  7, 10, 13, 16, 19, 22, 25, 28, 31, 34, 37, 40, 43, 46, 49,\n",
              "       52, 55, 58, 61, 64, 67, 70, 73, 76, 79, 82, 85, 88, 91, 94, 97]),\n",
              "                         'min_samples_leaf': [1, 3, 5],\n",
              "                         'min_samples_split': [2, 5, 10]},\n",
              "             scoring='neg_mean_squared_error', verbose=1)"
            ]
          },
          "metadata": {},
          "execution_count": 61
        }
      ],
      "source": [
        "# Rodando o modelo\n",
        "\n",
        "modelo = DecisionTreeRegressor( )\n",
        "        \n",
        "parametros = { 'max_depth' : np.arange(1, 100, 3), \n",
        "              'min_samples_split': [2, 5, 10],\n",
        "              'min_samples_leaf': [1, 3, 5]\n",
        "              } \n",
        "\n",
        "#score=['neg_mean_absolute_error','neg_mean_squared_error']\n",
        "\n",
        "grid_arv= GridSearchCV(modelo, param_grid = parametros,\n",
        "                                   scoring = 'neg_mean_squared_error', \n",
        "                                   cv = validacao, \n",
        "                                   verbose = 1,\n",
        "                                   n_jobs = -1)\n",
        "\n",
        "grid_arv.fit(a,b)"
      ]
    },
    {
      "cell_type": "code",
      "execution_count": 62,
      "metadata": {
        "colab": {
          "base_uri": "https://localhost:8080/"
        },
        "id": "4586QWdWfeyL",
        "outputId": "78514313-fd8e-4872-f1e2-a2db61f07f55"
      },
      "outputs": [
        {
          "output_type": "stream",
          "name": "stdout",
          "text": [
            "O melhor score é: -0.14633556444689014\n"
          ]
        }
      ],
      "source": [
        "# Buscando melhor score\n",
        "print('O melhor score é:', grid_arv.best_score_)"
      ]
    },
    {
      "cell_type": "code",
      "execution_count": 63,
      "metadata": {
        "colab": {
          "base_uri": "https://localhost:8080/"
        },
        "id": "8hKcbakZfr_r",
        "outputId": "d53601c8-d8de-4101-a8d7-461ed96146f7"
      },
      "outputs": [
        {
          "output_type": "stream",
          "name": "stdout",
          "text": [
            "O melhor parametro é:\n"
          ]
        },
        {
          "output_type": "execute_result",
          "data": {
            "text/plain": [
              "{'max_depth': 16, 'min_samples_leaf': 1, 'min_samples_split': 10}"
            ]
          },
          "metadata": {},
          "execution_count": 63
        }
      ],
      "source": [
        "# buscando melhor parâmentros\n",
        "print('O melhor parametro é:')\n",
        "grid_arv.best_params_\n"
      ]
    },
    {
      "cell_type": "code",
      "execution_count": 64,
      "metadata": {
        "colab": {
          "base_uri": "https://localhost:8080/"
        },
        "id": "JYt8ZjRqf3pb",
        "outputId": "ab6a0721-002a-4f80-85f4-e8a027351c77"
      },
      "outputs": [
        {
          "output_type": "stream",
          "name": "stdout",
          "text": [
            "Os resultados sao: \n"
          ]
        },
        {
          "output_type": "execute_result",
          "data": {
            "text/plain": [
              "array([-0.6265249 , -0.6265249 , -0.6265249 , -0.6265249 , -0.6265249 ,\n",
              "       -0.6265249 , -0.6265249 , -0.6265249 , -0.6265249 , -0.45064268,\n",
              "       -0.45064268, -0.45064268, -0.45066804, -0.45066804, -0.45066804,\n",
              "       -0.45160798, -0.45160798, -0.45160798, -0.2435809 , -0.24491022,\n",
              "       -0.24135313, -0.26011644, -0.26048544, -0.26154216, -0.25368303,\n",
              "       -0.2536803 , -0.25371725, -0.1771847 , -0.17941839, -0.17759894,\n",
              "       -0.18424418, -0.18567386, -0.18771289, -0.19015227, -0.1899311 ,\n",
              "       -0.19039502, -0.15727478, -0.15752451, -0.15986656, -0.16643681,\n",
              "       -0.16723596, -0.16546635, -0.16935394, -0.16918974, -0.16950949,\n",
              "       -0.15222673, -0.14925437, -0.14633556, -0.16059215, -0.16029216,\n",
              "       -0.15932199, -0.16276601, -0.16308045, -0.16298209, -0.16074726,\n",
              "       -0.15391144, -0.14892566, -0.16231967, -0.16240093, -0.16032649,\n",
              "       -0.16380471, -0.16345259, -0.16358776, -0.17057156, -0.15205   ,\n",
              "       -0.14969652, -0.16339479, -0.16323072, -0.16033056, -0.16355376,\n",
              "       -0.16395462, -0.16386564, -0.17020193, -0.1551921 , -0.14926782,\n",
              "       -0.16415241, -0.1635785 , -0.16035531, -0.16396155, -0.16338205,\n",
              "       -0.16359074, -0.17141954, -0.15615362, -0.15390672, -0.16343946,\n",
              "       -0.16364416, -0.16044278, -0.16364642, -0.16370506, -0.16388872,\n",
              "       -0.16215947, -0.15614615, -0.14922935, -0.16315216, -0.16336116,\n",
              "       -0.16032708, -0.16379976, -0.16356994, -0.16338229, -0.16390204,\n",
              "       -0.15308343, -0.15044909, -0.16403555, -0.16330542, -0.16087972,\n",
              "       -0.16339823, -0.16352551, -0.16351409, -0.16681804, -0.15178698,\n",
              "       -0.15476012, -0.16316307, -0.16320161, -0.16085139, -0.16360039,\n",
              "       -0.16356353, -0.16371211, -0.16203595, -0.15263388, -0.15455448,\n",
              "       -0.16345117, -0.16366913, -0.16063227, -0.16381868, -0.1638464 ,\n",
              "       -0.16360015, -0.1790702 , -0.15711906, -0.15476717, -0.16302778,\n",
              "       -0.16291327, -0.16097726, -0.16371435, -0.16362733, -0.16377282,\n",
              "       -0.16535265, -0.15231641, -0.14987623, -0.1632522 , -0.16339576,\n",
              "       -0.16072266, -0.16372317, -0.16385006, -0.1635104 , -0.17265158,\n",
              "       -0.15460712, -0.1546697 , -0.16302365, -0.16329558, -0.16073079,\n",
              "       -0.16339028, -0.16352057, -0.16353882, -0.16468512, -0.1525598 ,\n",
              "       -0.15416027, -0.16435574, -0.16305293, -0.16054169, -0.16365337,\n",
              "       -0.1635482 , -0.16395339, -0.16661875, -0.1542695 , -0.15006523,\n",
              "       -0.16385453, -0.16392734, -0.16101549, -0.1637896 , -0.16352981,\n",
              "       -0.16349991, -0.15451554, -0.15197708, -0.1548056 , -0.16407622,\n",
              "       -0.1631759 , -0.16129476, -0.16349281, -0.1636045 , -0.16343822,\n",
              "       -0.16525399, -0.15769698, -0.15408088, -0.16322219, -0.16412716,\n",
              "       -0.16116973, -0.16359997, -0.16357232, -0.16356807, -0.1715815 ,\n",
              "       -0.15000056, -0.15001276, -0.16358573, -0.1627269 , -0.16067953,\n",
              "       -0.1635759 , -0.16379447, -0.16371652, -0.16918061, -0.15777737,\n",
              "       -0.15503457, -0.16288072, -0.16259185, -0.16031545, -0.16360562,\n",
              "       -0.16344635, -0.16400451, -0.16421506, -0.15782318, -0.14907519,\n",
              "       -0.1630622 , -0.16267729, -0.1605136 , -0.16354714, -0.16351834,\n",
              "       -0.16372106, -0.15757613, -0.15691404, -0.15355499, -0.16326001,\n",
              "       -0.16283077, -0.1606093 , -0.16353528, -0.16381388, -0.16355361,\n",
              "       -0.15726955, -0.15071816, -0.15422543, -0.16275374, -0.16367287,\n",
              "       -0.16027723, -0.16342031, -0.16354965, -0.1639174 , -0.15941041,\n",
              "       -0.15783231, -0.15432178, -0.1637889 , -0.16350157, -0.16112781,\n",
              "       -0.16354659, -0.16341848, -0.16390127, -0.1747258 , -0.15729291,\n",
              "       -0.15403514, -0.16279413, -0.1643472 , -0.16034497, -0.16345822,\n",
              "       -0.1635397 , -0.16343936, -0.16793696, -0.15460077, -0.14955199,\n",
              "       -0.16400219, -0.16271001, -0.16020349, -0.16373275, -0.16348846,\n",
              "       -0.16386188, -0.15989371, -0.1516491 , -0.15100895, -0.16277185,\n",
              "       -0.16298649, -0.1607291 , -0.16357331, -0.16343554, -0.1635951 ,\n",
              "       -0.17015857, -0.1577097 , -0.15424601, -0.16342301, -0.16300964,\n",
              "       -0.16064209, -0.16348975, -0.16380187, -0.16349023, -0.17426707,\n",
              "       -0.15617843, -0.15483016, -0.16284915, -0.16304023, -0.16054353,\n",
              "       -0.16372739, -0.16376386, -0.16359256, -0.17225673, -0.15040814,\n",
              "       -0.1490706 , -0.16387482, -0.16371051, -0.1613796 , -0.16386283,\n",
              "       -0.16362988, -0.16343128])"
            ]
          },
          "metadata": {},
          "execution_count": 64
        }
      ],
      "source": [
        "# Buscando os resultados\n",
        "print('Os resultados sao: ')\n",
        "\n",
        "grid_arv.cv_results_['mean_test_score']"
      ]
    },
    {
      "cell_type": "code",
      "execution_count": 65,
      "metadata": {
        "colab": {
          "base_uri": "https://localhost:8080/",
          "height": 265
        },
        "id": "dxd_oMIBgA9i",
        "outputId": "7a30ff05-3270-4365-8e71-f8c9f170c991"
      },
      "outputs": [
        {
          "output_type": "display_data",
          "data": {
            "text/plain": [
              "<Figure size 432x288 with 1 Axes>"
            ],
            "image/png": "[encoded data removed]"
          },
          "metadata": {
            "needs_background": "light"
          }
        }
      ],
      "source": [
        "# buscando o resultado do modelo no gráfico\n",
        "plt.plot( grid_arv.cv_results_['mean_test_score']);"
      ]
    },
    {
      "cell_type": "markdown",
      "metadata": {
        "id": "SRMOL2e0iQNa"
      },
      "source": [
        "Aqui percebe-se que o modelo se estabiliza em resultado abaixo de 0,2"
      ]
    },
    {
      "cell_type": "markdown",
      "metadata": {
        "id": "330MZp-1jOYr"
      },
      "source": [
        "# RANDOM FOREST"
      ]
    },
    {
      "cell_type": "code",
      "execution_count": 66,
      "metadata": {
        "id": "xULGf-toifte",
        "colab": {
          "base_uri": "https://localhost:8080/"
        },
        "outputId": "1f89d646-cf4f-4a3b-9048-68ce90a17bf0"
      },
      "outputs": [
        {
          "metadata": {
            "tags": null
          },
          "name": "stdout",
          "output_type": "stream",
          "text": [
            "Fitting 10 folds for each of 360 candidates, totalling 3600 fits\n"
          ]
        },
        {
          "output_type": "execute_result",
          "data": {
            "text/plain": [
              "GridSearchCV(cv=KFold(n_splits=10, random_state=None, shuffle=True),\n",
              "             estimator=RandomForestRegressor(), n_jobs=-1,\n",
              "             param_grid={'bootstrap': [True, False],\n",
              "                         'max_depth': array([ 1,  6, 11, 16, 21, 26, 31, 36, 41, 46, 51, 56, 61, 66, 71, 76, 81,\n",
              "       86, 91, 96]),\n",
              "                         'min_samples_split': [2, 5, 3],\n",
              "                         'n_estimators': [25, 50, 70]},\n",
              "             scoring='neg_mean_squared_error', verbose=10)"
            ]
          },
          "metadata": {},
          "execution_count": 66
        }
      ],
      "source": [
        "# Rodando o modelo\n",
        "\n",
        "modelo = RandomForestRegressor( )\n",
        "        \n",
        "parametros = { 'max_depth' : np.arange(1, 100,5 ), \n",
        "              'n_estimators': [25, 50, 70], \n",
        "             \n",
        "              'bootstrap': [True, False] ,  \n",
        "              'min_samples_split': [2, 5,3 ]\n",
        "               } \n",
        "\n",
        "#score=['neg_mean_absolute_error','neg_mean_squared_error']\n",
        "\n",
        "rf_grid = GridSearchCV(modelo, param_grid = parametros,\n",
        "                                   scoring = 'neg_mean_squared_error', \n",
        "                                   cv = validacao, \n",
        "                                   verbose = 10,\n",
        "                                   n_jobs = -1)\n",
        "\n",
        "rf_grid.fit(a,b)"
      ]
    },
    {
      "cell_type": "code",
      "execution_count": 67,
      "metadata": {
        "id": "PytEG-Zim5Zm",
        "colab": {
          "base_uri": "https://localhost:8080/"
        },
        "outputId": "eb1bbdb3-6d9c-49f7-a678-01028936a15c"
      },
      "outputs": [
        {
          "output_type": "stream",
          "name": "stdout",
          "text": [
            "O melhor score é:\n"
          ]
        },
        {
          "output_type": "execute_result",
          "data": {
            "text/plain": [
              "-0.09961540235159194"
            ]
          },
          "metadata": {},
          "execution_count": 67
        }
      ],
      "source": [
        "# Buscando melhor score\n",
        "print('O melhor score é:')\n",
        "rf_grid.best_score_ "
      ]
    },
    {
      "cell_type": "code",
      "execution_count": 68,
      "metadata": {
        "id": "8jD7HE-CvISg",
        "colab": {
          "base_uri": "https://localhost:8080/"
        },
        "outputId": "4a90da53-596a-492d-9f54-915ecec3baa9"
      },
      "outputs": [
        {
          "output_type": "stream",
          "name": "stdout",
          "text": [
            "Os melhores parâmetros são: \n"
          ]
        },
        {
          "output_type": "execute_result",
          "data": {
            "text/plain": [
              "{'bootstrap': True,\n",
              " 'max_depth': 16,\n",
              " 'min_samples_split': 2,\n",
              " 'n_estimators': 70}"
            ]
          },
          "metadata": {},
          "execution_count": 68
        }
      ],
      "source": [
        "# buscando melhor parâmentros\n",
        "print('Os melhores parâmetros são: ')\n",
        "rf_grid.best_params_"
      ]
    },
    {
      "cell_type": "code",
      "execution_count": 69,
      "metadata": {
        "id": "0thh0ebjvIha",
        "colab": {
          "base_uri": "https://localhost:8080/"
        },
        "outputId": "6e961380-6099-47b8-914d-d6c3fa72a4d4"
      },
      "outputs": [
        {
          "output_type": "execute_result",
          "data": {
            "text/plain": [
              "array([-0.62655153, -0.6265483 , -0.62657482, -0.62662501, -0.62654092,\n",
              "       -0.62654886, -0.62655541, -0.62652132, -0.62656007, -0.25572315,\n",
              "       -0.25452124, -0.24781052, -0.24865992, -0.25103162, -0.25195543,\n",
              "       -0.25093861, -0.24844624, -0.25228221, -0.11780443, -0.11829986,\n",
              "       -0.1189401 , -0.12867028, -0.12500778, -0.12529907, -0.12633532,\n",
              "       -0.1204801 , -0.12065685, -0.10498135, -0.10311215, -0.0996154 ,\n",
              "       -0.10886029, -0.10346424, -0.10614941, -0.10018664, -0.10721215,\n",
              "       -0.10165169, -0.10706904, -0.10120107, -0.10275259, -0.10885229,\n",
              "       -0.10499142, -0.10477595, -0.10505062, -0.10393585, -0.10447194,\n",
              "       -0.11098963, -0.10392023, -0.10327242, -0.10992652, -0.10617994,\n",
              "       -0.10585405, -0.10583732, -0.10307212, -0.1028736 , -0.10375235,\n",
              "       -0.10593356, -0.10388775, -0.10679973, -0.10648452, -0.10664399,\n",
              "       -0.10581776, -0.10436478, -0.10639242, -0.1090985 , -0.10308453,\n",
              "       -0.10680217, -0.11295487, -0.10618825, -0.10594232, -0.10958148,\n",
              "       -0.10359197, -0.10298523, -0.10610971, -0.10488688, -0.1023775 ,\n",
              "       -0.10596035, -0.10758794, -0.10658964, -0.10575881, -0.10345714,\n",
              "       -0.10264279, -0.10461064, -0.10196459, -0.1039088 , -0.10733355,\n",
              "       -0.10784505, -0.10585204, -0.10760407, -0.10519018, -0.10385193,\n",
              "       -0.10460654, -0.1025572 , -0.10455371, -0.10875973, -0.10541733,\n",
              "       -0.10774329, -0.10660744, -0.10471242, -0.10473513, -0.10527127,\n",
              "       -0.10601894, -0.10515325, -0.10837378, -0.10676808, -0.10535527,\n",
              "       -0.10988287, -0.10389029, -0.10639407, -0.10596385, -0.1034686 ,\n",
              "       -0.10610545, -0.1087549 , -0.10831102, -0.10746861, -0.11006616,\n",
              "       -0.10814151, -0.10674212, -0.10703542, -0.10551908, -0.10260162,\n",
              "       -0.10589683, -0.10896008, -0.10604525, -0.1062699 , -0.10580108,\n",
              "       -0.10372355, -0.10472559, -0.10636912, -0.10506255, -0.11314047,\n",
              "       -0.10684877, -0.10612901, -0.11378918, -0.10502625, -0.10785502,\n",
              "       -0.10898178, -0.10474245, -0.10408681, -0.11191193, -0.10816854,\n",
              "       -0.10735967, -0.10413763, -0.10546184, -0.10608731, -0.11401618,\n",
              "       -0.10472897, -0.10395707, -0.1097226 , -0.10900108, -0.10574162,\n",
              "       -0.10614039, -0.10773407, -0.10489874, -0.10623515, -0.10750504,\n",
              "       -0.10413557, -0.10928388, -0.10416641, -0.10701843, -0.10583943,\n",
              "       -0.10670661, -0.10503668, -0.10761769, -0.10533552, -0.10603404,\n",
              "       -0.1124928 , -0.10741772, -0.10533531, -0.11095452, -0.10732411,\n",
              "       -0.1058904 , -0.10388746, -0.10409314, -0.10442532, -0.1103458 ,\n",
              "       -0.10965696, -0.10532646, -0.10429195, -0.1067305 , -0.10655367,\n",
              "       -0.62653823, -0.62653823, -0.62653823, -0.62653823, -0.62653823,\n",
              "       -0.62653823, -0.62653823, -0.62653823, -0.62653823, -0.31561058,\n",
              "       -0.31445062, -0.31488327, -0.32309491, -0.32226551, -0.3214476 ,\n",
              "       -0.31623432, -0.31653651, -0.3165949 , -0.15967174, -0.15884107,\n",
              "       -0.15968228, -0.17151713, -0.17204124, -0.1720363 , -0.16208593,\n",
              "       -0.16132028, -0.16352232, -0.14387702, -0.14489689, -0.14286124,\n",
              "       -0.1525005 , -0.15285993, -0.15218247, -0.14340035, -0.14466331,\n",
              "       -0.14577175, -0.14953527, -0.14784381, -0.1483248 , -0.15497601,\n",
              "       -0.15504563, -0.15547932, -0.14937896, -0.15013635, -0.15003241,\n",
              "       -0.14843625, -0.15182866, -0.15117031, -0.15584579, -0.15626967,\n",
              "       -0.1559372 , -0.15304717, -0.14987984, -0.15030116, -0.14976076,\n",
              "       -0.15059757, -0.15136356, -0.15580025, -0.15677187, -0.15587702,\n",
              "       -0.1504282 , -0.15034841, -0.151984  , -0.1523196 , -0.15114805,\n",
              "       -0.15113089, -0.15605011, -0.1562888 , -0.15615992, -0.15193438,\n",
              "       -0.15062599, -0.15218487, -0.15283802, -0.15111422, -0.15192542,\n",
              "       -0.1559143 , -0.15654002, -0.15604435, -0.15029832, -0.15342331,\n",
              "       -0.15263501, -0.15010028, -0.15001261, -0.15024793, -0.1577227 ,\n",
              "       -0.15584298, -0.15590977, -0.15282742, -0.15315081, -0.15346834,\n",
              "       -0.14998867, -0.14963739, -0.15222311, -0.15604097, -0.15653953,\n",
              "       -0.15552297, -0.15121248, -0.15035818, -0.15221005, -0.15305018,\n",
              "       -0.15097379, -0.15220199, -0.15675808, -0.1563316 , -0.15613978,\n",
              "       -0.15121114, -0.15306345, -0.15181571, -0.15109393, -0.15219964,\n",
              "       -0.15097981, -0.15653961, -0.1559205 , -0.15642742, -0.15372936,\n",
              "       -0.15066819, -0.15185273, -0.15145796, -0.15211166, -0.15141612,\n",
              "       -0.15649398, -0.15643295, -0.15573468, -0.15230969, -0.15333637,\n",
              "       -0.1512587 , -0.15159817, -0.15278153, -0.15115089, -0.15664889,\n",
              "       -0.15654974, -0.15584349, -0.15395909, -0.15323706, -0.1513892 ,\n",
              "       -0.1538236 , -0.1541987 , -0.14951559, -0.15571914, -0.15627494,\n",
              "       -0.15629443, -0.15043987, -0.15108987, -0.1527141 , -0.15291328,\n",
              "       -0.15220475, -0.15005063, -0.15638196, -0.15599378, -0.15599405,\n",
              "       -0.15220793, -0.15091692, -0.15130333, -0.15079488, -0.15111132,\n",
              "       -0.15144397, -0.15596981, -0.15645143, -0.15614625, -0.15312434,\n",
              "       -0.1512284 , -0.15169445, -0.1512501 , -0.15223109, -0.15080445,\n",
              "       -0.15591203, -0.15589572, -0.15580835, -0.15293764, -0.15059079,\n",
              "       -0.15412564, -0.15134701, -0.15023761, -0.15074404, -0.15558064,\n",
              "       -0.15603618, -0.15597874, -0.15169946, -0.15130266, -0.15199445])"
            ]
          },
          "metadata": {},
          "execution_count": 69
        }
      ],
      "source": [
        "# Buscando os resultados\n",
        "rf_grid.cv_results_['mean_test_score']"
      ]
    },
    {
      "cell_type": "code",
      "execution_count": 70,
      "metadata": {
        "id": "17FAyJEFj5XW",
        "colab": {
          "base_uri": "https://localhost:8080/",
          "height": 265
        },
        "outputId": "1a74eb68-998a-4c59-ddd1-326c8a5063e4"
      },
      "outputs": [
        {
          "output_type": "display_data",
          "data": {
            "text/plain": [
              "<Figure size 432x288 with 1 Axes>"
            ],
            "image/png": "[encoded data removed]"
          },
          "metadata": {
            "needs_background": "light"
          }
        }
      ],
      "source": [
        "# buscando o resultado do modelo no gráfico\n",
        "plt.plot( rf_grid.cv_results_['mean_test_score']);"
      ]
    },
    {
      "cell_type": "code",
      "execution_count": 71,
      "metadata": {
        "id": "6eiz03uFev04",
        "colab": {
          "base_uri": "https://localhost:8080/"
        },
        "outputId": "7065e384-2a31-4db6-b98d-3755180edc82"
      },
      "outputs": [
        {
          "output_type": "execute_result",
          "data": {
            "text/plain": [
              "RandomForestRegressor(max_depth=16, n_estimators=70)"
            ]
          },
          "metadata": {},
          "execution_count": 71
        }
      ],
      "source": [
        "# melhores estimadores\n",
        "rf_grid.best_estimator_"
      ]
    },
    {
      "cell_type": "markdown",
      "metadata": {
        "id": "ZMC2Iehac1u6"
      },
      "source": [
        "## Predição com o melhor modelo do \"grid\""
      ]
    },
    {
      "cell_type": "code",
      "execution_count": 72,
      "metadata": {
        "id": "SokYWJ_aFO1-",
        "colab": {
          "base_uri": "https://localhost:8080/"
        },
        "outputId": "7dea0e7c-348b-4d67-951b-bbc05b8314ad"
      },
      "outputs": [
        {
          "output_type": "execute_result",
          "data": {
            "text/plain": [
              "array([ 0.31502448,  0.85200249,  1.23199948, ...,  0.86541215,\n",
              "       -0.10223896, -1.15672449])"
            ]
          },
          "metadata": {},
          "execution_count": 72
        }
      ],
      "source": [
        "\n",
        "# fazendo a predição do novo modelo\n",
        "y_preditos_teste=rf_grid.predict(X_test)\n",
        "y_preditos_teste"
      ]
    },
    {
      "cell_type": "code",
      "execution_count": 73,
      "metadata": {
        "id": "e1DkZbs2bX_C",
        "colab": {
          "base_uri": "https://localhost:8080/",
          "height": 424
        },
        "outputId": "9eb38640-b8a3-488b-b52e-c40ca8088255"
      },
      "outputs": [
        {
          "output_type": "execute_result",
          "data": {
            "text/plain": [
              "           Real  Previsoes_da_Máquina\n",
              "10582  0.137570              0.315024\n",
              "3542   0.792541              0.852002\n",
              "4226   1.229766              1.231999\n",
              "5290  -0.913109             -0.911654\n",
              "273    1.999774              2.004963\n",
              "...         ...                   ...\n",
              "10240  0.890063              0.791678\n",
              "3092   1.229766              1.393536\n",
              "7795   0.865412              0.865412\n",
              "1977  -0.118451             -0.102239\n",
              "2959  -1.212593             -1.156724\n",
              "\n",
              "[2093 rows x 2 columns]"
            ],
            "text/html": [
              "\n",
              "  <div id=\"df-0dbe9d87-2642-4f78-85ab-a7288e107c9a\">\n",
              "    <div class=\"colab-df-container\">\n",
              "      <div>\n",
              "<style scoped>\n",
              "    .dataframe tbody tr th:only-of-type {\n",
              "        vertical-align: middle;\n",
              "    }\n",
              "\n",
              "    .dataframe tbody tr th {\n",
              "        vertical-align: top;\n",
              "    }\n",
              "\n",
              "    .dataframe thead th {\n",
              "        text-align: right;\n",
              "    }\n",
              "</style>\n",
              "<table border=\"1\" class=\"dataframe\">\n",
              "  <thead>\n",
              "    <tr style=\"text-align: right;\">\n",
              "      <th></th>\n",
              "      <th>Real</th>\n",
              "      <th>Previsoes_da_Máquina</th>\n",
              "    </tr>\n",
              "  </thead>\n",
              "  <tbody>\n",
              "    <tr>\n",
              "      <th>10582</th>\n",
              "      <td>0.137570</td>\n",
              "      <td>0.315024</td>\n",
              "    </tr>\n",
              "    <tr>\n",
              "      <th>3542</th>\n",
              "      <td>0.792541</td>\n",
              "      <td>0.852002</td>\n",
              "    </tr>\n",
              "    <tr>\n",
              "      <th>4226</th>\n",
              "      <td>1.229766</td>\n",
              "      <td>1.231999</td>\n",
              "    </tr>\n",
              "    <tr>\n",
              "      <th>5290</th>\n",
              "      <td>-0.913109</td>\n",
              "      <td>-0.911654</td>\n",
              "    </tr>\n",
              "    <tr>\n",
              "      <th>273</th>\n",
              "      <td>1.999774</td>\n",
              "      <td>2.004963</td>\n",
              "    </tr>\n",
              "    <tr>\n",
              "      <th>...</th>\n",
              "      <td>...</td>\n",
              "      <td>...</td>\n",
              "    </tr>\n",
              "    <tr>\n",
              "      <th>10240</th>\n",
              "      <td>0.890063</td>\n",
              "      <td>0.791678</td>\n",
              "    </tr>\n",
              "    <tr>\n",
              "      <th>3092</th>\n",
              "      <td>1.229766</td>\n",
              "      <td>1.393536</td>\n",
              "    </tr>\n",
              "    <tr>\n",
              "      <th>7795</th>\n",
              "      <td>0.865412</td>\n",
              "      <td>0.865412</td>\n",
              "    </tr>\n",
              "    <tr>\n",
              "      <th>1977</th>\n",
              "      <td>-0.118451</td>\n",
              "      <td>-0.102239</td>\n",
              "    </tr>\n",
              "    <tr>\n",
              "      <th>2959</th>\n",
              "      <td>-1.212593</td>\n",
              "      <td>-1.156724</td>\n",
              "    </tr>\n",
              "  </tbody>\n",
              "</table>\n",
              "<p>2093 rows × 2 columns</p>\n",
              "</div>\n",
              "      <button class=\"colab-df-convert\" onclick=\"convertToInteractive('df-0dbe9d87-2642-4f78-85ab-a7288e107c9a')\"\n",
              "              title=\"Convert this dataframe to an interactive table.\"\n",
              "              style=\"display:none;\">\n",
              "        \n",
              "  <svg xmlns=\"http://www.w3.org/2000/svg\" height=\"24px\"viewBox=\"0 0 24 24\"\n",
              "       width=\"24px\">\n",
              "    <path d=\"M0 0h24v24H0V0z\" fill=\"none\"/>\n",
              "    <path d=\"M18.56 5.44l.94 2.06.94-2.06 2.06-.94-2.06-.94-.94-2.06-.94 2.06-2.06.94zm-11 1L8.5 8.5l.94-2.06 2.06-.94-2.06-.94L8.5 2.5l-.94 2.06-2.06.94zm10 10l.94 2.06.94-2.06 2.06-.94-2.06-.94-.94-2.06-.94 2.06-2.06.94z\"/><path d=\"M17.41 7.96l-1.37-1.37c-.4-.4-.92-.59-1.43-.59-.52 0-1.04.2-1.43.59L10.3 9.45l-7.72 7.72c-.78.78-.78 2.05 0 2.83L4 21.41c.39.39.9.59 1.41.59.51 0 1.02-.2 1.41-.59l7.78-7.78 2.81-2.81c.8-.78.8-2.07 0-2.86zM5.41 20L4 18.59l7.72-7.72 1.47 1.35L5.41 20z\"/>\n",
              "  </svg>\n",
              "      </button>\n",
              "      \n",
              "  <style>\n",
              "    .colab-df-container {\n",
              "      display:flex;\n",
              "      flex-wrap:wrap;\n",
              "      gap: 12px;\n",
              "    }\n",
              "\n",
              "    .colab-df-convert {\n",
              "      background-color: #E8F0FE;\n",
              "      border: none;\n",
              "      border-radius: 50%;\n",
              "      cursor: pointer;\n",
              "      display: none;\n",
              "      fill: #1967D2;\n",
              "      height: 32px;\n",
              "      padding: 0 0 0 0;\n",
              "      width: 32px;\n",
              "    }\n",
              "\n",
              "    .colab-df-convert:hover {\n",
              "      background-color: #E2EBFA;\n",
              "      box-shadow: 0px 1px 2px rgba(60, 64, 67, 0.3), 0px 1px 3px 1px rgba(60, 64, 67, 0.15);\n",
              "      fill: #174EA6;\n",
              "    }\n",
              "\n",
              "    [theme=dark] .colab-df-convert {\n",
              "      background-color: #3B4455;\n",
              "      fill: #D2E3FC;\n",
              "    }\n",
              "\n",
              "    [theme=dark] .colab-df-convert:hover {\n",
              "      background-color: #434B5C;\n",
              "      box-shadow: 0px 1px 3px 1px rgba(0, 0, 0, 0.15);\n",
              "      filter: drop-shadow(0px 1px 2px rgba(0, 0, 0, 0.3));\n",
              "      fill: #FFFFFF;\n",
              "    }\n",
              "  </style>\n",
              "\n",
              "      <script>\n",
              "        const buttonEl =\n",
              "          document.querySelector('#df-0dbe9d87-2642-4f78-85ab-a7288e107c9a button.colab-df-convert');\n",
              "        buttonEl.style.display =\n",
              "          google.colab.kernel.accessAllowed ? 'block' : 'none';\n",
              "\n",
              "        async function convertToInteractive(key) {\n",
              "          const element = document.querySelector('#df-0dbe9d87-2642-4f78-85ab-a7288e107c9a');\n",
              "          const dataTable =\n",
              "            await google.colab.kernel.invokeFunction('convertToInteractive',\n",
              "                                                     [key], {});\n",
              "          if (!dataTable) return;\n",
              "\n",
              "          const docLinkHtml = 'Like what you see? Visit the ' +\n",
              "            '<a target=\"_blank\" href=https://colab.research.google.com/notebooks/data_table.ipynb>data table notebook</a>'\n",
              "            + ' to learn more about interactive tables.';\n",
              "          element.innerHTML = '';\n",
              "          dataTable['output_type'] = 'display_data';\n",
              "          await google.colab.output.renderOutput(dataTable, element);\n",
              "          const docLink = document.createElement('div');\n",
              "          docLink.innerHTML = docLinkHtml;\n",
              "          element.appendChild(docLink);\n",
              "        }\n",
              "      </script>\n",
              "    </div>\n",
              "  </div>\n",
              "  "
            ]
          },
          "metadata": {},
          "execution_count": 73
        }
      ],
      "source": [
        "\n",
        "gabarito = pd.DataFrame({'Real':y_test,'Previsoes_da_Máquina': y_preditos_teste})\n",
        "gabarito\n",
        "\n"
      ]
    },
    {
      "cell_type": "code",
      "execution_count": 74,
      "metadata": {
        "id": "uf6UTSD1gWyD",
        "colab": {
          "base_uri": "https://localhost:8080/",
          "height": 391
        },
        "outputId": "0d873662-93ac-4024-eb81-6d77c36ca3e4"
      },
      "outputs": [
        {
          "output_type": "execute_result",
          "data": {
            "text/plain": [
              "<matplotlib.axes._subplots.AxesSubplot at 0x7f9d4f6ddb90>"
            ]
          },
          "metadata": {},
          "execution_count": 74
        },
        {
          "output_type": "display_data",
          "data": {
            "text/plain": [
              "<Figure size 1080x432 with 1 Axes>"
            ],
            "image/png": "[encoded data removed]"
          },
          "metadata": {
            "needs_background": "light"
          }
        }
      ],
      "source": [
        "fig, ax = plt.subplots(1,  figsize=(15, 6));\n",
        "sns.histplot (data=gabarito , bins=100, )"
      ]
    },
    {
      "cell_type": "markdown",
      "metadata": {
        "id": "syPskbTS-AwH"
      },
      "source": [
        "O histograma apresenta uma distrinuição bem concentrada entre as previsões reais com pouco erros na previsão da máquina, isso valida o bom comportamento do modelo."
      ]
    },
    {
      "cell_type": "markdown",
      "metadata": {
        "id": "KOlYdQNkg_7t"
      },
      "source": [
        "#### AVALIAÇÃO DE MÉTRICAS NO TREINO"
      ]
    },
    {
      "cell_type": "code",
      "execution_count": 75,
      "metadata": {
        "id": "ruKTr51ahGBr"
      },
      "outputs": [],
      "source": [
        "y_preditos_treino=rf_grid.predict(X_train)"
      ]
    },
    {
      "cell_type": "code",
      "execution_count": 76,
      "metadata": {
        "id": "B4ixvH_0hkpu",
        "colab": {
          "base_uri": "https://localhost:8080/"
        },
        "outputId": "f53de4c6-ccc1-47b1-9676-1386ab03a48d"
      },
      "outputs": [
        {
          "output_type": "stream",
          "name": "stdout",
          "text": [
            "Resultado do treino do grid do randomforest:\n",
            "Root Mean squared Error RMSE:  0.13801459554042253\n",
            "Mean Absolute % Error:  0.06582774520227777\n",
            "R-Squared:  0.9798748046028224\n"
          ]
        }
      ],
      "source": [
        "# Printando as Métricas de Avaliação da MP com dados de treino\n",
        "print(\"Resultado do treino do grid do randomforest:\")\n",
        "print(\"Root Mean squared Error RMSE: \", sqrt(mse(y_train, y_preditos_treino)))\n",
        "print(\"Mean Absolute % Error: \", ( mean_absolute_error  (y_train, y_preditos_treino)))\n",
        "print(\"R-Squared: \", r2_score(y_train, y_preditos_treino))"
      ]
    },
    {
      "cell_type": "markdown",
      "metadata": {
        "id": "yriPICeol4MG"
      },
      "source": [
        "#### AVALIAÇÃO DE MÉTRICAS NO TESTE"
      ]
    },
    {
      "cell_type": "code",
      "execution_count": 77,
      "metadata": {
        "id": "Dm6k-BABl-0r",
        "colab": {
          "base_uri": "https://localhost:8080/"
        },
        "outputId": "7fadd4dd-673a-41a4-ecdb-164a31283ab8"
      },
      "outputs": [
        {
          "output_type": "stream",
          "name": "stdout",
          "text": [
            "Resultado do teste do grid do randomforest:\n",
            "Root Mean squared Error RMSE:  0.1681581147142089\n",
            "Mean Absolute % Error:  0.06536547713264586\n",
            "R-Squared:  0.976707320649484\n"
          ]
        }
      ],
      "source": [
        "# Printando as Métricas de Avaliação da MP com dados de treino\n",
        "print(\"Resultado do teste do grid do randomforest:\")\n",
        "print(\"Root Mean squared Error RMSE: \", sqrt(mse(y_test, y_preditos_teste)))\n",
        "print(\"Mean Absolute % Error: \", ( mean_absolute_error  (y_test, y_preditos_teste)))\n",
        "print(\"R-Squared: \", r2_score(y_test, y_preditos_teste))"
      ]
    },
    {
      "cell_type": "markdown",
      "source": [
        "#### SALVANDO O MODELO"
      ],
      "metadata": {
        "id": "kjPJfK5d7Fnm"
      }
    },
    {
      "cell_type": "code",
      "source": [
        "import joblib\n",
        "model_name = \"modelo_prev_aerea.pkl\"\n",
        "joblib.dump(value=rf_grid , filename=model_name)"
      ],
      "metadata": {
        "colab": {
          "base_uri": "https://localhost:8080/"
        },
        "id": "cudIaBTp7kky",
        "outputId": "47f799ea-bff9-4cad-d317-3cd031fc84ab"
      },
      "execution_count": 80,
      "outputs": [
        {
          "output_type": "execute_result",
          "data": {
            "text/plain": [
              "['modelo_prev_aerea.pkl']"
            ]
          },
          "metadata": {},
          "execution_count": 80
        }
      ]
    },
    {
      "cell_type": "code",
      "source": [
        "# lendo modelo\n",
        "model_name=joblib.load(\"modelo_prev_aerea.pkl\")"
      ],
      "metadata": {
        "id": "9dmS_CvqeK4x"
      },
      "execution_count": 83,
      "outputs": []
    },
    {
      "cell_type": "code",
      "source": [
        "# predizendo em novos dados\n",
        "model_name.predict(X_test)"
      ],
      "metadata": {
        "id": "n92cvzFWdm7r",
        "outputId": "24a294a5-e998-413e-df61-516d32d8cc96",
        "colab": {
          "base_uri": "https://localhost:8080/"
        }
      },
      "execution_count": 86,
      "outputs": [
        {
          "output_type": "execute_result",
          "data": {
            "text/plain": [
              "array([ 0.30240774,  0.83807238,  1.23257228, ...,  0.86541215,\n",
              "       -0.10661834, -1.16373569])"
            ]
          },
          "metadata": {},
          "execution_count": 86
        }
      ]
    },
    {
      "cell_type": "markdown",
      "source": [
        "#### CONSIDERAÇÕES FINAIS"
      ],
      "metadata": {
        "id": "GWPVyUXO8wDz"
      }
    },
    {
      "cell_type": "markdown",
      "source": [
        "Através das análises do dados verificou-se que:\n",
        "\n",
        "- Até 50% dos preços das passagens estão em torno de 8372 moeda local da india,sendo que exitem preços de 79.512 que reflete uam caracterísitica de serviços ou produtos diferenciado (voos executivos por exemplos).\n",
        "\n",
        "\n",
        "- Em relação preços e localização do inicio das viagens, percebe-se que os valores se emcontram nos custos de 10000 e 20000. Porém KOLKATA e DELHI apresentam uma leve supremacia em relação às outras. além disso, esse gráfico apresenta os cincos principais voos de origens\n",
        "\n",
        "- Quanto ao preço por destino se destaca COCHIN  e  BANGLORE com os melhores preços destinos. è importante ressaltar que os voos de destino se diferenciam em preços e localização aos de origens.\n",
        "\n",
        "- O maior número de viagens em relação ao preço, está com duração de 10hs e valor de 14714. porém existem preços menores com a mesma duraçao de viagens, levando a considerar que a duração do tempo de voo, não determina por si só as tarifas.Isso significa que é preciso conversar com a área de negócio sobre formação de preços.\n",
        "\n",
        "- Quanto á modelagemo modelo escolhido foi baseado nos testes com métricas de avaliação que precisou um erro médio absoluto de 6%, com acertividade de 94%,onde as variáveis explicativas contibuiram com o modelo em em 97%, porém é preciso que o modelo seja checado de forma a garantir à eficiencia da proposta"
      ],
      "metadata": {
        "id": "HRGhFWAA9Pf-"
      }
    }
  ],
  "metadata": {
    "accelerator": "GPU",
    "colab": {
      "name": "MODELO_DE_PREVISAO_PASSAGENS_AEREAS_01.ipynb",
      "provenance": [],
      "mount_file_id": "1EtC01IRrx4MLS-YYevCmrt7b_3oArEF4",
      "authorship_tag": "ABX9TyPnwdmqWuw9yVQsCsJ5V6l0",
      "include_colab_link": true
    },
    "kernelspec": {
      "display_name": "Python 3",
      "name": "python3"
    },
    "language_info": {
      "name": "python"
    }
  },
  "nbformat": 4,
  "nbformat_minor": 0
}